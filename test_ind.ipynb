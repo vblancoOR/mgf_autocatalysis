{
 "cells": [
  {
   "cell_type": "code",
   "execution_count": null,
   "metadata": {},
   "outputs": [],
   "source": [
    "from main import *\n",
    "import numpy as np\n",
    "import sys\n",
    "\n",
    "import pandas as pd\n",
    "np.set_printoptions(suppress=True)\n",
    "print(\"n \\t m \\t d \\t rep \\t steps \\t time \\t\\t alpha \\t IsAut_Sp \\t IsAut_Re\")\n",
    "df = pd.DataFrame(columns=['n', 'm', 'd', 'rep', 'steps', 'time', 'alpha', 'x', 'IsAut_Sp', 'IsAut_Re'])\n",
    "row=0\n",
    "n=20\n",
    "m=20\n",
    "d=3\n",
    "rep=1\n",
    "input_matrix= np.loadtxt(\"instances/left_n%dm%dd%d_%d.txt\"%(n,m,d,rep))\n",
    "output_matrix= np.loadtxt(\"instances/right_n%dm%dd%d_%d.txt\"%(n,m,d,rep))\n",
    "#XX = code.growthRateGraph(output_matrix, input_matrix, 10000)\n",
    "XX = code.growthRateGraph_a(output_matrix, input_matrix, 10000)\n",
    "xsol = XX[0]\n",
    "alphasol =XX[1]\n",
    "step = XX[2]\n",
    "time=XX[4]\n",
    "asol=XX[5]\n",
    "# print(\"steps: \", step)\n",
    "# print(\"x: \", xsol)\n",
    "# print(\"alpha: \", alphasol)\n",
    "# print(\"time: \", time)\n",
    "isA_sp, isA_re=IsAutonomous(input_matrix, output_matrix)\n",
    "print(\"%d \\t %d \\t %d \\t %d \\t %d \\t %.4f \\t %.4f\"%(n,m,d,rep,step,time,alphasol), \"\\t\", asol, isA_sp, isA_re, sep=\"\\t\")"
   ]
  }
 ],
 "metadata": {
  "language_info": {
   "name": "python"
  }
 },
 "nbformat": 4,
 "nbformat_minor": 2
}
