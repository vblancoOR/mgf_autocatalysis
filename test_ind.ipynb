{
 "cells": [
  {
   "cell_type": "code",
   "execution_count": 1,
   "metadata": {},
   "outputs": [],
   "source": [
    "from main import *\n",
    "import numpy as np\n",
    "import sys\n",
    "\n",
    "import pandas as pd\n",
    "np.set_printoptions(suppress=True)\n",
    "\n"
   ]
  },
  {
   "cell_type": "code",
   "execution_count": 2,
   "metadata": {},
   "outputs": [],
   "source": [
    "SM = np.loadtxt(\"praful/stoichiometric_matrix.txt\")\n",
    "input_matrix, output_matrix, names_rows, names_cols =CleanData(SM)\n",
    "n, m =input_matrix.shape"
   ]
  },
  {
   "cell_type": "code",
   "execution_count": 3,
   "metadata": {},
   "outputs": [
    {
     "name": "stdout",
     "output_type": "stream",
     "text": [
      "Set parameter Username\n",
      "Academic license - for non-commercial use only - expires 2025-02-04\n",
      "[0] alphabar: 486.4842, alpha: 0.33333333\n",
      "[1] alphabar: 316.0517, alpha: 0.49121778\n",
      "[2] alphabar: 215.2247, alpha: 0.60627601\n",
      "[3] alphabar: 150.7823, alpha: 0.69405843\n",
      "[4] alphabar: 111.0289, alpha: 0.75670569\n",
      "[5] alphabar: 85.7860, alpha: 0.80118292\n",
      "[6] alphabar: 61.9977, alpha: 0.84748601\n"
     ]
    },
    {
     "ename": "KeyboardInterrupt",
     "evalue": "",
     "output_type": "error",
     "traceback": [
      "\u001b[0;31m---------------------------------------------------------------------------\u001b[0m",
      "\u001b[0;31mKeyboardInterrupt\u001b[0m                         Traceback (most recent call last)",
      "Cell \u001b[0;32mIn[3], line 1\u001b[0m\n\u001b[0;32m----> 1\u001b[0m XX \u001b[38;5;241m=\u001b[39m \u001b[43mcode\u001b[49m\u001b[38;5;241;43m.\u001b[39;49m\u001b[43mgrowthRateGraph\u001b[49m\u001b[43m(\u001b[49m\u001b[43moutput_matrix\u001b[49m\u001b[43m,\u001b[49m\u001b[43m \u001b[49m\u001b[43minput_matrix\u001b[49m\u001b[43m,\u001b[49m\u001b[43m \u001b[49m\u001b[38;5;241;43m100\u001b[39;49m\u001b[43m)\u001b[49m\n\u001b[1;32m      2\u001b[0m xsol \u001b[38;5;241m=\u001b[39m XX[\u001b[38;5;241m0\u001b[39m]\n\u001b[1;32m      3\u001b[0m alphasol \u001b[38;5;241m=\u001b[39mXX[\u001b[38;5;241m1\u001b[39m]\n",
      "File \u001b[0;32m~/Library/Mobile Documents/com~apple~CloudDocs/projects/dynamic_autocatalysis/codeModel.py:159\u001b[0m, in \u001b[0;36mgrowthRateGraph\u001b[0;34m(output_matrix, input_matrix, max_steps)\u001b[0m\n\u001b[1;32m    156\u001b[0m start \u001b[38;5;241m=\u001b[39m time\u001b[38;5;241m.\u001b[39mtime()\n\u001b[1;32m    157\u001b[0m \u001b[38;5;28;01mwhile\u001b[39;00m stop \u001b[38;5;241m==\u001b[39m \u001b[38;5;28;01mFalse\u001b[39;00m:\n\u001b[1;32m    158\u001b[0m     \u001b[38;5;66;03m# Solve model\u001b[39;00m\n\u001b[0;32m--> 159\u001b[0m     x_t, alphabar \u001b[38;5;241m=\u001b[39m \u001b[43mmodelGrowthRateFixed\u001b[49m\u001b[43m(\u001b[49m\u001b[43mprevious_alpha\u001b[49m\u001b[43m)\u001b[49m\n\u001b[1;32m    160\u001b[0m     \u001b[38;5;28mprint\u001b[39m(\u001b[38;5;124m\"\u001b[39m\u001b[38;5;124m[\u001b[39m\u001b[38;5;132;01m%d\u001b[39;00m\u001b[38;5;124m] alphabar: \u001b[39m\u001b[38;5;132;01m%.4f\u001b[39;00m\u001b[38;5;124m, alpha: \u001b[39m\u001b[38;5;132;01m%.8f\u001b[39;00m\u001b[38;5;124m\"\u001b[39m\u001b[38;5;241m%\u001b[39m(step,alphabar,alpha_t))\n\u001b[1;32m    161\u001b[0m     \u001b[38;5;28;01mif\u001b[39;00m \u001b[38;5;28mlen\u001b[39m(x_t)\u001b[38;5;241m==\u001b[39m\u001b[38;5;241m0\u001b[39m:\n",
      "File \u001b[0;32m~/Library/Mobile Documents/com~apple~CloudDocs/projects/dynamic_autocatalysis/codeModel.py:82\u001b[0m, in \u001b[0;36mgrowthRateGraph.<locals>.modelGrowthRateFixed\u001b[0;34m(previous_alpha)\u001b[0m\n\u001b[1;32m     71\u001b[0m m\u001b[38;5;241m.\u001b[39msetObjective(alpha, gb\u001b[38;5;241m.\u001b[39mGRB\u001b[38;5;241m.\u001b[39mMAXIMIZE)\n\u001b[1;32m     72\u001b[0m \u001b[38;5;66;03m# --------------------------------------\u001b[39;00m\n\u001b[1;32m     73\u001b[0m \n\u001b[1;32m     74\u001b[0m \u001b[38;5;66;03m# Constraints\u001b[39;00m\n\u001b[0;32m   (...)\u001b[0m\n\u001b[1;32m     79\u001b[0m \u001b[38;5;66;03m# print([s for s in species])\u001b[39;00m\n\u001b[1;32m     80\u001b[0m \u001b[38;5;66;03m# print(output_matrix.shape)\u001b[39;00m\n\u001b[0;32m---> 82\u001b[0m \u001b[43mm\u001b[49m\u001b[38;5;241;43m.\u001b[39;49m\u001b[43maddConstrs\u001b[49m\u001b[43m(\u001b[49m\n\u001b[1;32m     83\u001b[0m \u001b[43m    \u001b[49m\u001b[43m(\u001b[49m\u001b[43malpha\u001b[49m\u001b[43m \u001b[49m\u001b[38;5;241;43m<\u001b[39;49m\u001b[38;5;241;43m=\u001b[39;49m\u001b[43m \u001b[49m\u001b[43mgb\u001b[49m\u001b[38;5;241;43m.\u001b[39;49m\u001b[43mquicksum\u001b[49m\u001b[43m(\u001b[49m\u001b[43moutput_matrix\u001b[49m\u001b[43m[\u001b[49m\u001b[43ms\u001b[49m\u001b[43m,\u001b[49m\u001b[43m \u001b[49m\u001b[43mr\u001b[49m\u001b[43m]\u001b[49m\u001b[43m \u001b[49m\u001b[38;5;241;43m*\u001b[39;49m\u001b[43m \u001b[49m\u001b[43mx\u001b[49m\u001b[43m[\u001b[49m\u001b[43mr\u001b[49m\u001b[43m]\u001b[49m\u001b[43m \u001b[49m\n\u001b[1;32m     84\u001b[0m \u001b[43m                          \u001b[49m\u001b[38;5;28;43;01mfor\u001b[39;49;00m\u001b[43m \u001b[49m\u001b[43mr\u001b[49m\u001b[43m \u001b[49m\u001b[38;5;129;43;01min\u001b[39;49;00m\u001b[43m \u001b[49m\u001b[43mreactions\u001b[49m\u001b[43m)\u001b[49m\u001b[43m \u001b[49m\n\u001b[1;32m     85\u001b[0m \u001b[43m             \u001b[49m\u001b[38;5;241;43m-\u001b[39;49m\u001b[43m \u001b[49m\u001b[43mprevious_alpha\u001b[49m\u001b[43m \u001b[49m\u001b[38;5;241;43m*\u001b[39;49m\u001b[43m \u001b[49m\u001b[43mgb\u001b[49m\u001b[38;5;241;43m.\u001b[39;49m\u001b[43mquicksum\u001b[49m\u001b[43m(\u001b[49m\u001b[43minput_matrix\u001b[49m\u001b[43m[\u001b[49m\u001b[43ms\u001b[49m\u001b[43m,\u001b[49m\u001b[43m \u001b[49m\u001b[43mr\u001b[49m\u001b[43m]\u001b[49m\u001b[43m \u001b[49m\u001b[38;5;241;43m*\u001b[39;49m\u001b[43m \u001b[49m\u001b[43mx\u001b[49m\u001b[43m[\u001b[49m\u001b[43mr\u001b[49m\u001b[43m]\u001b[49m\u001b[43m \u001b[49m\n\u001b[1;32m     86\u001b[0m \u001b[43m                                    \u001b[49m\u001b[38;5;28;43;01mfor\u001b[39;49;00m\u001b[43m \u001b[49m\u001b[43mr\u001b[49m\u001b[43m \u001b[49m\u001b[38;5;129;43;01min\u001b[39;49;00m\u001b[43m \u001b[49m\u001b[43mreactions\u001b[49m\u001b[43m)\u001b[49m\n\u001b[1;32m     87\u001b[0m \u001b[43m             \u001b[49m\u001b[38;5;28;43;01mfor\u001b[39;49;00m\u001b[43m \u001b[49m\u001b[43ms\u001b[49m\u001b[43m \u001b[49m\u001b[38;5;129;43;01min\u001b[39;49;00m\u001b[43m \u001b[49m\u001b[43mspecies\u001b[49m\u001b[43m)\u001b[49m\u001b[43m,\u001b[49m\u001b[43m \u001b[49m\u001b[38;5;124;43m\"\u001b[39;49m\u001b[38;5;124;43mx\u001b[39;49m\u001b[38;5;124;43m\"\u001b[39;49m\u001b[43m)\u001b[49m\n\u001b[1;32m     88\u001b[0m \u001b[38;5;66;03m#\u001b[39;00m\n\u001b[1;32m     89\u001b[0m m\u001b[38;5;241m.\u001b[39maddConstrs(\n\u001b[1;32m     90\u001b[0m     (gb\u001b[38;5;241m.\u001b[39mquicksum(input_matrix[s, r] \u001b[38;5;241m*\u001b[39m x[r] \n\u001b[1;32m     91\u001b[0m                  \u001b[38;5;28;01mfor\u001b[39;00m r \u001b[38;5;129;01min\u001b[39;00m reactions) \n\u001b[1;32m     92\u001b[0m      \u001b[38;5;241m>\u001b[39m\u001b[38;5;241m=\u001b[39m \u001b[38;5;241m1\u001b[39m \n\u001b[1;32m     93\u001b[0m      \u001b[38;5;28;01mfor\u001b[39;00m s \u001b[38;5;129;01min\u001b[39;00m species), \u001b[38;5;124m\"\u001b[39m\u001b[38;5;124my\u001b[39m\u001b[38;5;124m\"\u001b[39m)\n",
      "File \u001b[0;32msrc/gurobipy/model.pxi:3877\u001b[0m, in \u001b[0;36mgurobipy.Model.addConstrs\u001b[0;34m()\u001b[0m\n",
      "File \u001b[0;32m~/Library/Mobile Documents/com~apple~CloudDocs/projects/dynamic_autocatalysis/codeModel.py:83\u001b[0m, in \u001b[0;36m<genexpr>\u001b[0;34m(.0)\u001b[0m\n\u001b[1;32m     71\u001b[0m m\u001b[38;5;241m.\u001b[39msetObjective(alpha, gb\u001b[38;5;241m.\u001b[39mGRB\u001b[38;5;241m.\u001b[39mMAXIMIZE)\n\u001b[1;32m     72\u001b[0m \u001b[38;5;66;03m# --------------------------------------\u001b[39;00m\n\u001b[1;32m     73\u001b[0m \n\u001b[1;32m     74\u001b[0m \u001b[38;5;66;03m# Constraints\u001b[39;00m\n\u001b[0;32m   (...)\u001b[0m\n\u001b[1;32m     79\u001b[0m \u001b[38;5;66;03m# print([s for s in species])\u001b[39;00m\n\u001b[1;32m     80\u001b[0m \u001b[38;5;66;03m# print(output_matrix.shape)\u001b[39;00m\n\u001b[1;32m     82\u001b[0m m\u001b[38;5;241m.\u001b[39maddConstrs(\n\u001b[0;32m---> 83\u001b[0m     (alpha \u001b[38;5;241m<\u001b[39m\u001b[38;5;241m=\u001b[39m \u001b[43mgb\u001b[49m\u001b[38;5;241;43m.\u001b[39;49m\u001b[43mquicksum\u001b[49m\u001b[43m(\u001b[49m\u001b[43moutput_matrix\u001b[49m\u001b[43m[\u001b[49m\u001b[43ms\u001b[49m\u001b[43m,\u001b[49m\u001b[43m \u001b[49m\u001b[43mr\u001b[49m\u001b[43m]\u001b[49m\u001b[43m \u001b[49m\u001b[38;5;241;43m*\u001b[39;49m\u001b[43m \u001b[49m\u001b[43mx\u001b[49m\u001b[43m[\u001b[49m\u001b[43mr\u001b[49m\u001b[43m]\u001b[49m\u001b[43m \u001b[49m\n\u001b[1;32m     84\u001b[0m \u001b[43m                          \u001b[49m\u001b[38;5;28;43;01mfor\u001b[39;49;00m\u001b[43m \u001b[49m\u001b[43mr\u001b[49m\u001b[43m \u001b[49m\u001b[38;5;129;43;01min\u001b[39;49;00m\u001b[43m \u001b[49m\u001b[43mreactions\u001b[49m\u001b[43m)\u001b[49m \n\u001b[1;32m     85\u001b[0m              \u001b[38;5;241m-\u001b[39m previous_alpha \u001b[38;5;241m*\u001b[39m gb\u001b[38;5;241m.\u001b[39mquicksum(input_matrix[s, r] \u001b[38;5;241m*\u001b[39m x[r] \n\u001b[1;32m     86\u001b[0m                                     \u001b[38;5;28;01mfor\u001b[39;00m r \u001b[38;5;129;01min\u001b[39;00m reactions)\n\u001b[1;32m     87\u001b[0m              \u001b[38;5;28;01mfor\u001b[39;00m s \u001b[38;5;129;01min\u001b[39;00m species), \u001b[38;5;124m\"\u001b[39m\u001b[38;5;124mx\u001b[39m\u001b[38;5;124m\"\u001b[39m)\n\u001b[1;32m     88\u001b[0m \u001b[38;5;66;03m#\u001b[39;00m\n\u001b[1;32m     89\u001b[0m m\u001b[38;5;241m.\u001b[39maddConstrs(\n\u001b[1;32m     90\u001b[0m     (gb\u001b[38;5;241m.\u001b[39mquicksum(input_matrix[s, r] \u001b[38;5;241m*\u001b[39m x[r] \n\u001b[1;32m     91\u001b[0m                  \u001b[38;5;28;01mfor\u001b[39;00m r \u001b[38;5;129;01min\u001b[39;00m reactions) \n\u001b[1;32m     92\u001b[0m      \u001b[38;5;241m>\u001b[39m\u001b[38;5;241m=\u001b[39m \u001b[38;5;241m1\u001b[39m \n\u001b[1;32m     93\u001b[0m      \u001b[38;5;28;01mfor\u001b[39;00m s \u001b[38;5;129;01min\u001b[39;00m species), \u001b[38;5;124m\"\u001b[39m\u001b[38;5;124my\u001b[39m\u001b[38;5;124m\"\u001b[39m)\n",
      "File \u001b[0;32msrc/gurobipy/gurobi.pxi:3842\u001b[0m, in \u001b[0;36mgurobipy.quicksum\u001b[0;34m()\u001b[0m\n",
      "File \u001b[0;32m~/Library/Mobile Documents/com~apple~CloudDocs/projects/dynamic_autocatalysis/codeModel.py:83\u001b[0m, in \u001b[0;36m<genexpr>\u001b[0;34m(.0)\u001b[0m\n\u001b[1;32m     71\u001b[0m m\u001b[38;5;241m.\u001b[39msetObjective(alpha, gb\u001b[38;5;241m.\u001b[39mGRB\u001b[38;5;241m.\u001b[39mMAXIMIZE)\n\u001b[1;32m     72\u001b[0m \u001b[38;5;66;03m# --------------------------------------\u001b[39;00m\n\u001b[1;32m     73\u001b[0m \n\u001b[1;32m     74\u001b[0m \u001b[38;5;66;03m# Constraints\u001b[39;00m\n\u001b[0;32m   (...)\u001b[0m\n\u001b[1;32m     79\u001b[0m \u001b[38;5;66;03m# print([s for s in species])\u001b[39;00m\n\u001b[1;32m     80\u001b[0m \u001b[38;5;66;03m# print(output_matrix.shape)\u001b[39;00m\n\u001b[1;32m     82\u001b[0m m\u001b[38;5;241m.\u001b[39maddConstrs(\n\u001b[0;32m---> 83\u001b[0m     (alpha \u001b[38;5;241m<\u001b[39m\u001b[38;5;241m=\u001b[39m gb\u001b[38;5;241m.\u001b[39mquicksum(output_matrix[s, r] \u001b[38;5;241m*\u001b[39m x[r] \n\u001b[1;32m     84\u001b[0m                           \u001b[38;5;28;01mfor\u001b[39;00m r \u001b[38;5;129;01min\u001b[39;00m reactions) \n\u001b[1;32m     85\u001b[0m              \u001b[38;5;241m-\u001b[39m previous_alpha \u001b[38;5;241m*\u001b[39m gb\u001b[38;5;241m.\u001b[39mquicksum(input_matrix[s, r] \u001b[38;5;241m*\u001b[39m x[r] \n\u001b[1;32m     86\u001b[0m                                     \u001b[38;5;28;01mfor\u001b[39;00m r \u001b[38;5;129;01min\u001b[39;00m reactions)\n\u001b[1;32m     87\u001b[0m              \u001b[38;5;28;01mfor\u001b[39;00m s \u001b[38;5;129;01min\u001b[39;00m species), \u001b[38;5;124m\"\u001b[39m\u001b[38;5;124mx\u001b[39m\u001b[38;5;124m\"\u001b[39m)\n\u001b[1;32m     88\u001b[0m \u001b[38;5;66;03m#\u001b[39;00m\n\u001b[1;32m     89\u001b[0m m\u001b[38;5;241m.\u001b[39maddConstrs(\n\u001b[1;32m     90\u001b[0m     (gb\u001b[38;5;241m.\u001b[39mquicksum(input_matrix[s, r] \u001b[38;5;241m*\u001b[39m x[r] \n\u001b[1;32m     91\u001b[0m                  \u001b[38;5;28;01mfor\u001b[39;00m r \u001b[38;5;129;01min\u001b[39;00m reactions) \n\u001b[1;32m     92\u001b[0m      \u001b[38;5;241m>\u001b[39m\u001b[38;5;241m=\u001b[39m \u001b[38;5;241m1\u001b[39m \n\u001b[1;32m     93\u001b[0m      \u001b[38;5;28;01mfor\u001b[39;00m s \u001b[38;5;129;01min\u001b[39;00m species), \u001b[38;5;124m\"\u001b[39m\u001b[38;5;124my\u001b[39m\u001b[38;5;124m\"\u001b[39m)\n",
      "\u001b[0;31mKeyboardInterrupt\u001b[0m: "
     ]
    }
   ],
   "source": [
    "XX = code.growthRateGraph(output_matrix, input_matrix, 100)\n",
    "xsol = XX[0]\n",
    "alphasol =XX[1]\n",
    "step = XX[2]\n",
    "time=XX[4]\n",
    "\n",
    "isA_sp, isA_re=IsAutonomous(input_matrix, output_matrix, range(n), range(m))\n",
    "isA=False\n",
    "if isA_sp and isA_re:\n",
    "    isA=True\n",
    "isA"
   ]
  },
  {
   "cell_type": "code",
   "execution_count": 42,
   "metadata": {},
   "outputs": [
    {
     "data": {
      "text/plain": [
       "(True, True)"
      ]
     },
     "execution_count": 42,
     "metadata": {},
     "output_type": "execute_result"
    }
   ],
   "source": [
    "isA_sp, isA_re"
   ]
  },
  {
   "cell_type": "code",
   "execution_count": 43,
   "metadata": {},
   "outputs": [],
   "source": [
    "for s in range(n):\n",
    "        if sum(input_matrix[s,r] for r in range(m))<0.5 or sum(output_matrix[s,r] for r in range(m))<0.5:\n",
    "            print(\"species \", s)\n",
    "for r in range(m):\n",
    "        if sum(input_matrix[s,r] for s in range(n))<0.5 or sum(output_matrix[s,r] for s in range(n))<0.5:\n",
    "            print(\"reaction \", r)"
   ]
  },
  {
   "cell_type": "code",
   "execution_count": 45,
   "metadata": {},
   "outputs": [
    {
     "data": {
      "text/plain": [
       "0.9999950000125"
      ]
     },
     "execution_count": 45,
     "metadata": {},
     "output_type": "execute_result"
    }
   ],
   "source": [
    "alpha_hand =  np.min([sum(output_matrix[s, r] * xsol[r] \n",
    "                         for r in range(m))\n",
    "                     /\n",
    "                     sum(input_matrix[s, r] * xsol[r] \n",
    "                         for r in range(m)) \n",
    "                     for s in range(n) if sum(input_matrix[s, r] * xsol[r] \n",
    "                         for r in range(m))>0.0001])\n",
    "alpha_hand"
   ]
  },
  {
   "cell_type": "code",
   "execution_count": 46,
   "metadata": {},
   "outputs": [
    {
     "name": "stdout",
     "output_type": "stream",
     "text": [
      "alphabar:  48648.6463963964 alpha:  0.3333333333333333 |a|= 46\n",
      "alphabar:  29764.80765933948 alpha:  0.5106978465916163 |a|= 46\n",
      "alphabar:  20414.743277786525 alpha:  0.6204351786676325 |a|= 46\n",
      "alphabar:  14707.47536316463 alpha:  0.6996517609171258 |a|= 46\n",
      "alphabar:  10854.647777005284 alpha:  0.7610081469667375 |a|= 46\n",
      "alphabar:  5984.156887450429 alpha:  0.8521350728657382 |a|= 46\n",
      "alphabar:  4179.586159686582 alpha:  0.8913476789827086 |a|= 46\n",
      "alphabar:  2550.8085081069303 alpha:  0.9302273317960793 |a|= 46\n",
      "alphabar:  1608.1080111436 alpha:  0.9545765070628766 |a|= 46\n",
      "alphabar:  1034.1355528703327 alpha:  0.9701778589210082 |a|= 46\n",
      "alphabar:  673.4110475783968 alpha:  0.9803155491683719 |a|= 46\n",
      "alphabar:  442.05988297180784 alpha:  0.9869617924516865 |a|= 46\n",
      "alphabar:  291.7152486580651 alpha:  0.991344083122479 |a|= 46\n",
      "alphabar:  193.16637791930228 alpha:  0.9942444166915642 |a|= 46\n",
      "alphabar:  128.20053590934089 alpha:  0.9961686603683282 |a|= 46\n",
      "alphabar:  85.21202085589124 alpha:  0.9974473804683012 |a|= 46\n",
      "alphabar:  56.695035453816196 alpha:  0.9982980418973524 |a|= 46\n",
      "alphabar:  37.746533328442425 alpha:  0.998864342727589 |a|= 46\n",
      "alphabar:  25.142047097187135 alpha:  0.9992415179884555 |a|= 46\n",
      "alphabar:  16.751423054562416 alpha:  0.999492808428179 |a|= 46\n",
      "alphabar:  11.163174287534952 alpha:  0.9996602640735659 |a|= 46\n",
      "alphabar:  7.440125947369116 alpha:  0.9997718692337547 |a|= 46\n",
      "alphabar:  4.959188045050099 alpha:  0.9998462583107622 |a|= 46\n",
      "alphabar:  3.3057194755861086 alpha:  0.999895844530085 |a|= 46\n",
      "alphabar:  2.203627418149888 alpha:  0.9999288990438976 |a|= 46\n",
      "alphabar:  1.469285229945614 alpha:  0.9999509254312615 |a|= 46\n",
      "alphabar:  0.9796021666903689 alpha:  0.9999656140559843 |a|= 46\n",
      "alphabar:  0.6530485594452461 alpha:  0.9999754097388076 |a|= 46\n",
      "alphabar:  0.4353538122104628 alpha:  0.9999819401064621 |a|= 46\n",
      "alphabar:  0.29023743998926227 alpha:  0.9999862933443185 |a|= 46\n",
      "alphabar:  0.1934889458733602 alpha:  0.9999891956583371 |a|= 46\n",
      "alphabar:  0.12899113459407177 alpha:  0.9999911305112857 |a|= 46\n",
      "alphabar:  0.08599322182272331 alpha:  0.9999924203999557 |a|= 46\n",
      "alphabar:  0.05732800681236301 alpha:  0.9999932803263955 |a|= 46\n",
      "alphabar:  0.038218158285303186 alpha:  0.99999385360294 |a|= 46\n",
      "alphabar:  0.025478569000738124 alpha:  0.9999942357784982 |a|= 46\n",
      "alphabar:  0.016985582257570846 alpha:  0.9999944905602367 |a|= 46\n",
      "alphabar:  0.011323636809104297 alpha:  0.9999946604134539 |a|= 46\n",
      "alphabar:  0.0075490357378570965 alpha:  0.9999947736480979 |a|= 46\n",
      "alphabar:  0.0050326539574017115 alpha:  0.9999948491373115 |a|= 46\n",
      "alphabar:  0.0033550784865723922 alpha:  0.999994899463091 |a|= 46\n",
      "alphabar:  0.00223670297220079 alpha:  0.9999949330133704 |a|= 46\n",
      "alphabar:  0.0014911246754182729 alpha:  0.9999949553800636 |a|= 46\n",
      "alphabar:  0.0009940760413312177 alpha:  0.9999949702910862 |a|= 46\n",
      "alphabar:  0.0006627126496025563 alpha:  0.9999949802316974 |a|= 46\n",
      "alphabar:  0.00044180529809506884 alpha:  0.9999949868587243 |a|= 46\n",
      "alphabar:  0.0002945347730744095 alpha:  0.9999949912767111 |a|= 46\n",
      "alphabar:  0.00019635512378876003 alpha:  0.9999949942220147 |a|= 46\n",
      "alphabar:  0.00013090248777991898 alpha:  0.9999949961855364 |a|= 46\n",
      "alphabar:  8.726770201549213e-05 alpha:  0.9999949974945418 |a|= 46\n",
      "alphabar:  5.817805751688003e-05 alpha:  0.9999949983672057 |a|= 46\n",
      "alphabar:  3.878509541221565e-05 alpha:  0.9999949989489776 |a|= 46\n",
      "alphabar:  2.5856543758567562e-05 alpha:  0.9999949993368228 |a|= 46\n",
      "alphabar:  1.7237568344950178e-05 alpha:  0.9999949995953845 |a|= 46\n",
      "alphabar:  1.1491630011703702e-05 alpha:  0.9999949997677576 |a|= 46\n",
      "alphabar:  7.660993138607554e-06 alpha:  0.9999949998826734 |a|= 45\n",
      "alphabar:  5.128714592467983e-06 alpha:  0.9999949999592829 |a|= 45\n",
      "alphabar:  1.9302339709780904e-07 alpha:  0.9999950000105697 |a|= 45\n"
     ]
    }
   ],
   "source": [
    "np.set_printoptions(suppress=True)\n",
    "\n",
    "XX_a = code.growthRateGraph_a(output_matrix, input_matrix, 100, n)\n",
    "xsol_a = XX_a[0]\n",
    "alphasol_a =XX_a[1]\n",
    "step_a = XX_a[2]\n",
    "time_a=XX_a[4]\n",
    "asol=XX_a[5]\n",
    "\n",
    "isA_sp_a, isA_re_a=IsAutonomous(input_matrix, output_matrix, asol, range(m))\n",
    "\n",
    "isA_a=False\n",
    "if isA_sp_a and isA_re_a:\n",
    "    isA_a=True"
   ]
  },
  {
   "cell_type": "code",
   "execution_count": 47,
   "metadata": {},
   "outputs": [
    {
     "data": {
      "text/plain": [
       "[34]"
      ]
     },
     "execution_count": 47,
     "metadata": {},
     "output_type": "execute_result"
    }
   ],
   "source": [
    "[s for s in range(n) if s not in asol]"
   ]
  },
  {
   "cell_type": "code",
   "execution_count": 48,
   "metadata": {},
   "outputs": [
    {
     "data": {
      "text/plain": [
       "0.9999950000125"
      ]
     },
     "execution_count": 48,
     "metadata": {},
     "output_type": "execute_result"
    }
   ],
   "source": [
    "alpha_hand =  np.min([sum(output_matrix[s, r] * xsol[r] \n",
    "                         for r in range(m))\n",
    "                     /\n",
    "                     sum(input_matrix[s, r] * xsol[r] \n",
    "                         for r in range(m)) \n",
    "                     for s in asol ])\n",
    "alpha_hand"
   ]
  },
  {
   "cell_type": "code",
   "execution_count": 14,
   "metadata": {},
   "outputs": [
    {
     "data": {
      "text/plain": [
       "(0.9999950000125, 0.9999950000125)"
      ]
     },
     "execution_count": 14,
     "metadata": {},
     "output_type": "execute_result"
    }
   ],
   "source": [
    "alpha_hand =  np.min([sum(output_matrix[s, r] * xsol[r] \n",
    "                         for r in range(m))\n",
    "                     /\n",
    "                     sum(input_matrix[s, r] * xsol[r] \n",
    "                         for r in range(m)) \n",
    "                     for s in range(n) ])\n",
    "alpha_hand_a =  np.min([sum(output_matrix[s, r] * xsol[r] \n",
    "                         for r in range(m))\n",
    "                     /\n",
    "                     sum(input_matrix[s, r] * xsol[r] \n",
    "                         for r in range(m)) \n",
    "                     for s in asol ])\n",
    "alpha_hand, alpha_hand_a"
   ]
  },
  {
   "cell_type": "code",
   "execution_count": 49,
   "metadata": {},
   "outputs": [
    {
     "name": "stdout",
     "output_type": "stream",
     "text": [
      "**[0] alphabar:  670.5622403151043 alpha:  0.5471327951628836\n",
      "**[1] alphabar:  468.75538784485144 alpha:  0.7849636731641855\n",
      "**[2] alphabar:  267.3230033423116 alpha:  1.052286676506497  AUTOCATALYTIC!\n",
      "**[3] alphabar:  84.28377842367296 alpha:  1.1491405871297942  AUTOCATALYTIC!\n",
      "**[4] alphabar:  36.46131747385524 alpha:  1.1926252759433074  AUTOCATALYTIC!\n",
      "**[5] alphabar:  15.836828937043833 alpha:  1.2118166082685433  AUTOCATALYTIC!\n",
      "**[6] alphabar:  6.896326539422754 alpha:  1.2202317246958085  AUTOCATALYTIC!\n",
      "**[7] alphabar:  3.006396178834052 alpha:  1.2239112869116096  AUTOCATALYTIC!\n",
      "**[8] alphabar:  1.3112277988051844 alpha:  1.2255182204702324  AUTOCATALYTIC!\n",
      "**[9] alphabar:  0.5720020620208853 alpha:  1.2262196206217184  AUTOCATALYTIC!\n",
      "**[10] alphabar:  0.249548493824358 alpha:  1.226525698262357  AUTOCATALYTIC!\n",
      "**[11] alphabar:  0.10887515852834895 alpha:  1.226659250982897  AUTOCATALYTIC!\n",
      "**[12] alphabar:  0.047501774043753935 alpha:  1.2267175222414541  AUTOCATALYTIC!\n",
      "**[13] alphabar:  0.02072497400968132 alpha:  1.2267429464567032  AUTOCATALYTIC!\n",
      "**[14] alphabar:  0.009042312841635773 alpha:  1.226754039150505  AUTOCATALYTIC!\n",
      "**[15] alphabar:  0.003945169380013081 alpha:  1.2267588789220705  AUTOCATALYTIC!\n",
      "**[16] alphabar:  0.0017212821471730422 alpha:  1.2267609905237626  AUTOCATALYTIC!\n",
      "**[17] alphabar:  0.0007509975697684127 alpha:  1.2267619118189772  AUTOCATALYTIC!\n",
      "**[18] alphabar:  0.0003276613471143719 alpha:  1.226762313781568  AUTOCATALYTIC!\n",
      "**[19] alphabar:  0.000142958993064932 alpha:  1.226762489158298  AUTOCATALYTIC!\n",
      "**[20] alphabar:  6.237330501335236e-05 alpha:  1.226762565675532  AUTOCATALYTIC!\n",
      "0  is not s-autonomous\n",
      "2  is not s-autonomous\n",
      "3  is not s-autonomous\n",
      "4  is not s-autonomous\n",
      "5  is not s-autonomous\n",
      "6  is not s-autonomous\n",
      "7  is not s-autonomous\n",
      "8  is not s-autonomous\n",
      "9  is not s-autonomous\n",
      "10  is not s-autonomous\n",
      "11  is not s-autonomous\n",
      "12  is not s-autonomous\n",
      "13  is not s-autonomous\n",
      "14  is not s-autonomous\n",
      "16  is not s-autonomous\n",
      "17  is not s-autonomous\n",
      "18  is not s-autonomous\n",
      "19  is not s-autonomous\n",
      "20  is not s-autonomous\n",
      "21  is not s-autonomous\n",
      "22  is not s-autonomous\n",
      "24  is not s-autonomous\n",
      "25  is not s-autonomous\n",
      "27  is not s-autonomous\n",
      "28  is not s-autonomous\n",
      "29  is not s-autonomous\n",
      "30  is not s-autonomous\n",
      "31  is not s-autonomous\n",
      "32  is not s-autonomous\n",
      "33  is not s-autonomous\n",
      "35  is not s-autonomous\n",
      "38  is not s-autonomous\n",
      "39  is not s-autonomous\n",
      "40  is not s-autonomous\n",
      "41  is not s-autonomous\n",
      "45  is not s-autonomous\n"
     ]
    }
   ],
   "source": [
    "XX_sn = code.growthRateinSubgraph(output_matrix, input_matrix, 1000)\n",
    "xsol_sn = XX_sn[0]\n",
    "alphasol_sn =XX_sn[1]\n",
    "step_sn = XX_sn[2]\n",
    "time_sn=XX_sn[7]\n",
    "asol_sn=XX_sn[4]\n",
    "ysol_sn=XX_sn[5]\n",
    "zsol_sn=XX_sn[6]\n",
    "\n",
    "# isA_sp, isA_re=IsAutonomous(input_matrix, output_matrix, range(n), range(m))\n",
    "isA_sp_sn, isA_re_sn=IsAutonomous(input_matrix, output_matrix, asol, zsol_sn)\n",
    "# isA=False\n",
    "# if isA_sp and isA_re:\n",
    "#     isA=True\n",
    "isA_a=False\n",
    "if isA_sp_a and isA_re_a:\n",
    "    isA_a=True"
   ]
  },
  {
   "cell_type": "code",
   "execution_count": 56,
   "metadata": {},
   "outputs": [],
   "source": [
    "cols=[names_cols[r] for r in zsol_sn]\n",
    "rows=[names_rows[s] for s in asol_sn]"
   ]
  },
  {
   "cell_type": "code",
   "execution_count": 54,
   "metadata": {},
   "outputs": [
    {
     "data": {
      "text/plain": [
       "array([ 96.44718084, 100.12196923,  78.61927773, 118.31778364,\n",
       "       150.6781776 , 122.82587619, 184.84633622,  66.52860342,\n",
       "        81.61479513])"
      ]
     },
     "execution_count": 57,
     "metadata": {},
     "output_type": "execute_result"
    }
   ],
   "source": [
    "SM[rows,:][:,cols].dot(xsol_sn[zsol_sn])"
   ]
  },
  {
   "cell_type": "code",
   "execution_count": 59,
   "metadata": {},
   "outputs": [
    {
     "data": {
      "text/plain": [
       "array([521.76937072, 293.38424222, 425.32218988, 346.70291215,\n",
       "       815.15366378, 541.64960999, 441.52764077, 664.47548618,\n",
       "       359.91284564])"
      ]
     },
     "execution_count": 59,
     "metadata": {},
     "output_type": "execute_result"
    }
   ],
   "source": [
    "xsol_sn[zsol_sn]"
   ]
  },
  {
   "cell_type": "code",
   "execution_count": 65,
   "metadata": {},
   "outputs": [],
   "source": [
    "SM_core=SM[rows,:][:,cols]"
   ]
  },
  {
   "cell_type": "code",
   "execution_count": 64,
   "metadata": {},
   "outputs": [
    {
     "data": {
      "text/plain": [
       "[15, 30, 78, 134, 142, 148, 346, 458, 496]"
      ]
     },
     "execution_count": 64,
     "metadata": {},
     "output_type": "execute_result"
    }
   ],
   "source": [
    "cols"
   ]
  },
  {
   "cell_type": "code",
   "execution_count": 63,
   "metadata": {},
   "outputs": [
    {
     "data": {
      "text/plain": [
       "(681, 617)"
      ]
     },
     "execution_count": 63,
     "metadata": {},
     "output_type": "execute_result"
    }
   ],
   "source": [
    "SM.shape"
   ]
  },
  {
   "cell_type": "code",
   "execution_count": 66,
   "metadata": {},
   "outputs": [
    {
     "data": {
      "text/plain": [
       "-1.0"
      ]
     },
     "execution_count": 66,
     "metadata": {},
     "output_type": "execute_result"
    }
   ],
   "source": [
    "np.linalg.det(SM_core)"
   ]
  },
  {
   "cell_type": "code",
   "execution_count": 73,
   "metadata": {},
   "outputs": [
    {
     "data": {
      "text/plain": [
       "2378"
      ]
     },
     "execution_count": 73,
     "metadata": {},
     "output_type": "execute_result"
    }
   ],
   "source": [
    "len([SM[s,r] for r in range(m) for s in range(n) if SM[s,r]==0])"
   ]
  },
  {
   "cell_type": "code",
   "execution_count": 74,
   "metadata": {},
   "outputs": [
    {
     "data": {
      "text/plain": [
       "48.76474136094644"
      ]
     },
     "execution_count": 74,
     "metadata": {},
     "output_type": "execute_result"
    }
   ],
   "source": [
    "np.sqrt(2378)"
   ]
  },
  {
   "cell_type": "code",
   "execution_count": 76,
   "metadata": {},
   "outputs": [
    {
     "data": {
      "text/plain": [
       "0.9941471571906354"
      ]
     },
     "execution_count": 76,
     "metadata": {},
     "output_type": "execute_result"
    }
   ],
   "source": [
    "2378/(n*m)"
   ]
  },
  {
   "cell_type": "code",
   "execution_count": null,
   "metadata": {},
   "outputs": [],
   "source": []
  }
 ],
 "metadata": {
  "kernelspec": {
   "display_name": "base",
   "language": "python",
   "name": "python3"
  },
  "language_info": {
   "codemirror_mode": {
    "name": "ipython",
    "version": 3
   },
   "file_extension": ".py",
   "mimetype": "text/x-python",
   "name": "python",
   "nbconvert_exporter": "python",
   "pygments_lexer": "ipython3",
   "version": "3.9.17"
  }
 },
 "nbformat": 4,
 "nbformat_minor": 2
}
