{
 "cells": [
  {
   "cell_type": "code",
   "execution_count": 1,
   "metadata": {},
   "outputs": [],
   "source": [
    "from main import *\n",
    "import numpy as np\n",
    "import sys\n",
    "\n",
    "\n",
    "import pandas as pd\n",
    "np.set_printoptions(suppress=True)"
   ]
  },
  {
   "cell_type": "code",
   "execution_count": 2,
   "metadata": {},
   "outputs": [
    {
     "name": "stdout",
     "output_type": "stream",
     "text": [
      "277 717\n",
      "277 717\n",
      "len_del_c:  34 len_del_r:  97\n",
      "len_c: 683 len_r:  180\n"
     ]
    }
   ],
   "source": [
    "SM = np.loadtxt(\"jeff/Abiotic_SM.txt\")\n",
    "input_matrix, output_matrix, names_rows, names_cols =CleanData(SM)\n",
    "n, m =input_matrix.shape\n",
    "for s in range(n):\n",
    "    if sum(input_matrix[s,r] for r in range(m))<0.01 or sum(output_matrix[s,r] for r in range(m))<0.01:\n",
    "        print(\"s: \", s, sum(input_matrix[s,r] for r in range(m)), sum(output_matrix[s,r] for r in range(m)))\n",
    "\n",
    "# SM=output_matrix-input_matrix\n",
    "# SM.shape\n"
   ]
  },
  {
   "cell_type": "code",
   "execution_count": 3,
   "metadata": {},
   "outputs": [
    {
     "data": {
      "text/plain": [
       "(180, 683)"
      ]
     },
     "execution_count": 3,
     "metadata": {},
     "output_type": "execute_result"
    }
   ],
   "source": [
    "277-97,717-34"
   ]
  },
  {
   "cell_type": "code",
   "execution_count": 4,
   "metadata": {},
   "outputs": [
    {
     "name": "stdout",
     "output_type": "stream",
     "text": [
      "Set parameter Username\n",
      "Academic license - for non-commercial use only - expires 2025-02-04\n",
      "[0] alphabar: 786.4013, alpha: 0.1111\n",
      "[1] alphabar: 698.5864, alpha: 0.1627\n",
      "[2] alphabar: 615.9285, alpha: 0.2173\n",
      "[3] alphabar: 551.9328, alpha: 0.2652\n",
      "[4] alphabar: 494.6466, alpha: 0.3138\n",
      "[5] alphabar: 448.6625, alpha: 0.3579\n",
      "[6] alphabar: 410.6543, alpha: 0.3989\n"
     ]
    }
   ],
   "source": [
    "XX = code.growthRateGraph(output_matrix, input_matrix, 100)\n",
    "xsol = XX[0]\n",
    "alphasol =XX[1]\n",
    "step = XX[2]\n",
    "time=XX[4]\n",
    "\n",
    "isA_sp, isA_re=IsAutonomous(input_matrix, output_matrix, range(n), range(m))\n",
    "isA=False\n",
    "if isA_sp and isA_re:\n",
    "    isA=True\n",
    "isA"
   ]
  },
  {
   "cell_type": "code",
   "execution_count": 5,
   "metadata": {},
   "outputs": [
    {
     "name": "stdout",
     "output_type": "stream",
     "text": [
      "[1.0, 1.4444444444444444, 0.5, 0.9230769230769231, 1.1111111111111112, 1.0, 1.0, 2.3333333333333335, 0.6, 0.6363636363636364, 1.4210526315789473, 0.25, 1.0, 0.4166666666666667, 0.7647058823529411, 0.8181818181818182, 0.25, 0.625, 0.4, 1.0, 1.0, 0.25, 1.0, 1.0, 1.0, 0.5, 1.75, 0.5, 1.0, 1.0, 1.0, 1.0, 1.0, 1.0, 1.0, 1.0, 1.0, 1.0, 1.0, 0.5, 2.0, 0.75, 2.0, 0.6, 2.0, 1.0303030303030303, 2.0, 0.3333333333333333, 1.0, 0.5454545454545454, 0.6, 1.0, 0.5, 2.2, 0.5, 1.0, 0.6666666666666666, 0.6, 0.5, 0.5, 0.3333333333333333, 2.5, 0.88, 1.0, 0.5, 0.3333333333333333, 0.25, 0.2777777777777778, 1.0, 10.333333333333334, 1.25, 0.8, 0.5, 1.0, 1.0, 1.3333333333333333, 0.5, 3.0, 1.0, 1.0, 7.0, 0.6666666666666666, 3.2, 3.0, 0.1111111111111111, 1.3333333333333333, 3.0, 0.6666666666666666, 1.0, 1.9090909090909092, 0.5625, 1.0, 0.5, 1.0, 1.0, 1.0, 1.765625, 1.0909090909090908, 4.571428571428571, 1.0, 1.5, 0.8666666666666667, 0.6666666666666666, 1.0, 1.0421052631578946, 3.0, 0.16666666666666666, 3.0, 0.25, 1.0, 10.0, 1.5, 1.0, 1.0, 1.0, 0.5, 1.3333333333333333, 1.2666666666666666, 0.25, 1.3333333333333333, 0.75, 0.5833333333333334, 0.5, 0.5, 0.8, 1.0, 4.0, 0.3333333333333333, 1.5, 0.3333333333333333, 0.4, 0.6, 0.625, 1.6666666666666667, 2.0, 1.0, 0.8333333333333334, 2.0, 1.0, 0.42857142857142855, 1.5, 0.8421052631578947, 1.0, 2.0, 1.0, 0.7142857142857143, 0.5, 1.3333333333333333, 0.3333333333333333, 1.0, 1.8, 2.0, 1.0, 2.0, 1.3636363636363635, 0.6666666666666666, 0.3333333333333333, 0.9428571428571428, 1.2857142857142858, 0.5, 0.6764705882352942, 1.6666666666666667, 1.0, 2.0, 2.0, 1.0, 0.14285714285714285, 1.0, 2.0, 0.855072463768116, 4.666666666666667, 1.5, 1.0, 0.8888888888888888, 2.0, 0.2222222222222222, 12.6, 0.975, 0.16666666666666666, 0.8666666666666667]\n",
      "alpha_0:  0.1111111111111111\n",
      "Gurobi Optimizer version 11.0.3 build v11.0.3rc0 (mac64[arm] - Darwin 23.6.0 23G93)\n",
      "\n",
      "CPU model: Apple M1 Max\n",
      "Thread count: 10 physical cores, 10 logical processors, using up to 10 threads\n",
      "\n",
      "Optimize a model with 1547 rows, 864 columns and 4128 nonzeros\n",
      "Model fingerprint: 0xeae8ce14\n",
      "Model has 180 quadratic constraints\n",
      "Variable types: 684 continuous, 180 integer (180 binary)\n",
      "Coefficient statistics:\n",
      "  Matrix range     [1e+00, 1e+01]\n",
      "  QMatrix range    [1e-01, 2e+01]\n",
      "  QLMatrix range   [1e+00, 1e+00]\n",
      "  Objective range  [1e+00, 1e+00]\n",
      "  Bounds range     [1e+00, 1e+05]\n",
      "  RHS range        [1e+00, 1e+00]\n",
      "Found heuristic solution: objective -0.0000000\n",
      "Presolve removed 1401 rows and 139 columns\n",
      "Presolve time: 0.00s\n",
      "Presolved: 1063 rows, 2027 columns, 4922 nonzeros\n",
      "Presolved model has 868 SOS constraint(s)\n",
      "Variable types: 1544 continuous, 483 integer (483 binary)\n",
      "\n",
      "Root relaxation: objective 7.864078e+04, 472 iterations, 0.00 seconds (0.01 work units)\n",
      "\n",
      "    Nodes    |    Current Node    |     Objective Bounds      |     Work\n",
      " Expl Unexpl |  Obj  Depth IntInf | Incumbent    BestBd   Gap | It/Node Time\n",
      "\n",
      "     0     0          -    0        -0.00000 78640.7767      -     -    0s\n",
      "     0     0          -    0        -0.00000 78640.7767      -     -    0s\n",
      "     0     0          -    0        -0.00000 78640.7767      -     -    0s\n",
      "     0     0          -    0        -0.00000 78640.7767      -     -    0s\n",
      "\n",
      "Explored 1 nodes (887 simplex iterations) in 0.05 seconds (0.05 work units)\n",
      "Thread count was 10 (of 10 available processors)\n",
      "\n",
      "Solution count 1: -0 \n",
      "No other solutions better than -0\n",
      "\n",
      "Optimal solution found (tolerance 1.00e-04)\n",
      "Best objective -0.000000000000e+00, best bound -0.000000000000e+00, gap 0.0000%\n",
      "alphabar:  0.0 alpha:  0.1111111111111111 |a|= 180\n"
     ]
    }
   ],
   "source": [
    "np.set_printoptions(suppress=True)\n",
    "\n",
    "XX_a = code.growthRateGraph_a(output_matrix, input_matrix, 10, n)\n",
    "xsol_a = XX_a[0]\n",
    "alphasol_a =XX_a[1]\n",
    "step_a = XX_a[2]\n",
    "time_a=XX_a[4]\n",
    "asol=XX_a[5]\n",
    "\n",
    "isA_sp_a, isA_re_a=IsAutonomous(input_matrix, output_matrix, asol, range(m))\n",
    "\n",
    "isA_a=False\n",
    "if isA_sp_a and isA_re_a:\n",
    "    isA_a=True"
   ]
  },
  {
   "cell_type": "code",
   "execution_count": 3,
   "metadata": {},
   "outputs": [
    {
     "name": "stdout",
     "output_type": "stream",
     "text": [
      "Set parameter Username\n",
      "Academic license - for non-commercial use only - expires 2025-02-04\n",
      "nR:  683\n",
      "**[0] alphabar:  1000.0 alpha:  0.2245881243331292 |a|= 51 |z|= 150\n",
      "nR:  683\n",
      "**[1] alphabar:  1000.0 alpha:  0.33581934837349064 |a|= 38 |z|= 109\n",
      "nR:  683\n",
      "**[2] alphabar:  1000.0 alpha:  0.6021353744685218 |a|= 21 |z|= 55\n",
      "nR:  683\n",
      "**[3] alphabar:  1000.0 alpha:  0.6690366866884758 |a|= 49 |z|= 180\n",
      "nR:  683\n",
      "**[4] alphabar:  1000.0 alpha:  0.728330296277766 |a|= 49 |z|= 184\n",
      "nR:  683\n",
      "**[5] alphabar:  1000.0 alpha:  0.9345501134812525 |a|= 8 |z|= 18\n",
      "nR:  683\n",
      "**[6] alphabar:  1000.0 alpha:  1.3072765726463977 |a|= 6 |z|= 11  AUTOCATALYTIC!\n",
      "nR:  683\n",
      "**[7] alphabar:  936.807023310097 alpha:  1.4856604876289836 |a|= 11 |z|= 74  AUTOCATALYTIC!\n",
      "nR:  683\n",
      "**[8] alphabar:  832.0403714383446 alpha:  1.6744751691459658 |a|= 12 |z|= 52  AUTOCATALYTIC!\n",
      "nR:  683\n",
      "**[9] alphabar:  687.8681489311716 alpha:  1.850503031485214 |a|= 12 |z|= 53  AUTOCATALYTIC!\n",
      "nR:  683\n",
      "\n",
      "Interrupt request received\n"
     ]
    },
    {
     "ename": "GurobiError",
     "evalue": "Cannot compute IIS on a feasible model",
     "output_type": "error",
     "traceback": [
      "\u001b[0;31m---------------------------------------------------------------------------\u001b[0m",
      "\u001b[0;31mGurobiError\u001b[0m                               Traceback (most recent call last)",
      "Cell \u001b[0;32mIn[3], line 1\u001b[0m\n\u001b[0;32m----> 1\u001b[0m XX_sn \u001b[38;5;241m=\u001b[39m \u001b[43mcode\u001b[49m\u001b[38;5;241;43m.\u001b[39;49m\u001b[43mgrowthRateinSubgraph\u001b[49m\u001b[43m(\u001b[49m\u001b[43moutput_matrix\u001b[49m\u001b[43m,\u001b[49m\u001b[43m \u001b[49m\u001b[43minput_matrix\u001b[49m\u001b[43m,\u001b[49m\u001b[43m \u001b[49m\u001b[38;5;241;43m1000\u001b[39;49m\u001b[43m)\u001b[49m\n\u001b[1;32m      2\u001b[0m xsol_sn \u001b[38;5;241m=\u001b[39m XX_sn[\u001b[38;5;241m0\u001b[39m]\n\u001b[1;32m      3\u001b[0m alphasol_sn \u001b[38;5;241m=\u001b[39mXX_sn[\u001b[38;5;241m1\u001b[39m]\n",
      "File \u001b[0;32m~/Library/Mobile Documents/com~apple~CloudDocs/projects/dynamic_autocatalysis/codeModel.py:597\u001b[0m, in \u001b[0;36mgrowthRateinSubgraph\u001b[0;34m(output_matrix, input_matrix, t_max)\u001b[0m\n\u001b[1;32m    595\u001b[0m start\u001b[38;5;241m=\u001b[39mtime\u001b[38;5;241m.\u001b[39mtime()\n\u001b[1;32m    596\u001b[0m \u001b[38;5;28;01mwhile\u001b[39;00m stop \u001b[38;5;241m==\u001b[39m \u001b[38;5;28;01mFalse\u001b[39;00m:\n\u001b[0;32m--> 597\u001b[0m     xx, alphabar, aa, yy, zz \u001b[38;5;241m=\u001b[39m \u001b[43mmodelGrowthRateFixed\u001b[49m\u001b[43m(\u001b[49m\u001b[43malpha\u001b[49m\u001b[43m)\u001b[49m\n\u001b[1;32m    598\u001b[0m     alpha \u001b[38;5;241m=\u001b[39m np\u001b[38;5;241m.\u001b[39mmin([\u001b[38;5;28msum\u001b[39m(output_matrix[s, r] \u001b[38;5;241m*\u001b[39m xx[r]\n\u001b[1;32m    599\u001b[0m                     \u001b[38;5;28;01mfor\u001b[39;00m r \u001b[38;5;129;01min\u001b[39;00m reactions)\n\u001b[1;32m    600\u001b[0m                     \u001b[38;5;241m/\u001b[39m\n\u001b[1;32m    601\u001b[0m                     \u001b[38;5;28msum\u001b[39m(input_matrix[s, r] \u001b[38;5;241m*\u001b[39m xx[r] \n\u001b[1;32m    602\u001b[0m                     \u001b[38;5;28;01mfor\u001b[39;00m r \u001b[38;5;129;01min\u001b[39;00m reactions) \n\u001b[1;32m    603\u001b[0m                 \u001b[38;5;28;01mfor\u001b[39;00m s \u001b[38;5;129;01min\u001b[39;00m aa])\n\u001b[1;32m    604\u001b[0m     \u001b[38;5;28mprint\u001b[39m(\u001b[38;5;124m\"\u001b[39m\u001b[38;5;124m**[\u001b[39m\u001b[38;5;132;01m%d\u001b[39;00m\u001b[38;5;124m] alphabar: \u001b[39m\u001b[38;5;124m\"\u001b[39m\u001b[38;5;241m%\u001b[39mstep, alphabar, \u001b[38;5;124m\"\u001b[39m\u001b[38;5;124malpha: \u001b[39m\u001b[38;5;124m\"\u001b[39m, alpha, \u001b[38;5;124m\"\u001b[39m\u001b[38;5;124m|a|=\u001b[39m\u001b[38;5;124m\"\u001b[39m, \u001b[38;5;28mlen\u001b[39m(aa), \u001b[38;5;124m\"\u001b[39m\u001b[38;5;124m|z|=\u001b[39m\u001b[38;5;124m\"\u001b[39m, \u001b[38;5;28mlen\u001b[39m(zz), end\u001b[38;5;241m=\u001b[39m\u001b[38;5;124m\"\u001b[39m\u001b[38;5;124m\"\u001b[39m) \n",
      "File \u001b[0;32m~/Library/Mobile Documents/com~apple~CloudDocs/projects/dynamic_autocatalysis/codeModel.py:555\u001b[0m, in \u001b[0;36mgrowthRateinSubgraph.<locals>.modelGrowthRateFixed\u001b[0;34m(alpha0)\u001b[0m\n\u001b[1;32m    549\u001b[0m \u001b[38;5;66;03m# --------------------------------------\u001b[39;00m\n\u001b[1;32m    550\u001b[0m \n\u001b[1;32m    551\u001b[0m \u001b[38;5;66;03m# Result\u001b[39;00m\n\u001b[1;32m    552\u001b[0m \u001b[38;5;66;03m# --------------------------------------\u001b[39;00m\n\u001b[1;32m    553\u001b[0m \u001b[38;5;28;01mif\u001b[39;00m m\u001b[38;5;241m.\u001b[39mstatus \u001b[38;5;241m!=\u001b[39m gb\u001b[38;5;241m.\u001b[39mGRB\u001b[38;5;241m.\u001b[39mOPTIMAL:\n\u001b[1;32m    554\u001b[0m     \u001b[38;5;66;03m# st=0\u001b[39;00m\n\u001b[0;32m--> 555\u001b[0m     \u001b[43mm\u001b[49m\u001b[38;5;241;43m.\u001b[39;49m\u001b[43mcomputeIIS\u001b[49m\u001b[43m(\u001b[49m\u001b[43m)\u001b[49m\n\u001b[1;32m    557\u001b[0m     IISfile\u001b[38;5;241m=\u001b[39m\u001b[38;5;124m\"\u001b[39m\u001b[38;5;124minf2.ILP\u001b[39m\u001b[38;5;124m\"\u001b[39m\n\u001b[1;32m    558\u001b[0m     m\u001b[38;5;241m.\u001b[39mwrite(IISfile)\n",
      "File \u001b[0;32msrc/gurobipy/model.pxi:1005\u001b[0m, in \u001b[0;36mgurobipy.Model.computeIIS\u001b[0;34m()\u001b[0m\n",
      "\u001b[0;31mGurobiError\u001b[0m: Cannot compute IIS on a feasible model"
     ]
    }
   ],
   "source": [
    "XX_sn = code.growthRateinSubgraph(output_matrix, input_matrix, 1000)\n",
    "xsol_sn = XX_sn[0]\n",
    "alphasol_sn =XX_sn[1]\n",
    "step_sn = XX_sn[2]\n",
    "time_sn=XX_sn[7]\n",
    "asol_sn=XX_sn[4]\n",
    "ysol_sn=XX_sn[5]\n",
    "zsol_sn=XX_sn[6]\n",
    "\n",
    "isA_sp_sn, isA_re_sn=IsAutonomous(input_matrix, output_matrix, asol_sn, zsol_sn)\n",
    "\n",
    "isA_sn=False\n",
    "if isA_sp_sn and isA_re_sn:\n",
    "    isA_sn=True"
   ]
  },
  {
   "cell_type": "code",
   "execution_count": 7,
   "metadata": {},
   "outputs": [
    {
     "data": {
      "text/plain": [
       "array([  128.2413414 ,   825.85170126,  1050.43982559,   804.1405386 ,\n",
       "        -446.17624867,  1000.        ,  2730.64127006,  -456.62128878,\n",
       "       -1529.51371803, -1328.56186263,  -304.2044751 ,  1831.67090521,\n",
       "         223.81271246,  2232.84001273,   994.99658107,  1016.965065  ,\n",
       "       -5971.17093115,   660.5349082 ,  1000.        ,  2444.33763415,\n",
       "        1117.16179086,  1002.45259518,   774.41187567,  1001.        ,\n",
       "        1998.        ,   634.01878578,   774.05746705,   223.81271246,\n",
       "         816.11813127,   184.70107269,  -567.22958847,   225.01523961,\n",
       "         998.44917625,    -9.48322846, -3147.09745555,  3058.1773622 ,\n",
       "        2302.91700112, -1648.23271793])"
      ]
     },
     "execution_count": 7,
     "metadata": {},
     "output_type": "execute_result"
    }
   ],
   "source": [
    "\n",
    "cols=[names_cols[r] for r in zsol_sn]\n",
    "rows=[names_rows[s] for s in asol_sn]\n",
    "SM[rows,:][:,cols].dot(xsol_sn[zsol_sn])\n",
    "#print(cols, rows)"
   ]
  },
  {
   "cell_type": "code",
   "execution_count": 8,
   "metadata": {},
   "outputs": [
    {
     "data": {
      "text/plain": [
       "(38, 109)"
      ]
     },
     "execution_count": 8,
     "metadata": {},
     "output_type": "execute_result"
    }
   ],
   "source": [
    "SM[rows,:][:,cols].shape"
   ]
  },
  {
   "cell_type": "code",
   "execution_count": null,
   "metadata": {},
   "outputs": [],
   "source": []
  }
 ],
 "metadata": {
  "kernelspec": {
   "display_name": "Python 3",
   "language": "python",
   "name": "python3"
  },
  "language_info": {
   "codemirror_mode": {
    "name": "ipython",
    "version": 3
   },
   "file_extension": ".py",
   "mimetype": "text/x-python",
   "name": "python",
   "nbconvert_exporter": "python",
   "pygments_lexer": "ipython3",
   "version": "3.11.5"
  }
 },
 "nbformat": 4,
 "nbformat_minor": 2
}
