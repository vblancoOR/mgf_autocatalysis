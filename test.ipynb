{
 "cells": [
  {
   "cell_type": "code",
   "execution_count": 1,
   "metadata": {},
   "outputs": [
    {
     "name": "stdout",
     "output_type": "stream",
     "text": [
      "Intel MKL WARNING: Support of Intel(R) Streaming SIMD Extensions 4.2 (Intel(R) SSE4.2) enabled only processors has been deprecated. Intel oneAPI Math Kernel Library 2025.0 will require Intel(R) Advanced Vector Extensions (Intel(R) AVX) instructions.\n",
      "Intel MKL WARNING: Support of Intel(R) Streaming SIMD Extensions 4.2 (Intel(R) SSE4.2) enabled only processors has been deprecated. Intel oneAPI Math Kernel Library 2025.0 will require Intel(R) Advanced Vector Extensions (Intel(R) AVX) instructions.\n"
     ]
    }
   ],
   "source": [
    "from main import *\n",
    "import numpy as np\n",
    "import sys"
   ]
  },
  {
   "cell_type": "code",
   "execution_count": 2,
   "metadata": {},
   "outputs": [],
   "source": [
    "def genpairs(n, m, N):\n",
    "    L=set()\n",
    "    i, j = np.random.randint(0, n), np.random.randint(0, m)\n",
    "    L.add((i,j))\n",
    "    while len(L) < N:\n",
    "        while (i, j) in L:\n",
    "            i, j = np.random.randint(0, n), np.random.randint(0,m)\n",
    "        L.add((i,j))\n",
    "    return L\n",
    "def genpairsnotinL(n,m, N, LL):\n",
    "    L=set()\n",
    "    i, j = np.random.randint(0, n), np.random.randint(0, m)\n",
    "    if (i,j) not in LL:\n",
    "        L.add((i,j))\n",
    "    while len(L) < N:\n",
    "        while (i, j) in L or (i,j) in LL:\n",
    "            i, j = np.random.randint(0, n), np.random.randint(0,m)\n",
    "        L.add((i,j))\n",
    "    return L\n",
    "\n",
    "def IsAutonomous(input_matrix, output_matrix, aut_species, aut_reactions):\n",
    "    \n",
    "    autonomous_species=True\n",
    "    autonomous_reactions=True\n",
    "    #n, m =input_matrix.shape\n",
    "    for s in aut_species:\n",
    "        if sum(input_matrix[s,r] for r in aut_reactions)<0.5 or sum(output_matrix[s,r] for r in aut_reactions)<0.5:\n",
    "            autonomous_species=False\n",
    "    for r in aut_reactions:\n",
    "        if sum(input_matrix[s,r] for s in aut_species)<0.5 or sum(output_matrix[s,r] for s in aut_species)<0.5:\n",
    "            autonomous_reactions=False\n",
    "\n",
    "    return autonomous_species, autonomous_reactions\n"
   ]
  },
  {
   "cell_type": "markdown",
   "metadata": {},
   "source": [
    "## Data"
   ]
  },
  {
   "cell_type": "code",
   "execution_count": 3,
   "metadata": {},
   "outputs": [],
   "source": [
    "# NN=[10, 20, 30, 40, 50]\n",
    "# MM=[10, 20, 30, 40, 50]\n",
    "# UB=100\n",
    "# D=[3,4,5]\n",
    "# for n in NN:\n",
    "#     for m in MM:\n",
    "#         for d in D:\n",
    "#             for rep in [1,2,3,4,5]:\n",
    "#                 matrix = np.random.randint(0,UB, size=(n,m))\n",
    "#                 pairs1=genpairs(n, m, n*m/d)\n",
    "#                 pairs2=genpairsnotinL(n, m, n*m/d, pairs1)\n",
    "\n",
    "#                 output_matrix = np.zeros((n,m))\n",
    "#                 input_matrix = np.zeros((n,m))\n",
    "#                 for i in range(n):\n",
    "#                     for j in range(m):\n",
    "#                         if (i,j) in pairs1:\n",
    "#                             input_matrix[i,j]=matrix[i,j]\n",
    "#                         elif (i,j) in pairs2:\n",
    "#                             output_matrix[i,j]=matrix[i,j]\n",
    "\n",
    "#                 np.savetxt(\"instances/left_n%dm%dd%d_%d.txt\"%(n,m,d,rep), input_matrix, fmt=\"%d\")\n",
    "#                 np.savetxt(\"instances/right_n%dm%dd%d_%d.txt\"%(n,m,d,rep), output_matrix, fmt=\"%d\")"
   ]
  },
  {
   "cell_type": "markdown",
   "metadata": {},
   "source": [
    "## Growth factor"
   ]
  },
  {
   "cell_type": "code",
   "execution_count": 6,
   "metadata": {},
   "outputs": [
    {
     "name": "stdout",
     "output_type": "stream",
     "text": [
      "n \t m \t d \t rep \t steps \t time \t\t alpha \t IsAut_Sp \t IsAut_Re \t steps_a \t time_a \t\t alpha_a \t IsAut_Sp_a \t IsAut_Re\n",
      "10 \t 10 \t 3 \t 1 \t 26 \t 0.5137 \t 0.9611\t\t\t10\t[0 1 2 3 4 5 6 7 8 9]\tTrue\tTrue\n",
      "10 \t 10 \t 3 \t 2 \t 24 \t 0.4333 \t 0.0654\t\t\t8\t[0 1 2 3 4 5 6 7]\tTrue\tTrue\n",
      "10 \t 10 \t 3 \t 3 \t 17 \t 0.2643 \t 0.8187\t\t\t8\t[0 2 4 5 6 7 8 9]\tTrue\tTrue\n",
      "10 \t 10 \t 3 \t 4 \t 32 \t 0.5097 \t 0.4282\t\t\t9\t[0 1 2 3 4 5 7 8 9]\tTrue\tTrue\n",
      "10 \t 10 \t 3 \t 5 \t 0 \t 0.0064 \t 0.1691\t\t\t9\t[0 1 2 3 5 6 7 8 9]\tFalse\tTrue\n",
      "10 \t 10 \t 4 \t 1 \t 0 \t 0.0052 \t 0.0000\t\t\t9\t[0 1 2 3 4 5 6 8 9]\tFalse\tFalse\n"
     ]
    },
    {
     "name": "stderr",
     "output_type": "stream",
     "text": [
      "/Users/vblanco/Library/Mobile Documents/com~apple~CloudDocs/projects/dynamic_autocatalysis/codeModel.py:359: RuntimeWarning: divide by zero encountered in scalar divide\n",
      "  alpha_t = np.min([sum(output_matrix[s, r] * x_t[r]\n"
     ]
    },
    {
     "name": "stdout",
     "output_type": "stream",
     "text": [
      "10 \t 10 \t 4 \t 2 \t 28 \t 0.3770 \t 0.7915\t\t\t10\t[0 1 2 3 4 5 6 7 8 9]\tTrue\tTrue\n",
      "10 \t 10 \t 4 \t 3 \t 0 \t 0.0059 \t 0.1784\t\t\t8\t[0 1 2 4 6 7 8 9]\tFalse\tFalse\n",
      "10 \t 10 \t 4 \t 4 \t 0 \t 0.0054 \t 0.0000\t\t\t8\t[0 1 2 3 6 7 8 9]\tFalse\tFalse\n",
      "10 \t 10 \t 4 \t 5 \t 0 \t 0.0055 \t 0.0192\t\t\t9\t[0 2 3 4 5 6 7 8 9]\tFalse\tFalse\n",
      "10 \t 10 \t 5 \t 1 \t 0 \t 0.0048 \t 0.0000\t\t\t8\t[0 1 3 4 5 6 8 9]\tFalse\tFalse\n",
      "10 \t 10 \t 5 \t 2 \t 0 \t 0.0054 \t 0.0000\t\t\t8\t[0 1 2 4 6 7 8 9]\tFalse\tFalse\n",
      "10 \t 10 \t 5 \t 3 \t 0 \t 0.0058 \t 0.4022\t\t\t9\t[0 1 2 3 4 5 6 7 8]\tFalse\tFalse\n",
      "10 \t 10 \t 5 \t 4 \t 6 \t 0.0827 \t 0.0001\t\t\t8\t[1 2 3 4 5 6 7 8]\tTrue\tFalse\n",
      "10 \t 10 \t 5 \t 5 \t 0 \t 0.0049 \t 0.0000\t\t\t8\t[0 1 3 4 6 7 8 9]\tFalse\tFalse\n"
     ]
    },
    {
     "name": "stderr",
     "output_type": "stream",
     "text": [
      "/Users/vblanco/Library/Mobile Documents/com~apple~CloudDocs/projects/dynamic_autocatalysis/codeModel.py:359: RuntimeWarning: divide by zero encountered in scalar divide\n",
      "  alpha_t = np.min([sum(output_matrix[s, r] * x_t[r]\n",
      "/Users/vblanco/Library/Mobile Documents/com~apple~CloudDocs/projects/dynamic_autocatalysis/codeModel.py:359: RuntimeWarning: divide by zero encountered in scalar divide\n",
      "  alpha_t = np.min([sum(output_matrix[s, r] * x_t[r]\n",
      "/Users/vblanco/Library/Mobile Documents/com~apple~CloudDocs/projects/dynamic_autocatalysis/codeModel.py:359: RuntimeWarning: divide by zero encountered in scalar divide\n",
      "  alpha_t = np.min([sum(output_matrix[s, r] * x_t[r]\n",
      "/Users/vblanco/Library/Mobile Documents/com~apple~CloudDocs/projects/dynamic_autocatalysis/codeModel.py:359: RuntimeWarning: divide by zero encountered in scalar divide\n",
      "  alpha_t = np.min([sum(output_matrix[s, r] * x_t[r]\n",
      "/Users/vblanco/Library/Mobile Documents/com~apple~CloudDocs/projects/dynamic_autocatalysis/codeModel.py:359: RuntimeWarning: divide by zero encountered in scalar divide\n",
      "  alpha_t = np.min([sum(output_matrix[s, r] * x_t[r]\n",
      "/Users/vblanco/Library/Mobile Documents/com~apple~CloudDocs/projects/dynamic_autocatalysis/codeModel.py:359: RuntimeWarning: divide by zero encountered in scalar divide\n",
      "  alpha_t = np.min([sum(output_matrix[s, r] * x_t[r]\n"
     ]
    },
    {
     "name": "stdout",
     "output_type": "stream",
     "text": [
      "\n",
      "Interrupt request received\n",
      "10 \t 20 \t 3 \t 1 \t 24 \t 0.5527 \t -1.0000\t\t\t0\t[]\tTrue\tFalse\n",
      "10 \t 20 \t 3 \t 2 \t 35 \t 1.0761 \t 1.6019\t\t\t9\t[0 1 2 4 5 6 7 8 9]\tTrue\tTrue\n",
      "10 \t 20 \t 3 \t 3 \t 50 \t 1.0982 \t 2.3082\t\t\t10\t[0 1 2 3 4 5 6 7 8 9]\tTrue\tTrue\n",
      "10 \t 20 \t 3 \t 4 \t 71 \t 2.1728 \t 1.8812\t\t\t10\t[0 1 2 3 4 5 6 7 8 9]\tTrue\tTrue\n",
      "10 \t 20 \t 3 \t 5 \t 112 \t 3.1293 \t 1.8724\t\t\t10\t[0 1 2 3 4 5 6 7 8 9]\tTrue\tFalse\n"
     ]
    }
   ],
   "source": [
    "import pandas as pd\n",
    "np.set_printoptions(suppress=True)\n",
    "print(\"n \\t m \\t d \\t rep \\t steps \\t time \\t\\t alpha \\t IsAut_Sp \\t IsAut_Re \\t steps_a \\t time_a \\t alpha_a \\t IsAut_Sp_a \\t IsAut_Re_a\")\n",
    "df = pd.DataFrame(columns=['n', 'm', 'd', 'rep', 'steps', 'time', 'alpha', 'x', 'IsAut_Sp', 'IsAut_Re', 'steps', 'time_a', 'alpha_a', 'x_a', '|a|', 'a', 'IsAut_Sp_a', 'IsAut_Re_a'])\n",
    "row=0\n",
    "NN=[10, 20, 30, 40, 50]\n",
    "MM=[10, 20, 30, 40, 50]\n",
    "for n in NN:\n",
    "    for m in MM:\n",
    "        D=[3,4,5]\n",
    "        for d in D:\n",
    "            for rep in [1,2,3,4,5]:\n",
    "                input_matrix= np.loadtxt(\"instances/left_n%dm%dd%d_%d.txt\"%(n,m,d,rep))\n",
    "                output_matrix= np.loadtxt(\"instances/right_n%dm%dd%d_%d.txt\"%(n,m,d,rep))\n",
    "                #XX = code.growthRateGraph(output_matrix, input_matrix, 10000)\n",
    "                XX = code.growthRateGraph(output_matrix, input_matrix, 10000)\n",
    "                xsol = XX[0]\n",
    "                alphasol =XX[1]\n",
    "                step = XX[2]\n",
    "                time=XX[4]\n",
    "                XX_a = code.growthRateGraph_a(output_matrix, input_matrix, 10000)\n",
    "                xsol_a = XX_a[0]\n",
    "                alphasol_a =XX_a[1]\n",
    "                step_a = XX_a[2]\n",
    "                time_a=XX_a[4]\n",
    "                asol=XX[5]\n",
    "                # print(\"steps: \", step)\n",
    "                # print(\"x: \", xsol)\n",
    "                # print(\"alpha: \", alphasol)\n",
    "                # print(\"time: \", time)\n",
    "                isA_sp, isA_re=IsAutonomous(input_matrix, output_matrix, range(n), range(m))\n",
    "                isA_sp_a, isA_re_a=IsAutonomous(input_matrix, output_matrix, asol, range(m))\n",
    "                print(\"%d \\t %d \\t %d \\t %d \\t %d \\t %.4f \\t %.4f\"%(n,m,d,rep,step,time,alphasol), \"\\t\", len(asol), asol, isA_sp, isA_re, sep=\"\\t\")\n",
    "                df.loc[row] = [n,m,d,rep,step,time,alphasol,xsol, step_a,time_a,alphasol_a,xsol_a,len(asol), asol, isA_sp_a, isA_re_a]\n",
    "                row+=1\n",
    "df.to_csv('GrowthRate_Experiments.csv', index=False)  "
   ]
  },
  {
   "cell_type": "code",
   "execution_count": 14,
   "metadata": {},
   "outputs": [
    {
     "name": "stdout",
     "output_type": "stream",
     "text": [
      "                                                                                                                       \n",
      "-13.0  13.0 -10.0   3.0 -15.0  15.0 -10.0  -9.0  15.0   0.0   0.0 -12.0   0.0  17.0  10.0 -12.0  12.0   8.0  -4.0  -3.0\n",
      "  0.0   2.0 -12.0   0.0   4.0 -18.0   0.0 -14.0  10.0  -5.0  16.0  14.0  -4.0  -5.0 -18.0   0.0  18.0 -12.0 -12.0   0.0\n",
      "  0.0  10.0 -13.0  -2.0   6.0   0.0   0.0   0.0   0.0   0.0  -3.0 -19.0  10.0  -4.0 -15.0   3.0   0.0   0.0  -5.0   0.0\n",
      " -2.0  -4.0   0.0   0.0  11.0   0.0   0.0  -1.0   0.0  11.0  10.0   4.0 -14.0   0.0  -8.0   8.0   0.0  10.0 -13.0   4.0\n",
      "  8.0  -1.0   6.0   3.0   0.0   9.0 -13.0  18.0 -13.0  11.0   9.0   0.0  -8.0   0.0   0.0   7.0  -7.0 -17.0   0.0  -7.0\n",
      "-12.0  -5.0 -17.0   5.0  19.0   0.0 -17.0   0.0   0.0   0.0   0.0 -17.0 -17.0 -11.0  10.0 -11.0   7.0   0.0   0.0   0.0\n",
      "-16.0  -9.0  -6.0   0.0   0.0   2.0  -7.0  -1.0  -5.0  -1.0   0.0   0.0  19.0   6.0  -5.0   0.0  19.0   8.0   0.0   6.0\n",
      "  0.0   0.0  16.0 -19.0  19.0   0.0 -11.0   0.0  19.0  -7.0  11.0 -16.0   2.0   0.0  -6.0   0.0 -18.0  -3.0 -17.0   4.0\n",
      "  0.0   0.0 -12.0   0.0 -11.0   0.0   6.0  -6.0   9.0   0.0   8.0  18.0   0.0  -4.0   0.0 -16.0 -12.0   0.0   0.0   0.0\n",
      "  0.0  -7.0  14.0  10.0   0.0   0.0   0.0   0.0  -7.0   0.0  18.0   0.0  -6.0   0.0   0.0 -11.0  10.0  11.0  -2.0  -7.0\n",
      " 15.0  -7.0   0.0 -11.0   0.0  12.0  -1.0  17.0   0.0  15.0  -1.0   0.0  -2.0   2.0   0.0  10.0   3.0   0.0   0.0 -16.0\n",
      "  0.0 -13.0   0.0  -5.0   7.0 -18.0   0.0  18.0   2.0   0.0   0.0  15.0   5.0 -17.0   0.0 -11.0  -7.0   0.0   0.0   0.0\n",
      " -5.0   0.0   0.0  13.0  13.0   0.0   3.0  17.0  13.0  16.0 -15.0   9.0   0.0  -7.0 -14.0   9.0  -9.0   5.0 -12.0   6.0\n",
      "  4.0 -14.0   0.0  -8.0   0.0   7.0   2.0 -11.0   0.0  10.0   0.0  14.0 -16.0   0.0   4.0   0.0 -16.0   5.0  16.0   0.0\n",
      "-15.0   0.0   0.0   1.0  -9.0 -11.0   0.0  19.0   0.0   3.0   0.0  -1.0  12.0  16.0  13.0  13.0   8.0   0.0   7.0  16.0\n",
      "  0.0  19.0 -19.0   0.0  -9.0 -11.0   0.0   8.0   0.0 -11.0   9.0  -2.0  10.0   0.0   3.0   0.0   9.0   0.0  -4.0   0.0\n",
      "  2.0  14.0   0.0   6.0   0.0 -16.0   2.0  -4.0   0.0   0.0 -14.0   0.0  -6.0   1.0  13.0  -7.0  -4.0   0.0   0.0   4.0\n",
      "  0.0  16.0   1.0   0.0 -19.0  -8.0 -14.0 -15.0   0.0   0.0  14.0   0.0   0.0 -13.0   0.0   0.0 -13.0  -7.0  12.0  -6.0\n",
      "  0.0  13.0   0.0   0.0   3.0  18.0   0.0   0.0   0.0  12.0   0.0  -9.0   7.0  -7.0   0.0  -3.0  -5.0   0.0 -15.0 -18.0\n",
      " 10.0  15.0   0.0  19.0  -6.0   8.0 -19.0 -13.0   1.0   0.0   0.0  17.0   0.0  -2.0 -14.0  11.0  17.0  12.0  18.0 -16.0\n",
      "           \n",
      "1.0 0.0 0.0\n",
      "0.0 1.0 0.0\n",
      "0.0 0.0 1.0\n",
      "             \n",
      " 0.0 10.0 4.0\n",
      "17.0  0.0 0.0\n",
      "19.0  0.0 0.0\n",
      "              \n",
      "-1.0 10.0  4.0\n",
      "17.0 -1.0  0.0\n",
      "19.0  0.0 -1.0\n"
     ]
    }
   ],
   "source": [
    "import pandas as pd\n",
    "SM0 = pd.DataFrame(SM)\n",
    "SM0.columns = ['']*SM0.shape[1]\n",
    "print(SM0.to_string(index=False))\n",
    "\n",
    "I0 = pd.DataFrame(input_matrix_sol)\n",
    "I0.columns = ['']*I0.shape[1]\n",
    "print(I0.to_string(index=False))\n",
    "\n",
    "O0 = pd.DataFrame(output_matrix_sol)\n",
    "O0.columns = ['']*O0.shape[1]\n",
    "print(O0.to_string(index=False))\n",
    "\n",
    "SMsol0 = pd.DataFrame(SMsol)\n",
    "SMsol0.columns = ['']*SMsol0.shape[1]\n",
    "print(SMsol0.to_string(index=False))"
   ]
  },
  {
   "cell_type": "code",
   "execution_count": 15,
   "metadata": {},
   "outputs": [
    {
     "data": {
      "text/plain": [
       "15.684386344640638"
      ]
     },
     "execution_count": 15,
     "metadata": {},
     "output_type": "execute_result"
    }
   ],
   "source": [
    "alpha_hand =  np.min([sum(output_matrix[s, r] * xsol[r] \n",
    "                         for r in zsol)\n",
    "                     /\n",
    "                     sum(input_matrix[s, r] * xsol[r] \n",
    "                         for r in zsol) \n",
    "                     for s in asol if sum(input_matrix[s, r] * xsol[r] \n",
    "                         for r in zsol)>0.0001])\n",
    "alpha_hand"
   ]
  },
  {
   "cell_type": "code",
   "execution_count": null,
   "metadata": {},
   "outputs": [],
   "source": []
  }
 ],
 "metadata": {
  "kernelspec": {
   "display_name": "Python 3",
   "language": "python",
   "name": "python3"
  },
  "language_info": {
   "codemirror_mode": {
    "name": "ipython",
    "version": 3
   },
   "file_extension": ".py",
   "mimetype": "text/x-python",
   "name": "python",
   "nbconvert_exporter": "python",
   "pygments_lexer": "ipython3",
   "version": "3.9.17"
  }
 },
 "nbformat": 4,
 "nbformat_minor": 2
}
