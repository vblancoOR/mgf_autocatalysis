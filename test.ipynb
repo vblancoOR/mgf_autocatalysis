{
 "cells": [
  {
   "cell_type": "code",
   "execution_count": 1,
   "metadata": {},
   "outputs": [],
   "source": [
    "from main import *"
   ]
  },
  {
   "cell_type": "code",
   "execution_count": 2,
   "metadata": {},
   "outputs": [
    {
     "name": "stdout",
     "output_type": "stream",
     "text": [
      "----------------------------------\n",
      "----------------------------------\n",
      "----------------------------------\n",
      "Set parameter Username\n",
      "Academic license - for non-commercial use only - expires 2025-02-04\n",
      "sp  0 -- [0 1 0 0 1 0 0 1 1 1 0 0 1 1 1 1 0 0 1 1 1 1 0 0 1 1 1 1 0 0 0 0 0 0 0 0 0\n",
      " 0]\n",
      "sp  1 -- [1 0 0 0 0 0 0 0 0 0 0 0 0 0 0 0 0 0 0 0 0 0 0 0 0 0 0 0 0 0 0 0 0 0 0 0 0\n",
      " 0]\n",
      "sp  2 -- [0 1 0 0 0 0 0 0 0 0 0 0 0 0 0 0 0 0 0 0 0 0 0 0 0 0 0 0 0 0 0 0 0 0 0 0 0\n",
      " 0]\n",
      "sp  3 -- [0 0 1 0 0 0 0 0 0 0 0 0 0 0 0 0 0 0 0 0 0 0 0 0 0 0 0 0 0 0 0 0 0 0 0 0 0\n",
      " 0]\n",
      "sp  4 -- [0 0 0 0 1 0 0 0 0 0 0 0 0 0 0 0 0 0 0 0 0 0 0 0 0 0 0 0 0 0 0 0 0 0 0 0 0\n",
      " 0]\n",
      "sp  5 -- [0 0 0 1 0 0 0 0 0 0 0 0 0 0 0 0 0 0 0 0 0 0 0 0 0 0 0 0 0 0 0 0 0 0 0 0 0\n",
      " 0]\n",
      "sp  6 -- [0 0 0 0 0 0 0 1 1 0 0 0 0 0 0 0 0 0 0 0 0 0 0 0 0 0 0 0 0 0 0 0 0 0 0 0 0\n",
      " 0]\n",
      "sp  7 -- [0 0 0 0 0 1 1 0 0 0 0 0 0 0 0 0 0 0 0 0 0 0 0 0 0 0 0 0 0 0 0 0 0 0 0 0 0\n",
      " 0]\n",
      "sp  8 -- [0 0 0 0 0 0 0 0 0 1 0 0 0 0 0 0 0 0 0 0 0 0 0 0 0 0 0 0 0 0 0 0 0 0 0 0 0\n",
      " 0]\n",
      "sp  9 -- [0 0 0 0 0 0 0 0 0 0 0 0 1 1 0 0 0 0 0 0 0 0 0 0 0 0 0 0 0 0 0 0 0 0 0 0 0\n",
      " 0]\n",
      "sp  10 -- [0 0 0 0 0 0 0 0 0 0 1 0 0 0 0 0 0 0 0 0 0 0 0 0 0 0 0 0 0 0 0 0 0 0 0 0 0\n",
      " 0]\n",
      "sp  11 -- [0 0 0 0 0 0 0 0 0 0 0 0 0 0 0 0 0 0 0 0 0 0 0 0 0 0 0 0 0 0 0 0 0 0 0 0 0\n",
      " 1]\n",
      "sp  12 -- [0 0 0 0 0 0 0 0 0 0 0 1 0 0 0 0 0 0 0 0 0 0 0 0 0 0 0 0 0 0 0 0 0 0 0 0 0\n",
      " 0]\n",
      "sp  13 -- [0 0 0 0 0 0 0 0 0 0 0 0 0 0 1 1 0 0 0 0 0 0 0 0 0 0 0 0 0 0 0 0 0 0 0 0 0\n",
      " 0]\n",
      "sp  14 -- [0 0 0 0 0 0 0 0 0 0 0 0 0 0 0 0 1 0 0 0 0 0 0 0 0 0 0 0 0 0 0 0 0 0 0 1 0\n",
      " 0]\n",
      "sp  15 -- [0 0 0 0 0 0 0 0 0 0 0 0 0 0 0 0 0 0 1 1 0 0 0 0 0 0 0 0 0 0 0 0 0 0 0 0 0\n",
      " 0]\n",
      "sp  16 -- [0 0 0 0 0 0 0 0 0 0 0 0 0 0 0 0 0 1 0 0 0 0 0 0 0 0 0 0 0 0 0 0 0 0 0 0 0\n",
      " 0]\n",
      "sp  17 -- [0 0 0 0 0 0 0 0 0 0 0 0 0 0 0 0 0 0 0 0 1 1 0 0 0 0 0 0 0 0 0 0 0 0 0 0 0\n",
      " 0]\n",
      "sp  18 -- [0 0 0 0 0 0 0 0 0 0 0 0 0 0 0 0 0 0 0 0 0 0 0 0 0 0 0 0 0 0 0 0 0 0 0 0 1\n",
      " 0]\n",
      "sp  19 -- [0 0 0 0 0 0 0 0 0 0 0 0 0 0 0 0 0 0 0 0 0 0 0 0 0 0 0 0 0 0 0 0 1 0 0 0 0\n",
      " 0]\n",
      "sp  20 -- [0 0 0 0 0 0 0 0 0 0 0 0 0 0 0 0 0 0 0 0 0 0 1 0 0 0 0 0 0 0 0 0 0 1 0 0 0\n",
      " 0]\n",
      "sp  21 -- [0 0 0 0 0 0 0 0 0 0 0 0 0 0 0 0 0 0 0 0 0 0 0 0 1 1 0 0 0 0 0 0 0 0 0 0 0\n",
      " 0]\n",
      "sp  22 -- [0 0 0 0 0 0 0 0 0 0 0 0 0 0 0 0 0 0 0 0 0 0 0 0 0 0 0 0 0 0 0 0 0 0 0 0 0\n",
      " 0]\n",
      "sp  23 -- [0 0 0 0 0 0 0 0 0 0 0 0 0 0 0 0 0 0 0 0 0 0 0 1 0 0 0 0 0 0 0 0 0 0 1 0 0\n",
      " 0]\n",
      "sp  24 -- [0 0 0 0 0 0 0 0 0 0 0 0 0 0 0 0 0 0 0 0 0 0 0 0 0 0 1 1 0 0 0 0 0 0 0 0 0\n",
      " 0]\n",
      "sp  25 -- [0 0 0 0 0 0 0 0 0 0 0 0 0 0 0 0 0 0 0 0 0 0 0 0 0 0 0 0 1 0 0 0 0 0 0 0 0\n",
      " 0]\n",
      "sp  26 -- [0 0 0 0 0 0 0 0 0 0 0 0 0 0 0 0 0 0 0 0 0 0 0 0 0 0 0 0 0 1 0 0 0 0 0 0 0\n",
      " 0]\n",
      "sp  27 -- [0 0 0 0 0 0 0 0 0 0 0 0 0 0 0 0 0 0 0 0 0 0 0 0 0 0 0 0 0 0 1 0 0 0 0 0 0\n",
      " 0]\n",
      "sp  28 -- [0 0 0 0 0 0 0 0 0 0 0 0 0 0 0 0 0 0 0 0 0 0 0 0 0 0 0 0 0 0 0 1 0 0 0 0 0\n",
      " 0]\n",
      "S-:\n",
      "[[0 1 0 ... 0 0 0]\n",
      " [1 0 0 ... 0 0 0]\n",
      " [0 1 0 ... 0 0 0]\n",
      " ...\n",
      " [0 0 0 ... 0 0 0]\n",
      " [0 0 0 ... 0 0 0]\n",
      " [0 0 0 ... 0 0 0]]\n",
      "S+:\n",
      "[[0 0 0 ... 0 0 0]\n",
      " [0 0 0 ... 1 0 1]\n",
      " [1 0 0 ... 0 0 0]\n",
      " ...\n",
      " [0 0 0 ... 0 0 0]\n",
      " [0 0 0 ... 0 0 0]\n",
      " [0 0 0 ... 0 0 0]]\n",
      "S:\n",
      "[[ 0 -1  0 ...  0  0  0]\n",
      " [-1  0  0 ...  1  0  1]\n",
      " [ 1 -1  0 ...  0  0  0]\n",
      " ...\n",
      " [ 0  0  0 ...  0  0  0]\n",
      " [ 0  0  0 ...  0  0  0]\n",
      " [ 0  0  0 ...  0  0  0]]\n",
      "Alpha: 0.0\n",
      "Species (y):\n",
      "{0: ['s2', 's3', 's4', 's5', 's6', 's7', 's8', 's9', 's10', 's12', 's13', 's14', 's15', 's16', 's18', 's19', 's20', 's21', 's22', 's24', 's25', 's26', 's27', 's28', 's29'], 1: ['s2', 's3', 's4', 's5', 's6', 's7', 's8', 's9', 's10', 's11', 's12', 's13', 's14', 's15', 's16', 's17', 's18', 's19', 's20', 's21', 's22', 's24', 's25', 's26', 's27', 's28', 's29']}\n",
      "Autocatalytic species (a):\n",
      "{0: ['s2', 's3', 's4', 's5', 's6', 's7', 's8', 's9', 's10', 's12', 's13', 's14', 's15', 's16', 's18', 's19', 's20', 's21', 's22', 's24', 's25', 's26', 's27', 's28', 's29'], 1: ['s2', 's3', 's4', 's5', 's6', 's7', 's8', 's9', 's10', 's11', 's12', 's13', 's14', 's15', 's16', 's17', 's18', 's19', 's20', 's21', 's22', 's24', 's25', 's26', 's27', 's28', 's29']}\n",
      "Reactions (z):\n",
      "{0: ['s2 -> s3', 's1 + s3 -> s4', 's4 -> s5', 's6 -> s5', 's1 + s5 -> s8', 's8 -> s7', 's8 -> s9', 's1 + s7 -> s12', 's1 + s9 -> s13', 's13 -> s14', 's1 + s10 -> s15', 's1 + s14 -> s19', 's15 -> s16', 's1 + s16 -> s20', 's1 + s16 -> s21', 's1 + s18 -> s24', 's21 -> s22', 's24 -> s25', 's1 + s22 -> s26', 's1 + s22 -> s27', 's1 + s25 -> s28', 's1 + s25 -> s29', 's26 -> s2 + s18', 's27 -> s8 + s9', 's28 -> s5 + s13', 's29 -> s6 + s10', 's20 -> s5 + s8', 's21 -> s2 + s10', 's24 -> s6 + s9', 's15 -> s2 + s9', 's19 -> s5 + s6', 's12 -> s2 + s5'], 1: ['s2 -> s3', 's1 + s3 -> s4', 's4 -> s5', 's6 -> s5', 's1 + s5 -> s8', 's8 -> s7', 's8 -> s9', 's1 + s7 -> s11', 's1 + s7 -> s12', 's1 + s9 -> s13', 's11 -> s10', 's13 -> s14', 's1 + s10 -> s15', 's1 + s10 -> s17', 's1 + s14 -> s17', 's1 + s14 -> s19', 's15 -> s16', 's17 -> s18', 's1 + s16 -> s20', 's1 + s16 -> s21', 's1 + s18 -> s24', 's21 -> s22', 's24 -> s25', 's1 + s22 -> s26', 's1 + s22 -> s27', 's1 + s25 -> s28', 's1 + s25 -> s29', 's26 -> s2 + s18', 's27 -> s8 + s9', 's28 -> s5 + s13', 's29 -> s6 + s10', 's20 -> s5 + s8', 's21 -> s2 + s10', 's24 -> s6 + s9', 's15 -> s2 + s9', 's19 -> s5 + s6', 's12 -> s2 + s5']}\n",
      "Food (n) =\n",
      "{}\n",
      "Waste (w) =\n",
      "{}\n"
     ]
    },
    {
     "name": "stderr",
     "output_type": "stream",
     "text": [
      "/Users/vblanco/Library/Mobile Documents/com~apple~CloudDocs/projects/dynamic_autocatalysis/codeModel.py:691: RuntimeWarning: divide by zero encountered in scalar divide\n",
      "  alpha_0 = np.min([sum(output_matrix[s, r] * x_0[r]\n"
     ]
    },
    {
     "ename": "KeyError",
     "evalue": "29",
     "output_type": "error",
     "traceback": [
      "\u001b[0;31m---------------------------------------------------------------------------\u001b[0m",
      "\u001b[0;31mKeyError\u001b[0m                                  Traceback (most recent call last)",
      "Cell \u001b[0;32mIn[2], line 11\u001b[0m\n\u001b[1;32m      9\u001b[0m \u001b[38;5;66;03m#tryGrowthRateInSubGraphWithTime(nameScenario, number_periods)\u001b[39;00m\n\u001b[1;32m     10\u001b[0m \u001b[38;5;28mprint\u001b[39m(\u001b[38;5;124m'\u001b[39m\u001b[38;5;124m----------------------------------\u001b[39m\u001b[38;5;124m'\u001b[39m)\n\u001b[0;32m---> 11\u001b[0m \u001b[43mtryGrowthRateInSubGraphFoodWaste\u001b[49m\u001b[43m(\u001b[49m\u001b[43mnameScenario\u001b[49m\u001b[43m,\u001b[49m\u001b[43m \u001b[49m\u001b[43mnumber_periods\u001b[49m\u001b[43m)\u001b[49m\n\u001b[1;32m     12\u001b[0m \u001b[38;5;28mprint\u001b[39m(\u001b[38;5;124m'\u001b[39m\u001b[38;5;124m----------------------------------\u001b[39m\u001b[38;5;124m'\u001b[39m)\n",
      "File \u001b[0;32m~/Library/Mobile Documents/com~apple~CloudDocs/projects/dynamic_autocatalysis/main.py:237\u001b[0m, in \u001b[0;36mtryGrowthRateInSubGraphFoodWaste\u001b[0;34m(nameScenario, number_periods)\u001b[0m\n\u001b[1;32m    235\u001b[0m dictww \u001b[38;5;241m=\u001b[39m aux\u001b[38;5;241m.\u001b[39mconvierteDiccionarioDeTiempoYNombre(ww, species)\n\u001b[1;32m    236\u001b[0m \u001b[38;5;28mprint\u001b[39m(dictww)\n\u001b[0;32m--> 237\u001b[0m xxName \u001b[38;5;241m=\u001b[39m \u001b[43maux\u001b[49m\u001b[38;5;241;43m.\u001b[39;49m\u001b[43mmodifyFlow\u001b[49m\u001b[43m(\u001b[49m\u001b[43mxx\u001b[49m\u001b[43m,\u001b[49m\u001b[43m \u001b[49m\u001b[43mspecies\u001b[49m\u001b[43m)\u001b[49m\n\u001b[1;32m    238\u001b[0m \u001b[38;5;28mprint\u001b[39m(\u001b[38;5;124m\"\u001b[39m\u001b[38;5;124mFlow (x) =\u001b[39m\u001b[38;5;124m\"\u001b[39m, xxName)\n\u001b[1;32m    239\u001b[0m \u001b[38;5;28mprint\u001b[39m(\u001b[38;5;124m\"\u001b[39m\u001b[38;5;124mt:\u001b[39m\u001b[38;5;124m\"\u001b[39m, step)\n",
      "File \u001b[0;32m~/Library/Mobile Documents/com~apple~CloudDocs/projects/dynamic_autocatalysis/auxiliar.py:51\u001b[0m, in \u001b[0;36mmodifyFlow\u001b[0;34m(dictFlow, names)\u001b[0m\n\u001b[1;32m     49\u001b[0m keys \u001b[38;5;241m=\u001b[39m \u001b[38;5;28mlist\u001b[39m(dictFlow\u001b[38;5;241m.\u001b[39mkeys())\n\u001b[1;32m     50\u001b[0m values \u001b[38;5;241m=\u001b[39m \u001b[38;5;28mlist\u001b[39m(dictFlow\u001b[38;5;241m.\u001b[39mvalues())\n\u001b[0;32m---> 51\u001b[0m keys \u001b[38;5;241m=\u001b[39m \u001b[43m[\u001b[49m\u001b[43m(\u001b[49m\u001b[43mdictNames\u001b[49m\u001b[43m[\u001b[49m\u001b[43mi\u001b[49m\u001b[43m[\u001b[49m\u001b[38;5;241;43m0\u001b[39;49m\u001b[43m]\u001b[49m\u001b[43m]\u001b[49m\u001b[43m,\u001b[49m\u001b[43m \u001b[49m\u001b[43mi\u001b[49m\u001b[43m[\u001b[49m\u001b[38;5;241;43m1\u001b[39;49m\u001b[43m]\u001b[49m\u001b[43m)\u001b[49m\u001b[43m \u001b[49m\u001b[38;5;28;43;01mfor\u001b[39;49;00m\u001b[43m \u001b[49m\u001b[43mi\u001b[49m\u001b[43m \u001b[49m\u001b[38;5;129;43;01min\u001b[39;49;00m\u001b[43m \u001b[49m\u001b[43mkeys\u001b[49m\u001b[43m]\u001b[49m\n\u001b[1;32m     52\u001b[0m sol \u001b[38;5;241m=\u001b[39m \u001b[38;5;28mdict\u001b[39m(\u001b[38;5;28mzip\u001b[39m(keys, values))\n\u001b[1;32m     53\u001b[0m \u001b[38;5;28;01mreturn\u001b[39;00m sol\n",
      "File \u001b[0;32m~/Library/Mobile Documents/com~apple~CloudDocs/projects/dynamic_autocatalysis/auxiliar.py:51\u001b[0m, in \u001b[0;36m<listcomp>\u001b[0;34m(.0)\u001b[0m\n\u001b[1;32m     49\u001b[0m keys \u001b[38;5;241m=\u001b[39m \u001b[38;5;28mlist\u001b[39m(dictFlow\u001b[38;5;241m.\u001b[39mkeys())\n\u001b[1;32m     50\u001b[0m values \u001b[38;5;241m=\u001b[39m \u001b[38;5;28mlist\u001b[39m(dictFlow\u001b[38;5;241m.\u001b[39mvalues())\n\u001b[0;32m---> 51\u001b[0m keys \u001b[38;5;241m=\u001b[39m [(\u001b[43mdictNames\u001b[49m\u001b[43m[\u001b[49m\u001b[43mi\u001b[49m\u001b[43m[\u001b[49m\u001b[38;5;241;43m0\u001b[39;49m\u001b[43m]\u001b[49m\u001b[43m]\u001b[49m, i[\u001b[38;5;241m1\u001b[39m]) \u001b[38;5;28;01mfor\u001b[39;00m i \u001b[38;5;129;01min\u001b[39;00m keys]\n\u001b[1;32m     52\u001b[0m sol \u001b[38;5;241m=\u001b[39m \u001b[38;5;28mdict\u001b[39m(\u001b[38;5;28mzip\u001b[39m(keys, values))\n\u001b[1;32m     53\u001b[0m \u001b[38;5;28;01mreturn\u001b[39;00m sol\n",
      "\u001b[0;31mKeyError\u001b[0m: 29"
     ]
    }
   ],
   "source": [
    "nameScenario = \"formose\"\n",
    "\n",
    "number_periods = 2\n",
    "\n",
    "# tryGrowthRateGraph(nameScenario)\n",
    "print('----------------------------------')\n",
    "# tryGrowthRateInSubGraph(nameScenario)\n",
    "print('----------------------------------')\n",
    "#tryGrowthRateInSubGraphWithTime(nameScenario, number_periods)\n",
    "print('----------------------------------')\n",
    "tryGrowthRateInSubGraphFoodWaste(nameScenario, number_periods)\n",
    "print('----------------------------------')"
   ]
  },
  {
   "cell_type": "code",
   "execution_count": null,
   "metadata": {},
   "outputs": [],
   "source": []
  }
 ],
 "metadata": {
  "kernelspec": {
   "display_name": "Python 3",
   "language": "python",
   "name": "python3"
  },
  "language_info": {
   "codemirror_mode": {
    "name": "ipython",
    "version": 3
   },
   "file_extension": ".py",
   "mimetype": "text/x-python",
   "name": "python",
   "nbconvert_exporter": "python",
   "pygments_lexer": "ipython3",
   "version": "3.11.5"
  }
 },
 "nbformat": 4,
 "nbformat_minor": 2
}
