{
 "cells": [
  {
   "cell_type": "code",
   "execution_count": 1,
   "metadata": {},
   "outputs": [],
   "source": [
    "from main import *\n",
    "import numpy as np\n",
    "import sys"
   ]
  },
  {
   "cell_type": "code",
   "execution_count": 2,
   "metadata": {},
   "outputs": [],
   "source": [
    "def genpairs(n, m, N):\n",
    "    L=set()\n",
    "    i, j = np.random.randint(0, n), np.random.randint(0, m)\n",
    "    L.add((i,j))\n",
    "    while len(L) < N:\n",
    "        while (i, j) in L:\n",
    "            i, j = np.random.randint(0, n), np.random.randint(0,m)\n",
    "        L.add((i,j))\n",
    "    return L\n",
    "def genpairsnotinL(n,m, N, LL):\n",
    "    L=set()\n",
    "    i, j = np.random.randint(0, n), np.random.randint(0, m)\n",
    "    if (i,j) not in LL:\n",
    "        L.add((i,j))\n",
    "    while len(L) < N:\n",
    "        while (i, j) in L or (i,j) in LL:\n",
    "            i, j = np.random.randint(0, n), np.random.randint(0,m)\n",
    "        L.add((i,j))\n",
    "    return L\n",
    "\n",
    "def IsAutonomous(input_matrix, output_matrix):\n",
    "    \n",
    "    autonomous_species=True\n",
    "    autonomous_reactions=True\n",
    "    n, m =input_matrix.shape\n",
    "    for s in range(n):\n",
    "        if sum(input_matrix[s,r] for r in range(m))==0 or sum(output_matrix[s,r] for r in range(m))==0:\n",
    "            autonomous_species=False\n",
    "    for r in range(m):\n",
    "        if sum(input_matrix[s,r] for s in range(n))==0 or sum(output_matrix[s,r] for s in range(n))==0:\n",
    "            autonomous_reactions=False\n",
    "\n",
    "    return autonomous_species, autonomous_reactions\n"
   ]
  },
  {
   "cell_type": "markdown",
   "metadata": {},
   "source": [
    "## Data"
   ]
  },
  {
   "cell_type": "code",
   "execution_count": 5,
   "metadata": {},
   "outputs": [],
   "source": [
    "# file=\"instancesSMGen5/5/\"\n",
    "# output_matrix= np.loadtxt(file+\"right_side\").T\n",
    "# input_matrix= np.loadtxt(file+\"left_side\").T\n",
    "#n=20\n",
    "#m=20\n",
    "NN=[10, 20, 30, 40, 50]\n",
    "MM=[10, 20, 30, 40, 50]\n",
    "UB=100\n",
    "D=[3,4,5]\n",
    "for n in NN:\n",
    "    for m in MM:\n",
    "        for d in D:\n",
    "            for rep in [1,2,3,4,5]:\n",
    "                matrix = np.random.randint(0,UB, size=(n,m))\n",
    "                pairs1=genpairs(n, m, n*m/d)\n",
    "                pairs2=genpairsnotinL(n, m, n*m/d, pairs1)\n",
    "\n",
    "                output_matrix = np.zeros((n,m))\n",
    "                input_matrix = np.zeros((n,m))\n",
    "                for i in range(n):\n",
    "                    for j in range(m):\n",
    "                        if (i,j) in pairs1:\n",
    "                            input_matrix[i,j]=matrix[i,j]\n",
    "                        elif (i,j) in pairs2:\n",
    "                            output_matrix[i,j]=matrix[i,j]\n",
    "\n",
    "                np.savetxt(\"instances/left_n%dm%dd%d_%d.txt\"%(n,m,d,rep), input_matrix, fmt=\"%d\")\n",
    "                np.savetxt(\"instances/right_n%dm%dd%d_%d.txt\"%(n,m,d,rep), output_matrix, fmt=\"%d\")\n",
    "                #SM=output_matrix-input_matrix"
   ]
  },
  {
   "cell_type": "markdown",
   "metadata": {},
   "source": [
    "## Growth factor"
   ]
  },
  {
   "cell_type": "code",
   "execution_count": 6,
   "metadata": {},
   "outputs": [
    {
     "name": "stdout",
     "output_type": "stream",
     "text": [
      "n \t m \t d \t rep \t steps \t time \t\t alpha \t IsAut_Sp \t IsAut_Re\n",
      "10 \t 10 \t 3 \t 1 \t 32 \t 0.1321 \t 0.9611\t\t\tTrue\tTrue\n",
      "10 \t 10 \t 3 \t 2 \t 51 \t 0.1919 \t 0.6229\t\t\tTrue\tTrue\n",
      "10 \t 10 \t 3 \t 3 \t 44 \t 0.1629 \t 0.8187\t\t\tTrue\tTrue\n",
      "10 \t 10 \t 3 \t 4 \t 42 \t 0.1619 \t 0.4282\t\t\tTrue\tTrue\n",
      "10 \t 10 \t 3 \t 5 \t 0 \t 0.0038 \t -1.0000\t\t\tFalse\tTrue\n",
      "10 \t 10 \t 4 \t 1 \t 0 \t 0.0041 \t 0.0000\t\t\tFalse\tFalse\n",
      "10 \t 10 \t 4 \t 2 \t 36 \t 0.1389 \t 0.7915\t\t\tTrue\tTrue\n",
      "10 \t 10 \t 4 \t 3 \t 0 \t 0.0036 \t -1.0000\t\t\tFalse\tFalse\n",
      "10 \t 10 \t 4 \t 4 \t 0 \t 0.0039 \t -1.0000\t\t\tFalse\tFalse\n",
      "10 \t 10 \t 4 \t 5 \t 0 \t 0.0039 \t -1.0000\t\t\tFalse\tFalse\n",
      "10 \t 10 \t 5 \t 1 \t 0 \t 0.0039 \t -1.0000\t\t\tFalse\tFalse\n",
      "10 \t 10 \t 5 \t 2 \t 0 \t 0.0039 \t -1.0000\t\t\tFalse\tFalse\n",
      "10 \t 10 \t 5 \t 3 \t 0 \t 0.0040 \t -1.0000\t\t\tFalse\tFalse\n",
      "10 \t 10 \t 5 \t 4 \t 10001 \t 36.8266 \t 14.9969\t\t\tTrue\tFalse\n",
      "10 \t 10 \t 5 \t 5 \t 0 \t 0.0036 \t 0.0000\t\t\tFalse\tFalse\n",
      "10 \t 20 \t 3 \t 1 \t 55 \t 0.3947 \t 1.3617\t\t\tTrue\tFalse\n",
      "10 \t 20 \t 3 \t 2 \t 47 \t 0.3357 \t 1.6019\t\t\tTrue\tTrue\n",
      "10 \t 20 \t 3 \t 3 \t 70 \t 0.4993 \t 2.3082\t\t\tTrue\tTrue\n",
      "10 \t 20 \t 3 \t 4 \t 100 \t 0.7039 \t 1.8812\t\t\tTrue\tTrue\n",
      "10 \t 20 \t 3 \t 5 \t 170 \t 1.1991 \t 1.8724\t\t\tTrue\tFalse\n",
      "10 \t 20 \t 4 \t 1 \t 1886 \t 13.2484 \t 32.9039\t\t\tTrue\tFalse\n",
      "10 \t 20 \t 4 \t 2 \t 7616 \t 53.9660 \t 38.0849\t\t\tTrue\tFalse\n",
      "10 \t 20 \t 4 \t 3 \t 9867 \t 68.9773 \t 52.1475\t\t\tTrue\tFalse\n",
      "10 \t 20 \t 4 \t 4 \t 2786 \t 19.2746 \t 227.0408\t\t\tTrue\tFalse\n",
      "10 \t 20 \t 4 \t 5 \t 6890 \t 48.0651 \t 26.5096\t\t\tTrue\tFalse\n"
     ]
    }
   ],
   "source": [
    "import pandas as pd\n",
    "print(\"n \\t m \\t d \\t rep \\t steps \\t time \\t\\t alpha \\t IsAut_Sp \\t IsAut_Re\")\n",
    "df = pd.DataFrame(columns=['n', 'm', 'd', 'rep', 'steps', 'time', 'alpha', 'x', 'IsAut_Sp', 'IsAut_Re'])\n",
    "row=0\n",
    "NN=[10, 20, 30, 40, 50]\n",
    "MM=[10, 20, 30, 40, 50]\n",
    "for n in NN:\n",
    "    for m in MM:\n",
    "        D=[3,4,5]\n",
    "        for d in D:\n",
    "            for rep in [1,2,3,4,5]:\n",
    "                input_matrix= np.loadtxt(\"instances/left_n%dm%dd%d_%d.txt\"%(n,m,d,rep))\n",
    "                output_matrix= np.loadtxt(\"instances/right_n%dm%dd%d_%d.txt\"%(n,m,d,rep))\n",
    "                XX = code.growthRateGraph(output_matrix, input_matrix, 10000)\n",
    "                xsol = XX[0]\n",
    "                alphasol =XX[1]\n",
    "                step = XX[2]\n",
    "                time=XX[4]\n",
    "                # print(\"steps: \", step)\n",
    "                # print(\"x: \", xsol)\n",
    "                # print(\"alpha: \", alphasol)\n",
    "                # print(\"time: \", time)\n",
    "                isA_sp, isA_re=IsAutonomous(input_matrix, output_matrix)\n",
    "                print(\"%d \\t %d \\t %d \\t %d \\t %d \\t %.4f \\t %.4f\"%(n,m,d,rep,step,time,alphasol), \"\\t\", isA_sp, isA_re, sep=\"\\t\")\n",
    "                df.loc[row] = [n,m,d,rep,step,time,alphasol,xsol, isA_sp, isA_re]\n",
    "                row+=1\n",
    "df.to_csv('GrowthRate_Experiments.csv', index=False)  "
   ]
  },
  {
   "cell_type": "code",
   "execution_count": 13,
   "metadata": {},
   "outputs": [
    {
     "name": "stdout",
     "output_type": "stream",
     "text": [
      "alpha0:  0.38317757009345793\n",
      "**[0] alphabar:  18872.72779748124 alpha:  0.9638224280258657\n",
      "**[1] alphabar:  4909.765810891025 alpha:  1.101602858618506  AUTOCATALYTIC!\n",
      "**[2] alphabar:  2541.3788881422893 alpha:  1.2188090757692494  AUTOCATALYTIC!\n",
      "**[3] alphabar:  1098.2455928832267 alpha:  1.3187796661130433  AUTOCATALYTIC!\n",
      "**[4] alphabar:  816.6695810561934 alpha:  2.3031318934109852  AUTOCATALYTIC!\n",
      "**[5] alphabar:  388.54352506381986 alpha:  4.9224615042915065  AUTOCATALYTIC!\n",
      "**[6] alphabar:  164.52333297458526 alpha:  12.295002070463324  AUTOCATALYTIC!\n",
      "**[7] alphabar:  15.78140448686518 alpha:  14.33965314489562  AUTOCATALYTIC!\n",
      "**[8] alphabar:  3.7286724304556174 alpha:  15.502027124914633  AUTOCATALYTIC!\n",
      "**[9] alphabar:  0.47253541180793945 alpha:  15.660920907391073  AUTOCATALYTIC!\n",
      "**[10] alphabar:  0.060267530461487695 alpha:  15.681388285576247  AUTOCATALYTIC!\n",
      "**[11] alphabar:  0.007693081710840488 alpha:  15.684004243468673  AUTOCATALYTIC!\n",
      "**[12] alphabar:  0.0009821199223551957 alpha:  15.684338257979496  AUTOCATALYTIC!\n",
      "**[13] alphabar:  0.0001253818412115914 alpha:  15.684380900659896  AUTOCATALYTIC!\n",
      "**[14] alphabar:  1.6006939176804735e-05 alpha:  15.684386344640638  AUTOCATALYTIC!\n",
      "steps:  14\n",
      "z:  [7, 10, 11]\n",
      "x:  [2.42718528 2.63077861 2.9402821 ]\n",
      "y:  [3, 10, 14] a:  [3, 10, 14]\n",
      "alpha:  15.684386344640638\n",
      "#Species:  3 #AutSpecies:  3 #Reactions:  3\n"
     ]
    }
   ],
   "source": [
    "\n",
    "\n",
    "\n",
    "XX = code.growthRateinSubgraph(output_matrix, input_matrix, 1000)\n",
    "xsol = XX[0]\n",
    "alphasol =XX[1]\n",
    "step = XX[2]\n",
    "alphadict = XX[3]\n",
    "asol = XX[4]\n",
    "ysol=XX[5]\n",
    "zsol=XX[6]\n",
    "print(\"steps: \", step)\n",
    "print(\"z: \", zsol)\n",
    "print(\"x: \", xsol[zsol])\n",
    "print(\"y: \", ysol, \"a: \", asol)\n",
    "print(\"alpha: \", alphasol)\n",
    "print(\"#Species: \", len(ysol), \"#AutSpecies: \", len(asol), \"#Reactions: \", len(zsol))\n",
    "SMsol=SM[ysol,:][:,zsol]\n",
    "input_matrix_sol=input_matrix[ysol,:][:,zsol]\n",
    "output_matrix_sol=output_matrix[ysol,:][:,zsol]"
   ]
  },
  {
   "cell_type": "code",
   "execution_count": 14,
   "metadata": {},
   "outputs": [
    {
     "name": "stdout",
     "output_type": "stream",
     "text": [
      "                                                                                                                       \n",
      "-13.0  13.0 -10.0   3.0 -15.0  15.0 -10.0  -9.0  15.0   0.0   0.0 -12.0   0.0  17.0  10.0 -12.0  12.0   8.0  -4.0  -3.0\n",
      "  0.0   2.0 -12.0   0.0   4.0 -18.0   0.0 -14.0  10.0  -5.0  16.0  14.0  -4.0  -5.0 -18.0   0.0  18.0 -12.0 -12.0   0.0\n",
      "  0.0  10.0 -13.0  -2.0   6.0   0.0   0.0   0.0   0.0   0.0  -3.0 -19.0  10.0  -4.0 -15.0   3.0   0.0   0.0  -5.0   0.0\n",
      " -2.0  -4.0   0.0   0.0  11.0   0.0   0.0  -1.0   0.0  11.0  10.0   4.0 -14.0   0.0  -8.0   8.0   0.0  10.0 -13.0   4.0\n",
      "  8.0  -1.0   6.0   3.0   0.0   9.0 -13.0  18.0 -13.0  11.0   9.0   0.0  -8.0   0.0   0.0   7.0  -7.0 -17.0   0.0  -7.0\n",
      "-12.0  -5.0 -17.0   5.0  19.0   0.0 -17.0   0.0   0.0   0.0   0.0 -17.0 -17.0 -11.0  10.0 -11.0   7.0   0.0   0.0   0.0\n",
      "-16.0  -9.0  -6.0   0.0   0.0   2.0  -7.0  -1.0  -5.0  -1.0   0.0   0.0  19.0   6.0  -5.0   0.0  19.0   8.0   0.0   6.0\n",
      "  0.0   0.0  16.0 -19.0  19.0   0.0 -11.0   0.0  19.0  -7.0  11.0 -16.0   2.0   0.0  -6.0   0.0 -18.0  -3.0 -17.0   4.0\n",
      "  0.0   0.0 -12.0   0.0 -11.0   0.0   6.0  -6.0   9.0   0.0   8.0  18.0   0.0  -4.0   0.0 -16.0 -12.0   0.0   0.0   0.0\n",
      "  0.0  -7.0  14.0  10.0   0.0   0.0   0.0   0.0  -7.0   0.0  18.0   0.0  -6.0   0.0   0.0 -11.0  10.0  11.0  -2.0  -7.0\n",
      " 15.0  -7.0   0.0 -11.0   0.0  12.0  -1.0  17.0   0.0  15.0  -1.0   0.0  -2.0   2.0   0.0  10.0   3.0   0.0   0.0 -16.0\n",
      "  0.0 -13.0   0.0  -5.0   7.0 -18.0   0.0  18.0   2.0   0.0   0.0  15.0   5.0 -17.0   0.0 -11.0  -7.0   0.0   0.0   0.0\n",
      " -5.0   0.0   0.0  13.0  13.0   0.0   3.0  17.0  13.0  16.0 -15.0   9.0   0.0  -7.0 -14.0   9.0  -9.0   5.0 -12.0   6.0\n",
      "  4.0 -14.0   0.0  -8.0   0.0   7.0   2.0 -11.0   0.0  10.0   0.0  14.0 -16.0   0.0   4.0   0.0 -16.0   5.0  16.0   0.0\n",
      "-15.0   0.0   0.0   1.0  -9.0 -11.0   0.0  19.0   0.0   3.0   0.0  -1.0  12.0  16.0  13.0  13.0   8.0   0.0   7.0  16.0\n",
      "  0.0  19.0 -19.0   0.0  -9.0 -11.0   0.0   8.0   0.0 -11.0   9.0  -2.0  10.0   0.0   3.0   0.0   9.0   0.0  -4.0   0.0\n",
      "  2.0  14.0   0.0   6.0   0.0 -16.0   2.0  -4.0   0.0   0.0 -14.0   0.0  -6.0   1.0  13.0  -7.0  -4.0   0.0   0.0   4.0\n",
      "  0.0  16.0   1.0   0.0 -19.0  -8.0 -14.0 -15.0   0.0   0.0  14.0   0.0   0.0 -13.0   0.0   0.0 -13.0  -7.0  12.0  -6.0\n",
      "  0.0  13.0   0.0   0.0   3.0  18.0   0.0   0.0   0.0  12.0   0.0  -9.0   7.0  -7.0   0.0  -3.0  -5.0   0.0 -15.0 -18.0\n",
      " 10.0  15.0   0.0  19.0  -6.0   8.0 -19.0 -13.0   1.0   0.0   0.0  17.0   0.0  -2.0 -14.0  11.0  17.0  12.0  18.0 -16.0\n",
      "           \n",
      "1.0 0.0 0.0\n",
      "0.0 1.0 0.0\n",
      "0.0 0.0 1.0\n",
      "             \n",
      " 0.0 10.0 4.0\n",
      "17.0  0.0 0.0\n",
      "19.0  0.0 0.0\n",
      "              \n",
      "-1.0 10.0  4.0\n",
      "17.0 -1.0  0.0\n",
      "19.0  0.0 -1.0\n"
     ]
    }
   ],
   "source": [
    "import pandas as pd\n",
    "SM0 = pd.DataFrame(SM)\n",
    "SM0.columns = ['']*SM0.shape[1]\n",
    "print(SM0.to_string(index=False))\n",
    "\n",
    "I0 = pd.DataFrame(input_matrix_sol)\n",
    "I0.columns = ['']*I0.shape[1]\n",
    "print(I0.to_string(index=False))\n",
    "\n",
    "O0 = pd.DataFrame(output_matrix_sol)\n",
    "O0.columns = ['']*O0.shape[1]\n",
    "print(O0.to_string(index=False))\n",
    "\n",
    "SMsol0 = pd.DataFrame(SMsol)\n",
    "SMsol0.columns = ['']*SMsol0.shape[1]\n",
    "print(SMsol0.to_string(index=False))"
   ]
  },
  {
   "cell_type": "code",
   "execution_count": 15,
   "metadata": {},
   "outputs": [
    {
     "data": {
      "text/plain": [
       "15.684386344640638"
      ]
     },
     "execution_count": 15,
     "metadata": {},
     "output_type": "execute_result"
    }
   ],
   "source": [
    "alpha_hand =  np.min([sum(output_matrix[s, r] * xsol[r] \n",
    "                         for r in zsol)\n",
    "                     /\n",
    "                     sum(input_matrix[s, r] * xsol[r] \n",
    "                         for r in zsol) \n",
    "                     for s in asol if sum(input_matrix[s, r] * xsol[r] \n",
    "                         for r in zsol)>0.0001])\n",
    "alpha_hand"
   ]
  },
  {
   "cell_type": "code",
   "execution_count": null,
   "metadata": {},
   "outputs": [],
   "source": []
  }
 ],
 "metadata": {
  "kernelspec": {
   "display_name": "Python 3",
   "language": "python",
   "name": "python3"
  },
  "language_info": {
   "codemirror_mode": {
    "name": "ipython",
    "version": 3
   },
   "file_extension": ".py",
   "mimetype": "text/x-python",
   "name": "python",
   "nbconvert_exporter": "python",
   "pygments_lexer": "ipython3",
   "version": "3.11.5"
  }
 },
 "nbformat": 4,
 "nbformat_minor": 2
}
