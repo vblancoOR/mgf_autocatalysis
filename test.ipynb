{
 "cells": [
  {
   "cell_type": "code",
   "execution_count": 1,
   "metadata": {},
   "outputs": [],
   "source": [
    "from main import *\n",
    "import numpy as np\n",
    "import sys"
   ]
  },
  {
   "cell_type": "code",
   "execution_count": 2,
   "metadata": {},
   "outputs": [],
   "source": [
    "def genpairs(n, m, N):\n",
    "    L=set()\n",
    "    i, j = np.random.randint(0, n), np.random.randint(0, m)\n",
    "    L.add((i,j))\n",
    "    while len(L) < N:\n",
    "        while (i, j) in L:\n",
    "            i, j = np.random.randint(0, n), np.random.randint(0,m)\n",
    "        L.add((i,j))\n",
    "    return L\n",
    "def genpairsnotinL(n,m, N, LL):\n",
    "    L=set()\n",
    "    i, j = np.random.randint(0, n), np.random.randint(0, m)\n",
    "    if (i,j) not in LL:\n",
    "        L.add((i,j))\n",
    "    while len(L) < N:\n",
    "        while (i, j) in L or (i,j) in LL:\n",
    "            i, j = np.random.randint(0, n), np.random.randint(0,m)\n",
    "        L.add((i,j))\n",
    "    return L\n"
   ]
  },
  {
   "cell_type": "code",
   "execution_count": 3,
   "metadata": {},
   "outputs": [
    {
     "name": "stdout",
     "output_type": "stream",
     "text": [
      "alpha0:  0.26605504587155965\n",
      "Set parameter Username\n",
      "Academic license - for non-commercial use only - expires 2025-02-04\n",
      "**[0] alphabar:  19052.687033593676 alpha:  0.7199210479247744\n",
      "**[1] alphabar:  8366.9761158135 alpha:  1.3207315451857804  AUTOCATALYTIC!\n",
      "**[2] alphabar:  735.660197558919 alpha:  2.8408670513225287  AUTOCATALYTIC!\n",
      "**[3] alphabar:  331.81693923526035 alpha:  5.938168213399152  AUTOCATALYTIC!\n",
      "**[4] alphabar:  89.92696662214016 alpha:  8.45512325994461  AUTOCATALYTIC!\n",
      "**[5] alphabar:  38.99103770988616 alpha:  10.167141125373336  AUTOCATALYTIC!\n",
      "**[6] alphabar:  18.40199876649727 alpha:  12.006755447364673  AUTOCATALYTIC!\n",
      "**[7] alphabar:  8.201284601154507 alpha:  13.580336821396143  AUTOCATALYTIC!\n",
      "**[8] alphabar:  2.8883068976856494 alpha:  14.172317893770044  AUTOCATALYTIC!\n",
      "**[9] alphabar:  1.410205078036422 alpha:  14.477416381143026  AUTOCATALYTIC!\n",
      "**[10] alphabar:  0.6929311100519788 alpha:  14.631426854927328  AUTOCATALYTIC!\n",
      "**[11] alphabar:  0.3414857166459342 alpha:  14.708347035041822  AUTOCATALYTIC!\n",
      "**[12] alphabar:  0.16852425629805587 alpha:  14.746559610263576  AUTOCATALYTIC!\n",
      "**[13] alphabar:  0.08322369358602925 alpha:  14.765492360748329  AUTOCATALYTIC!\n",
      "**[14] alphabar:  0.04111268586780254 alpha:  14.774860343256089  AUTOCATALYTIC!\n",
      "**[15] alphabar:  0.020313076075770306 alpha:  14.779492610978222  AUTOCATALYTIC!\n",
      "**[16] alphabar:  0.010037152843080103 alpha:  14.781782425759554  AUTOCATALYTIC!\n",
      "**[17] alphabar:  0.004959782865171292 alpha:  14.782914141625858  AUTOCATALYTIC!\n",
      "**[18] alphabar:  0.0024508871916850694 alpha:  14.783473435453065  AUTOCATALYTIC!\n",
      "**[19] alphabar:  0.0012111228691082943 alpha:  14.783749827556717  AUTOCATALYTIC!\n",
      "**[20] alphabar:  0.0005984875417728289 alpha:  14.78388641250068  AUTOCATALYTIC!\n",
      "**[21] alphabar:  0.0002957488683241948 alpha:  14.783953908163799  AUTOCATALYTIC!\n",
      "**[22] alphabar:  0.00014614756245600553 alpha:  14.783987262081759  AUTOCATALYTIC!\n",
      "**[23] alphabar:  7.222057035960461e-05 alpha:  14.784003744304528  AUTOCATALYTIC!\n",
      "steps:  23\n",
      "z:  [3, 11, 13, 14, 17]\n",
      "x:  [1.4605695  1.09805092 1.0012631  1.11408995 2.47628826]\n",
      "y:  [2, 9, 14, 16, 19] a:  [2, 9, 14, 16, 19]\n",
      "alpha:  14.784003744304528\n",
      "#Species:  5 #AutSpecies:  5 #Reactions:  5\n"
     ]
    }
   ],
   "source": [
    "# file=\"instancesSMGen5/5/\"\n",
    "# output_matrix= np.loadtxt(file+\"right_side\").T\n",
    "# input_matrix= np.loadtxt(file+\"left_side\").T\n",
    "n=20\n",
    "m=20\n",
    "\n",
    "matrix = np.random.randint(0,20, size=(n,m))\n",
    "pairs1=genpairs(n, m, n*m/3)\n",
    "pairs2=genpairsnotinL(n, m, n*m/3, pairs1)\n",
    "\n",
    "output_matrix = np.zeros((n,m))\n",
    "input_matrix = np.zeros((n,m))\n",
    "for i in range(n):\n",
    "    for j in range(m):\n",
    "        if (i,j) in pairs1:\n",
    "            input_matrix[i,j]=matrix[i,j]\n",
    "        elif (i,j) in pairs2:\n",
    "            output_matrix[i,j]=matrix[i,j]\n",
    "\n",
    "\n",
    "SM=output_matrix-input_matrix\n",
    "XX = code.growthRateinSubgraph(output_matrix, input_matrix, 1000)\n",
    "xsol = XX[0]\n",
    "alphasol =XX[1]\n",
    "step = XX[2]\n",
    "alphadict = XX[3]\n",
    "asol = XX[4]\n",
    "ysol=XX[5]\n",
    "zsol=XX[6]\n",
    "print(\"steps: \", step)\n",
    "print(\"z: \", zsol)\n",
    "print(\"x: \", xsol[zsol])\n",
    "print(\"y: \", ysol, \"a: \", asol)\n",
    "print(\"alpha: \", alphasol)\n",
    "print(\"#Species: \", len(ysol), \"#AutSpecies: \", len(asol), \"#Reactions: \", len(zsol))\n",
    "SMsol=SM[ysol,:][:,zsol]\n",
    "input_matrix_sol=input_matrix[ysol,:][:,zsol]\n",
    "output_matrix_sol=output_matrix[ysol,:][:,zsol]"
   ]
  },
  {
   "cell_type": "code",
   "execution_count": 4,
   "metadata": {},
   "outputs": [
    {
     "name": "stdout",
     "output_type": "stream",
     "text": [
      "                                                                                                                      \n",
      "-19.0   0.0   0.0   5.0  19.0   0.0 -14.0 -10.0  19.0 -16.0   0.0   0.0  11.0  15.0  18.0   0.0 -6.0   0.0 -12.0  14.0\n",
      " -2.0  -5.0  12.0   0.0   4.0   9.0   0.0   9.0   8.0   0.0   0.0 -12.0   0.0   0.0   0.0 -11.0 -5.0   9.0   0.0 -18.0\n",
      "-18.0   0.0   9.0  -3.0  -2.0  19.0 -13.0   8.0  -7.0   0.0   0.0   0.0   0.0  14.0  10.0 -16.0 -9.0  16.0   0.0 -19.0\n",
      "  0.0   0.0   0.0   0.0  16.0  -4.0  -3.0   0.0   0.0   0.0   0.0  14.0  15.0 -16.0   0.0   0.0  6.0   0.0   1.0  -3.0\n",
      " 12.0  15.0 -14.0 -10.0 -10.0   2.0   0.0  15.0   0.0 -18.0 -14.0   1.0   0.0   0.0 -14.0  19.0  5.0  13.0   0.0   0.0\n",
      "  0.0   0.0 -15.0  -9.0   3.0 -13.0   5.0   1.0  -2.0   0.0   0.0   0.0  -8.0 -13.0  -3.0  -1.0 18.0  16.0  17.0  16.0\n",
      "-17.0   0.0   0.0   0.0 -16.0   0.0  18.0  -3.0   0.0   0.0  17.0  -3.0  -1.0   0.0   0.0  14.0 18.0  17.0   0.0   8.0\n",
      " 12.0   0.0   0.0   0.0 -10.0 -14.0   0.0   0.0 -16.0  11.0  -6.0 -17.0   0.0  10.0 -17.0 -17.0  0.0  -3.0   0.0   9.0\n",
      "  7.0 -15.0   8.0 -17.0  -2.0   0.0   0.0   0.0   4.0  19.0  15.0   9.0   7.0   0.0   0.0   0.0  0.0 -11.0   8.0   2.0\n",
      "-15.0  11.0  -7.0   7.0   0.0   6.0  -6.0   0.0   7.0   5.0 -13.0   0.0 -16.0  13.0  12.0 -18.0  0.0  -1.0  -5.0   2.0\n",
      "  4.0  13.0 -19.0 -17.0   0.0   0.0  13.0   8.0 -19.0  17.0   0.0  -8.0  -8.0   7.0   0.0   3.0  0.0   0.0 -13.0   0.0\n",
      "-19.0   0.0 -16.0   0.0 -10.0  19.0   0.0   0.0   5.0 -14.0  -9.0  -9.0  -3.0   0.0 -18.0 -11.0  0.0   5.0   0.0   0.0\n",
      "  0.0  -6.0   0.0 -10.0   0.0   0.0 -12.0   8.0 -16.0  16.0   3.0   0.0 -13.0   0.0   0.0   0.0 17.0   2.0 -13.0   3.0\n",
      "  0.0   0.0   0.0   0.0 -14.0   0.0   0.0   9.0 -10.0  13.0 -11.0  18.0   0.0  -5.0 -18.0 -15.0  0.0   8.0   9.0   0.0\n",
      "  5.0   0.0  15.0  10.0  -8.0   0.0 -19.0 -13.0  15.0   0.0   7.0  -2.0  11.0   3.0   0.0   0.0 -8.0   6.0   0.0 -12.0\n",
      "  0.0   2.0  16.0 -15.0   0.0  12.0  -5.0  -1.0   0.0   0.0   0.0  15.0  -9.0   3.0   0.0   0.0 14.0 -19.0   0.0  -2.0\n",
      "  0.0 -10.0   0.0   0.0   0.0 -16.0  19.0  -7.0   1.0  11.0   2.0  15.0  12.0   0.0  -1.0   0.0  0.0   0.0 -14.0  -2.0\n",
      " -1.0   0.0   0.0   0.0 -12.0   5.0   0.0   1.0 -10.0  -6.0   5.0   0.0 -11.0   2.0   0.0   5.0 -9.0  10.0   0.0   0.0\n",
      "  2.0  11.0   7.0  18.0   0.0   0.0 -14.0  10.0   0.0   0.0 -19.0   0.0   0.0   0.0  11.0  17.0 -3.0   0.0   2.0   0.0\n",
      "  0.0   0.0   6.0  12.0  -3.0 -11.0   3.0   2.0  -2.0   8.0 -10.0  11.0   9.0  -2.0   0.0 -16.0  0.0   0.0   0.0   6.0\n",
      "                   \n",
      "3.0 0.0 0.0 0.0 0.0\n",
      "0.0 0.0 0.0 0.0 1.0\n",
      "0.0 2.0 0.0 0.0 0.0\n",
      "0.0 0.0 0.0 1.0 0.0\n",
      "0.0 0.0 2.0 0.0 0.0\n",
      "                        \n",
      " 0.0  0.0 14.0 10.0 16.0\n",
      " 7.0  0.0 13.0 12.0  0.0\n",
      "10.0  0.0  3.0  0.0  6.0\n",
      " 0.0 15.0  0.0  0.0  0.0\n",
      "12.0 11.0  0.0  0.0  0.0\n",
      "                        \n",
      "-3.0  0.0 14.0 10.0 16.0\n",
      " 7.0  0.0 13.0 12.0 -1.0\n",
      "10.0 -2.0  3.0  0.0  6.0\n",
      " 0.0 15.0  0.0 -1.0  0.0\n",
      "12.0 11.0 -2.0  0.0  0.0\n"
     ]
    }
   ],
   "source": [
    "import pandas as pd\n",
    "SM0 = pd.DataFrame(SM)\n",
    "SM0.columns = ['']*SM0.shape[1]\n",
    "print(SM0.to_string(index=False))\n",
    "\n",
    "I0 = pd.DataFrame(input_matrix_sol)\n",
    "I0.columns = ['']*I0.shape[1]\n",
    "print(I0.to_string(index=False))\n",
    "\n",
    "O0 = pd.DataFrame(output_matrix_sol)\n",
    "O0.columns = ['']*O0.shape[1]\n",
    "print(O0.to_string(index=False))\n",
    "\n",
    "SMsol0 = pd.DataFrame(SMsol)\n",
    "SMsol0.columns = ['']*SMsol0.shape[1]\n",
    "print(SMsol0.to_string(index=False))"
   ]
  },
  {
   "cell_type": "code",
   "execution_count": 5,
   "metadata": {},
   "outputs": [
    {
     "data": {
      "text/plain": [
       "14.784003744304528"
      ]
     },
     "execution_count": 5,
     "metadata": {},
     "output_type": "execute_result"
    }
   ],
   "source": [
    "alpha_hand =  np.min([sum(output_matrix[s, r] * xsol[r] \n",
    "                         for r in zsol)\n",
    "                     /\n",
    "                     sum(input_matrix[s, r] * xsol[r] \n",
    "                         for r in zsol) \n",
    "                     for s in asol if sum(input_matrix[s, r] * xsol[r] \n",
    "                         for r in zsol)>0.0001])\n",
    "alpha_hand"
   ]
  },
  {
   "cell_type": "code",
   "execution_count": null,
   "metadata": {},
   "outputs": [],
   "source": []
  }
 ],
 "metadata": {
  "kernelspec": {
   "display_name": "Python 3",
   "language": "python",
   "name": "python3"
  },
  "language_info": {
   "codemirror_mode": {
    "name": "ipython",
    "version": 3
   },
   "file_extension": ".py",
   "mimetype": "text/x-python",
   "name": "python",
   "nbconvert_exporter": "python",
   "pygments_lexer": "ipython3",
   "version": "3.11.5"
  }
 },
 "nbformat": 4,
 "nbformat_minor": 2
}
