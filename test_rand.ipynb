{
 "cells": [
  {
   "cell_type": "code",
   "execution_count": 1,
   "metadata": {},
   "outputs": [],
   "source": [
    "from main import *\n",
    "import numpy as np\n",
    "import sys\n",
    "\n",
    "import pandas as pd\n",
    "np.set_printoptions(suppress=True)\n",
    "\n"
   ]
  },
  {
   "cell_type": "code",
   "execution_count": 2,
   "metadata": {},
   "outputs": [],
   "source": [
    "n=20\n",
    "m=30\n",
    "d=3\n",
    "rep=1\n",
    "inp= np.loadtxt(\"instances/left_n%dm%dd%d_%d.txt\"%(n,m,d,rep))\n",
    "out= np.loadtxt(\"instances/right_n%dm%dd%d_%d.txt\"%(n,m,d,rep))\n",
    "SM=out-inp\n",
    "input_matrix, output_matrix, names_rows, names_cols =CleanData(SM)\n",
    "n, m =input_matrix.shape"
   ]
  },
  {
   "cell_type": "code",
   "execution_count": 3,
   "metadata": {},
   "outputs": [
    {
     "name": "stdout",
     "output_type": "stream",
     "text": [
      "Set parameter Username\n",
      "Academic license - for non-commercial use only - expires 2025-02-04\n"
     ]
    }
   ],
   "source": [
    "XX = code.growthRateGraph(output_matrix, input_matrix, 1000)\n",
    "\n",
    "\n",
    "XX_a = code.growthRateGraph_a(output_matrix, input_matrix, 1000, n)\n",
    "\n",
    "# isA_sp, isA_re=IsAutonomous(input_matrix, output_matrix, range(n), range(m))\n",
    "# isA=False\n",
    "# if isA_sp and isA_re:\n",
    "#     isA=True\n",
    "# isA\n",
    "#XX, XX_a"
   ]
  },
  {
   "cell_type": "code",
   "execution_count": 4,
   "metadata": {},
   "outputs": [],
   "source": [
    "#XX_sn = code.growthRateinSubgraph(output_matrix, input_matrix, 1000)"
   ]
  },
  {
   "cell_type": "code",
   "execution_count": 5,
   "metadata": {},
   "outputs": [
    {
     "data": {
      "text/plain": [
       "array([ 0,  1,  8, 11, 12, 13, 18, 19])"
      ]
     },
     "execution_count": 5,
     "metadata": {},
     "output_type": "execute_result"
    }
   ],
   "source": [
    "x0=XX[0]\n",
    "x1=XX_a[0]\n",
    "a1=XX_a[5]\n",
    "a1"
   ]
  },
  {
   "cell_type": "code",
   "execution_count": 6,
   "metadata": {},
   "outputs": [
    {
     "data": {
      "text/plain": [
       "True"
      ]
     },
     "execution_count": 6,
     "metadata": {},
     "output_type": "execute_result"
    }
   ],
   "source": [
    "isA_sp, isA_re=IsAutonomous(input_matrix, output_matrix, a1, range(m))\n",
    "isA=False\n",
    "if isA_sp and isA_re:\n",
    "    isA=True\n",
    "isA"
   ]
  },
  {
   "cell_type": "code",
   "execution_count": 7,
   "metadata": {},
   "outputs": [
    {
     "data": {
      "text/plain": [
       "(1.2732405853830382, 21.979177057294084)"
      ]
     },
     "execution_count": 7,
     "metadata": {},
     "output_type": "execute_result"
    }
   ],
   "source": [
    "alpha_hand =  np.min([sum(output_matrix[s, r] * x0[r] \n",
    "                         for r in range(m))\n",
    "                     /\n",
    "                     sum(input_matrix[s, r] * x0[r] \n",
    "                         for r in range(m)) \n",
    "                     for s in range(n) ])\n",
    "alpha_hand_a =  np.min([sum(output_matrix[s, r] * x1[r] \n",
    "                         for r in range(m))\n",
    "                     /\n",
    "                     sum(input_matrix[s, r] * x1[r] \n",
    "                         for r in range(m)) \n",
    "                     for s in a1 ])\n",
    "alpha_hand, alpha_hand_a"
   ]
  },
  {
   "cell_type": "code",
   "execution_count": 8,
   "metadata": {},
   "outputs": [
    {
     "data": {
      "text/plain": [
       "array([[-15.,   0., -38.,   0.,   0., -34.,  88.,  19.,   0.,   0.,   0.,\n",
       "        -41.,  35.,   0.,   0., -80.,  82.,   0.,   0.,   0.,  71., -18.,\n",
       "          0.,   0.,  88.,  67.,   6.,   0.,  45.,   0.],\n",
       "       [  0., -29.,  72., -29.,   0., -41.,   0., -57., -77., -92.,   0.,\n",
       "         60.,   0.,   0.,   0.,   0.,  38.,  63., -38.,  54.,  65.,  64.,\n",
       "        -20.,   0.,   0.,   0.,  15.,   0.,   0., -75.],\n",
       "       [  8.,   0.,   9., -65.,   0.,  56., -61.,   0., -88., -55., -68.,\n",
       "        -69., -34.,  82.,   0.,  40.,   0.,  34., -23.,  24.,   0., -11.,\n",
       "         38.,   0., -72., -62.,   0., -41., -50., -36.],\n",
       "       [ -6.,  36., -92.,   0.,   0.,  84.,  11.,   0., -36., -20., -45.,\n",
       "          0.,  42.,  49.,   0., -51.,  70.,   0., -60.,  28.,  70., -94.,\n",
       "         15., -42., -52.,  23., -48., -37., -67., -91.],\n",
       "       [  0.,   0.,  53.,  53.,  -1., -81.,  15., -29.,  46., -70., -89.,\n",
       "        -76., -64., -49.,   0.,   0.,  48.,  87.,  58., -26.,   0.,   0.,\n",
       "        -53.,   0.,   0.,  67.,  -9.,   0., -81.,   0.],\n",
       "       [-94., -64.,  75.,  36.,   0., -52., -96.,   0.,   0.,  36.,  75.,\n",
       "        -17.,   0.,  49.,   2.,   0.,  -1.,  73.,   0.,   0., -53.,  66.,\n",
       "        -42.,  63.,   0., -38.,  44.,   0.,  35., -67.],\n",
       "       [-87.,  -2.,   0.,  37.,  96.,  13., -85.,   5.,   0., -48., -52.,\n",
       "          0.,   0., -18., -13., -36.,   0.,   0.,   0.,   0.,  10.,  83.,\n",
       "         88.,   0., -25.,  14.,  -8., -80.,  83.,   0.],\n",
       "       [-89.,   0.,   0.,   0.,  42., -43.,  61.,  55.,   0.,  29.,   0.,\n",
       "        -18., -35., -75.,  39., -86.,  22.,  -8.,  94.,   0., -49.,   0.,\n",
       "         25.,  67.,   0.,  54.,  18.,  72.,   5.,  61.]])"
      ]
     },
     "execution_count": 8,
     "metadata": {},
     "output_type": "execute_result"
    }
   ],
   "source": [
    "np.set_printoptions(threshold=sys.maxsize)\n",
    "SM[a1,:]"
   ]
  },
  {
   "cell_type": "code",
   "execution_count": null,
   "metadata": {},
   "outputs": [],
   "source": []
  }
 ],
 "metadata": {
  "kernelspec": {
   "display_name": "base",
   "language": "python",
   "name": "python3"
  },
  "language_info": {
   "codemirror_mode": {
    "name": "ipython",
    "version": 3
   },
   "file_extension": ".py",
   "mimetype": "text/x-python",
   "name": "python",
   "nbconvert_exporter": "python",
   "pygments_lexer": "ipython3",
   "version": "3.11.5"
  }
 },
 "nbformat": 4,
 "nbformat_minor": 2
}
