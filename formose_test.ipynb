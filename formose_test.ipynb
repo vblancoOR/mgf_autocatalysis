{
 "cells": [
  {
   "cell_type": "code",
   "execution_count": 1,
   "metadata": {},
   "outputs": [
    {
     "name": "stdout",
     "output_type": "stream",
     "text": [
      "Intel MKL WARNING: Support of Intel(R) Streaming SIMD Extensions 4.2 (Intel(R) SSE4.2) enabled only processors has been deprecated. Intel oneAPI Math Kernel Library 2025.0 will require Intel(R) Advanced Vector Extensions (Intel(R) AVX) instructions.\n",
      "Intel MKL WARNING: Support of Intel(R) Streaming SIMD Extensions 4.2 (Intel(R) SSE4.2) enabled only processors has been deprecated. Intel oneAPI Math Kernel Library 2025.0 will require Intel(R) Advanced Vector Extensions (Intel(R) AVX) instructions.\n"
     ]
    }
   ],
   "source": [
    "from main import *\n",
    "import numpy as np\n",
    "import sys\n",
    "\n",
    "import pandas as pd\n",
    "np.set_printoptions(suppress=True)\n"
   ]
  },
  {
   "cell_type": "code",
   "execution_count": 32,
   "metadata": {},
   "outputs": [
    {
     "name": "stdout",
     "output_type": "stream",
     "text": [
      "29 38\n"
     ]
    },
    {
     "data": {
      "text/plain": [
       "(27,\n",
       " 37,\n",
       " [0,\n",
       "  1,\n",
       "  2,\n",
       "  3,\n",
       "  4,\n",
       "  5,\n",
       "  6,\n",
       "  7,\n",
       "  8,\n",
       "  9,\n",
       "  10,\n",
       "  11,\n",
       "  12,\n",
       "  13,\n",
       "  14,\n",
       "  15,\n",
       "  16,\n",
       "  17,\n",
       "  18,\n",
       "  19,\n",
       "  21,\n",
       "  22,\n",
       "  23,\n",
       "  24,\n",
       "  25,\n",
       "  26,\n",
       "  27,\n",
       "  28,\n",
       "  29,\n",
       "  30,\n",
       "  31,\n",
       "  32,\n",
       "  33,\n",
       "  34,\n",
       "  35,\n",
       "  36,\n",
       "  37],\n",
       " [1,\n",
       "  2,\n",
       "  3,\n",
       "  4,\n",
       "  5,\n",
       "  6,\n",
       "  7,\n",
       "  8,\n",
       "  9,\n",
       "  10,\n",
       "  11,\n",
       "  12,\n",
       "  13,\n",
       "  14,\n",
       "  15,\n",
       "  16,\n",
       "  17,\n",
       "  18,\n",
       "  19,\n",
       "  20,\n",
       "  21,\n",
       "  23,\n",
       "  24,\n",
       "  25,\n",
       "  26,\n",
       "  27,\n",
       "  28])"
      ]
     },
     "execution_count": 32,
     "metadata": {},
     "output_type": "execute_result"
    }
   ],
   "source": [
    "formose_m = np.loadtxt(\"scenarios/formose_minus.txt\")\n",
    "formose_p = np.loadtxt(\"scenarios/formose_plus.txt\")\n",
    "SM=formose_p-formose_m\n",
    "n, m =SM.shape\n",
    "print(n,m)\n",
    "del_c=100\n",
    "del_r=100\n",
    "set_r=[r for r in range(m)]\n",
    "set_c=[s for s in range(n)]\n",
    "col_delete=[]\n",
    "row_delete=[]\n",
    "while del_r>0 or del_c>0:\n",
    "    del_c=0\n",
    "    for  r in range(m):\n",
    "        if r not in col_delete and (len([s for s in range(n) if SM[s,r]>=0.5])<0.001 or len([s for s in range(n) if SM[s,r]<=-0.5])<0.001):\n",
    "            col_delete.append(r)\n",
    "            SM[:, r]=0\n",
    "            del_c+=1\n",
    "    del_r=0\n",
    "    for s in range(n):\n",
    "        if s not in row_delete and (len([r for r in range(m) if SM[s,r]>=0.5])<0.001 or len([r for r in range(m) if  SM[s,r]<=-0.5])<0.001):\n",
    "            row_delete.append(s)\n",
    "            SM[s,:]=0\n",
    "            del_r+=1\n",
    "\n",
    "\n",
    "SM=SM0\n",
    "n, m =SM.shape\n",
    "input_matrix=np.zeros((n,m))\n",
    "output_matrix=np.zeros((n,m))\n",
    "for s in range(n):\n",
    "    for r in range(m):\n",
    "        if SM[s,r]>0.5:\n",
    "            output_matrix[s,r]=SM[s,r]\n",
    "        if SM[s,r]<-0.5:\n",
    "            input_matrix[s,r]=-SM[s,r]\n",
    "input_matrix=np.delete(input_matrix, row_delete, 0)\n",
    "output_matrix=np.delete(output_matrix, row_delete, 0)\n",
    "input_matrix=np.delete(input_matrix, col_delete, 1)\n",
    "output_matrix=np.delete(output_matrix, col_delete, 1)\n",
    "\n",
    "names_rows=[s for s in range(n) if s not in row_delete]\n",
    "names_cols=[r for r in range(m) if r not in col_delete]\n",
    "\n",
    "n, m = input_matrix.shape\n",
    "n, m, names_cols, names_rows"
   ]
  },
  {
   "cell_type": "code",
   "execution_count": 33,
   "metadata": {},
   "outputs": [
    {
     "name": "stdout",
     "output_type": "stream",
     "text": [
      "[0] alphabar: 39882.9240, alpha: 0.5000\n",
      "[1] alphabar: 18717.5434, alpha: 0.8078\n",
      "[2] alphabar: 10614.8873, alpha: 0.9290\n",
      "[3] alphabar: 5891.2026, alpha: 0.9999\n",
      "[4] alphabar: 3264.4673, alpha: 1.0399\n",
      "[5] alphabar: 1843.5484, alpha: 1.0624\n",
      "[6] alphabar: 1150.2249, alpha: 1.0772\n",
      "[7] alphabar: 683.5057, alpha: 1.0887\n",
      "[8] alphabar: 501.6225, alpha: 1.0955\n",
      "[9] alphabar: 431.0365, alpha: 1.1005\n",
      "[10] alphabar: 373.0404, alpha: 1.1048\n",
      "[11] alphabar: 324.7742, alpha: 1.1086\n",
      "[12] alphabar: 285.1511, alpha: 1.1118\n",
      "[13] alphabar: 252.2360, alpha: 1.1147\n",
      "[14] alphabar: 223.5483, alpha: 1.1172\n",
      "[15] alphabar: 198.4561, alpha: 1.1194\n",
      "[16] alphabar: 176.4401, alpha: 1.1214\n",
      "[17] alphabar: 157.0702, alpha: 1.1232\n",
      "[18] alphabar: 139.9869, alpha: 1.1247\n",
      "[19] alphabar: 124.8882, alpha: 1.1261\n",
      "[20] alphabar: 111.5179, alpha: 1.1274\n",
      "[21] alphabar: 99.6585, alpha: 1.1285\n",
      "[22] alphabar: 89.1233, alpha: 1.1295\n",
      "[23] alphabar: 79.7520, alpha: 1.1304\n",
      "[24] alphabar: 71.4063, alpha: 1.1312\n",
      "[25] alphabar: 63.9659, alpha: 1.1319\n",
      "[26] alphabar: 57.3263, alpha: 1.1325\n",
      "[27] alphabar: 51.3965, alpha: 1.1331\n",
      "[28] alphabar: 46.0965, alpha: 1.1336\n",
      "[29] alphabar: 41.3563, alpha: 1.1341\n",
      "[30] alphabar: 37.1141, alpha: 1.1345\n",
      "[31] alphabar: 33.3156, alpha: 1.1349\n",
      "[32] alphabar: 29.9127, alpha: 1.1352\n",
      "[33] alphabar: 26.8629, alpha: 1.1355\n",
      "[34] alphabar: 24.1285, alpha: 1.1358\n",
      "[35] alphabar: 21.6761, alpha: 1.1360\n",
      "[36] alphabar: 19.4758, alpha: 1.1362\n",
      "[37] alphabar: 17.5012, alpha: 1.1364\n",
      "[38] alphabar: 15.7286, alpha: 1.1366\n",
      "[39] alphabar: 14.1371, alpha: 1.1368\n",
      "[40] alphabar: 12.7079, alpha: 1.1369\n",
      "[41] alphabar: 11.4241, alpha: 1.1370\n",
      "[42] alphabar: 10.2709, alpha: 1.1371\n",
      "[43] alphabar: 9.2347, alpha: 1.1373\n",
      "[44] alphabar: 8.3035, alpha: 1.1373\n",
      "[45] alphabar: 7.4667, alpha: 1.1374\n",
      "[46] alphabar: 6.7146, alpha: 1.1375\n",
      "[47] alphabar: 6.0384, alpha: 1.1376\n",
      "[48] alphabar: 5.4306, alpha: 1.1376\n",
      "[49] alphabar: 4.8842, alpha: 1.1377\n",
      "[50] alphabar: 4.3929, alpha: 1.1377\n",
      "[51] alphabar: 3.9511, alpha: 1.1378\n",
      "[52] alphabar: 3.5539, alpha: 1.1378\n",
      "[53] alphabar: 3.1966, alpha: 1.1379\n",
      "[54] alphabar: 2.8754, alpha: 1.1379\n",
      "[55] alphabar: 2.5864, alpha: 1.1379\n",
      "[56] alphabar: 2.3266, alpha: 1.1379\n",
      "[57] alphabar: 2.0929, alpha: 1.1380\n",
      "[58] alphabar: 1.8827, alpha: 1.1380\n",
      "[59] alphabar: 1.6926, alpha: 1.1380\n",
      "[60] alphabar: 1.5217, alpha: 1.1380\n",
      "[61] alphabar: 1.3680, alpha: 1.1380\n",
      "[62] alphabar: 1.2299, alpha: 1.1380\n",
      "[63] alphabar: 1.1057, alpha: 1.1381\n",
      "[64] alphabar: 0.9941, alpha: 1.1381\n",
      "[65] alphabar: 0.8937, alpha: 1.1381\n",
      "[66] alphabar: 0.8035, alpha: 1.1381\n",
      "[67] alphabar: 0.7224, alpha: 1.1381\n",
      "[68] alphabar: 0.6495, alpha: 1.1381\n",
      "[69] alphabar: 0.5839, alpha: 1.1381\n",
      "[70] alphabar: 0.5250, alpha: 1.1381\n",
      "[71] alphabar: 0.4720, alpha: 1.1381\n",
      "[72] alphabar: 0.4244, alpha: 1.1381\n",
      "[73] alphabar: 0.3815, alpha: 1.1381\n",
      "[74] alphabar: 0.3430, alpha: 1.1381\n",
      "[75] alphabar: 0.3084, alpha: 1.1381\n",
      "[76] alphabar: 0.2773, alpha: 1.1381\n",
      "[77] alphabar: 0.2493, alpha: 1.1381\n",
      "[78] alphabar: 0.2241, alpha: 1.1381\n",
      "[79] alphabar: 0.2015, alpha: 1.1381\n",
      "[80] alphabar: 0.1812, alpha: 1.1382\n",
      "[81] alphabar: 0.1629, alpha: 1.1382\n",
      "[82] alphabar: 0.1465, alpha: 1.1382\n",
      "[83] alphabar: 0.1317, alpha: 1.1382\n",
      "[84] alphabar: 0.1184, alpha: 1.1382\n",
      "[85] alphabar: 0.1064, alpha: 1.1382\n",
      "[86] alphabar: 0.0957, alpha: 1.1382\n",
      "[87] alphabar: 0.0861, alpha: 1.1382\n",
      "[88] alphabar: 0.0774, alpha: 1.1382\n",
      "[89] alphabar: 0.0696, alpha: 1.1382\n",
      "[90] alphabar: 0.0625, alpha: 1.1382\n",
      "[91] alphabar: 0.0562, alpha: 1.1382\n",
      "[92] alphabar: 0.0506, alpha: 1.1382\n",
      "[93] alphabar: 0.0455, alpha: 1.1382\n",
      "[94] alphabar: 0.0409, alpha: 1.1382\n",
      "[95] alphabar: 0.0367, alpha: 1.1382\n",
      "[96] alphabar: 0.0330, alpha: 1.1382\n",
      "[97] alphabar: 0.0297, alpha: 1.1382\n",
      "[98] alphabar: 0.0267, alpha: 1.1382\n",
      "[99] alphabar: 0.0240, alpha: 1.1382\n",
      "[100] alphabar: 0.0216, alpha: 1.1382\n",
      "[101] alphabar: 0.0194, alpha: 1.1382\n",
      "[102] alphabar: 0.0175, alpha: 1.1382\n",
      "[103] alphabar: 0.0157, alpha: 1.1382\n",
      "[104] alphabar: 0.0141, alpha: 1.1382\n",
      "[105] alphabar: 0.0127, alpha: 1.1382\n",
      "[106] alphabar: 0.0114, alpha: 1.1382\n",
      "[107] alphabar: 0.0103, alpha: 1.1382\n",
      "[108] alphabar: 0.0092, alpha: 1.1382\n",
      "[109] alphabar: 0.0083, alpha: 1.1382\n",
      "[110] alphabar: 0.0075, alpha: 1.1382\n",
      "[111] alphabar: 0.0067, alpha: 1.1382\n",
      "[112] alphabar: 0.0060, alpha: 1.1382\n",
      "[113] alphabar: 0.0054, alpha: 1.1382\n",
      "[114] alphabar: 0.0049, alpha: 1.1382\n",
      "[115] alphabar: 0.0044, alpha: 1.1382\n",
      "[116] alphabar: 0.0039, alpha: 1.1382\n",
      "[117] alphabar: 0.0035, alpha: 1.1382\n",
      "[118] alphabar: 0.0032, alpha: 1.1382\n",
      "[119] alphabar: 0.0029, alpha: 1.1382\n",
      "[120] alphabar: 0.0026, alpha: 1.1382\n",
      "[121] alphabar: 0.0023, alpha: 1.1382\n",
      "[122] alphabar: 0.0021, alpha: 1.1382\n",
      "[123] alphabar: 0.0019, alpha: 1.1382\n",
      "[124] alphabar: 0.0017, alpha: 1.1382\n",
      "[125] alphabar: 0.0015, alpha: 1.1382\n",
      "[126] alphabar: 0.0014, alpha: 1.1382\n",
      "[127] alphabar: 0.0012, alpha: 1.1382\n",
      "[128] alphabar: 0.0011, alpha: 1.1382\n",
      "[129] alphabar: 0.0010, alpha: 1.1382\n",
      "[130] alphabar: 0.0009, alpha: 1.1382\n",
      "[131] alphabar: 0.0008, alpha: 1.1382\n",
      "[132] alphabar: 0.0007, alpha: 1.1382\n",
      "[133] alphabar: 0.0006, alpha: 1.1382\n",
      "[134] alphabar: 0.0006, alpha: 1.1382\n",
      "[135] alphabar: 0.0005, alpha: 1.1382\n",
      "[136] alphabar: 0.0005, alpha: 1.1382\n",
      "[137] alphabar: 0.0004, alpha: 1.1382\n",
      "[138] alphabar: 0.0004, alpha: 1.1382\n",
      "[139] alphabar: 0.0003, alpha: 1.1382\n",
      "[140] alphabar: 0.0003, alpha: 1.1382\n",
      "[141] alphabar: 0.0003, alpha: 1.1382\n",
      "[142] alphabar: 0.0002, alpha: 1.1382\n",
      "[143] alphabar: 0.0002, alpha: 1.1382\n",
      "[144] alphabar: 0.0002, alpha: 1.1382\n",
      "[145] alphabar: 0.0002, alpha: 1.1382\n",
      "[146] alphabar: 0.0002, alpha: 1.1382\n",
      "[147] alphabar: 0.0001, alpha: 1.1382\n",
      "[148] alphabar: 0.0001, alpha: 1.1382\n",
      "[149] alphabar: 0.0001, alpha: 1.1382\n",
      "[150] alphabar: 0.0001, alpha: 1.1382\n",
      "[151] alphabar: 0.0001, alpha: 1.1382\n",
      "[152] alphabar: 0.0001, alpha: 1.1382\n",
      "[153] alphabar: 0.0001, alpha: 1.1382\n",
      "[154] alphabar: 0.0001, alpha: 1.1382\n",
      "[155] alphabar: 0.0001, alpha: 1.1382\n",
      "[156] alphabar: 0.0001, alpha: 1.1382\n",
      "[157] alphabar: 0.0001, alpha: 1.1382\n",
      "[158] alphabar: 0.0000, alpha: 1.1382\n",
      "[159] alphabar: 0.0000, alpha: 1.1382\n",
      "[160] alphabar: 0.0000, alpha: 1.1382\n",
      "[161] alphabar: 0.0000, alpha: 1.1382\n",
      "[162] alphabar: 0.0000, alpha: 1.1382\n",
      "[163] alphabar: 0.0000, alpha: 1.1382\n",
      "[164] alphabar: 0.0000, alpha: 1.1382\n",
      "[165] alphabar: 0.0000, alpha: 1.1382\n",
      "[166] alphabar: 0.0000, alpha: 1.1382\n",
      "[167] alphabar: 0.0000, alpha: 1.1382\n",
      "[168] alphabar: 0.0000, alpha: 1.1382\n",
      "[169] alphabar: 0.0000, alpha: 1.1382\n",
      "[170] alphabar: 0.0000, alpha: 1.1382\n",
      "[171] alphabar: 0.0000, alpha: 1.1382\n",
      "[172] alphabar: 0.0000, alpha: 1.1382\n",
      "[173] alphabar: 0.0000, alpha: 1.1382\n",
      "[174] alphabar: 0.0000, alpha: 1.1382\n",
      "[175] alphabar: 0.0000, alpha: 1.1382\n",
      "[176] alphabar: 0.0000, alpha: 1.1382\n",
      "[177] alphabar: 0.0000, alpha: 1.1382\n",
      "[178] alphabar: 0.0000, alpha: 1.1382\n",
      "[179] alphabar: 0.0000, alpha: 1.1382\n",
      "[180] alphabar: 0.0000, alpha: 1.1382\n",
      "[181] alphabar: 0.0000, alpha: 1.1382\n",
      "[182] alphabar: 0.0000, alpha: 1.1382\n",
      "[183] alphabar: 0.0000, alpha: 1.1382\n",
      "[184] alphabar: 0.0000, alpha: 1.1382\n",
      "[185] alphabar: 0.0000, alpha: 1.1382\n",
      "[186] alphabar: 0.0000, alpha: 1.1382\n",
      "[187] alphabar: 0.0000, alpha: 1.1382\n",
      "[188] alphabar: 0.0000, alpha: 1.1382\n",
      "[189] alphabar: 0.0000, alpha: 1.1382\n",
      "[190] alphabar: 0.0000, alpha: 1.1382\n",
      "[191] alphabar: 0.0000, alpha: 1.1382\n",
      "[192] alphabar: 0.0000, alpha: 1.1382\n",
      "[193] alphabar: 0.0000, alpha: 1.1382\n",
      "[194] alphabar: 0.0000, alpha: 1.1382\n",
      "[195] alphabar: 0.0000, alpha: 1.1382\n"
     ]
    },
    {
     "data": {
      "text/plain": [
       "True"
      ]
     },
     "execution_count": 33,
     "metadata": {},
     "output_type": "execute_result"
    }
   ],
   "source": [
    "XX = code.growthRateGraph(output_matrix, input_matrix, 1000)\n",
    "xsol = XX[0]\n",
    "alphasol =XX[1]\n",
    "step = XX[2]\n",
    "time=XX[4]\n",
    "\n",
    "isA_sp, isA_re=IsAutonomous(input_matrix, output_matrix, range(n), range(m))\n",
    "#isA_sp_a, isA_re_a=IsAutonomous(input_matrix, output_matrix, asol, range(m))\n",
    "isA=False\n",
    "if isA_sp and isA_re:\n",
    "    isA=True\n",
    "isA"
   ]
  },
  {
   "cell_type": "code",
   "execution_count": 38,
   "metadata": {},
   "outputs": [
    {
     "data": {
      "text/plain": [
       "array([ 8232.82754688,  7233.3945463 ,  6355.28879531, 13816.92916451,\n",
       "           0.36418902, 10665.99918232, 12139.85090323,     0.4855851 ,\n",
       "           1.34253365,     1.25169199,  9369.93698933,     0.54803305,\n",
       "           0.48150399,     0.95988225,     0.72196022,     0.50455497,\n",
       "           0.56470006,     0.13817017,     0.13817017,     0.49614768,\n",
       "           0.31452122,     0.49614768,     0.31452122,     0.13817017,\n",
       "           0.13817017,     0.13817017,     0.13817017])"
      ]
     },
     "execution_count": 38,
     "metadata": {},
     "output_type": "execute_result"
    }
   ],
   "source": [
    "(output_matrix).dot(xsol)- (input_matrix).dot(xsol)"
   ]
  },
  {
   "cell_type": "code",
   "execution_count": 23,
   "metadata": {},
   "outputs": [
    {
     "data": {
      "text/plain": [
       "(True, True)"
      ]
     },
     "execution_count": 23,
     "metadata": {},
     "output_type": "execute_result"
    }
   ],
   "source": [
    "isA_re, isA_sp"
   ]
  },
  {
   "cell_type": "code",
   "execution_count": 24,
   "metadata": {},
   "outputs": [
    {
     "data": {
      "text/plain": [
       "1.1381692916451138"
      ]
     },
     "execution_count": 24,
     "metadata": {},
     "output_type": "execute_result"
    }
   ],
   "source": [
    "np.set_printoptions(threshold=sys.maxsize)\n",
    "alpha_hand =  np.min([sum(output_matrix[s, r] * xsol[r] \n",
    "                         for r in range(m))\n",
    "                     /\n",
    "                     sum(input_matrix[s, r] * xsol[r] \n",
    "                         for r in range(m)) \n",
    "                     for s in range(n) if sum(input_matrix[s, r] * xsol[r] \n",
    "                         for r in range(m))>0.0001])\n",
    "alpha_hand"
   ]
  },
  {
   "cell_type": "code",
   "execution_count": 25,
   "metadata": {},
   "outputs": [
    {
     "name": "stdout",
     "output_type": "stream",
     "text": [
      "alphabar:  39882.924010791365 alpha:  0.5 |a|= 27\n",
      "alphabar:  18717.543412545023 alpha:  0.807776059383058 |a|= 27\n",
      "alphabar:  10614.887295127666 alpha:  0.929003936412581 |a|= 27\n",
      "alphabar:  5891.202561789171 alpha:  0.999866303360722 |a|= 27\n",
      "alphabar:  3264.467270834381 alpha:  1.0399255847409727 |a|= 27\n",
      "alphabar:  1843.548448465017 alpha:  1.0623896931999322 |a|= 27\n",
      "alphabar:  1150.224928249565 alpha:  1.0771741317148444 |a|= 27\n",
      "alphabar:  683.5057092422032 alpha:  1.0886762659759974 |a|= 27\n",
      "alphabar:  501.6225060738608 alpha:  1.095511254718532 |a|= 27\n",
      "alphabar:  431.03651752986815 alpha:  1.1005274797792703 |a|= 27\n",
      "alphabar:  373.0403593660926 alpha:  1.104837844954569 |a|= 27\n",
      "alphabar:  324.77424199940066 alpha:  1.10856824854823 |a|= 27\n",
      "alphabar:  285.1511448649685 alpha:  1.1118159909682241 |a|= 27\n",
      "alphabar:  252.23601012012193 alpha:  1.114667502416874 |a|= 27\n",
      "alphabar:  223.54829764970873 alpha:  1.1171898625180752 |a|= 27\n",
      "alphabar:  198.4560536758154 alpha:  1.1194253454945722 |a|= 27\n",
      "alphabar:  176.4400947957051 alpha:  1.1214099060313305 |a|= 27\n",
      "alphabar:  157.07017268928684 alpha:  1.1231743069792874 |a|= 27\n",
      "alphabar:  139.98694274438856 alpha:  1.1247450087061803 |a|= 27\n",
      "alphabar:  124.8881529821125 alpha:  1.1261448781336243 |a|= 27\n",
      "alphabar:  111.51794416341255 alpha:  1.1273937596634456 |a|= 27\n",
      "alphabar:  99.65847250865916 alpha:  1.1285089391050795 |a|= 27\n",
      "alphabar:  89.12328658155592 alpha:  1.1295055238301661 |a|= 27\n",
      "alphabar:  79.75204332884488 alpha:  1.1303967566959816 |a|= 27\n",
      "alphabar:  71.40625671519344 alpha:  1.1311942771292702 |a|= 27\n",
      "alphabar:  63.965850026449615 alpha:  1.1319083396964218 |a|= 27\n",
      "alphabar:  57.32633915076441 alpha:  1.1325479981966862 |a|= 27\n",
      "alphabar:  51.39651533404377 alpha:  1.1331212615881943 |a|= 27\n",
      "alphabar:  46.09652638120594 alpha:  1.1336352267415348 |a|= 27\n",
      "alphabar:  41.35627804064253 alpha:  1.1340961920053472 |a|= 27\n",
      "alphabar:  37.11409446902736 alpha:  1.1345097547857537 |a|= 27\n",
      "alphabar:  33.315589716637916 alpha:  1.1348808957304437 |a|= 27\n",
      "alphabar:  29.91271216607531 alpha:  1.1352140516276101 |a|= 27\n",
      "alphabar:  26.86293157034813 alpha:  1.135513178749271 |a|= 27\n",
      "alphabar:  24.12854433160715 alpha:  1.1357818080649744 |a|= 27\n",
      "alphabar:  21.676077353642714 alpha:  1.1360230935082907 |a|= 27\n",
      "alphabar:  19.475774496114397 alpha:  1.1362398542818273 |a|= 27\n",
      "alphabar:  17.501152586018566 alpha:  1.1364346120267885 |a|= 27\n",
      "alphabar:  15.728616275178952 alpha:  1.1366096235526486 |a|= 27\n",
      "alphabar:  14.137122902386333 alpha:  1.1367669097154003 |a|= 27\n",
      "alphabar:  12.707890025539069 alpha:  1.1369082809444242 |a|= 27\n",
      "alphabar:  11.424139509473354 alpha:  1.1370353598446796 |a|= 27\n",
      "alphabar:  10.270873048650733 alpha:  1.1371496012397742 |a|= 27\n",
      "alphabar:  9.23467481657348 alpha:  1.1372523099702607 |a|= 27\n",
      "alphabar:  8.303537601820588 alpha:  1.1373446567184262 |a|= 27\n",
      "alphabar:  7.466709342149377 alpha:  1.1374276920944446 |a|= 27\n",
      "alphabar:  6.714557425817617 alpha:  1.137502359187866 |a|= 27\n",
      "alphabar:  6.038448510323624 alpha:  1.1375695047621244 |a|= 27\n",
      "alphabar:  5.430641928000932 alpha:  1.1376298892472279 |a|= 27\n",
      "alphabar:  4.884195015671125 alpha:  1.1376841956665078 |a|= 27\n",
      "alphabar:  4.392878931889182 alpha:  1.1377330376166646 |a|= 27\n",
      "alphabar:  3.9511037167455254 alpha:  1.1377769664059836 |a|= 27\n",
      "alphabar:  3.5538515119919327 alpha:  1.137816477443151 |a|= 27\n",
      "alphabar:  3.1966169982619235 alpha:  1.137852015958271 |a|= 27\n",
      "alphabar:  2.8753542251042274 alpha:  1.1378839821282538 |a|= 27\n",
      "alphabar:  2.586429111799149 alpha:  1.1379127356705045 |a|= 27\n",
      "alphabar:  2.326576985026447 alpha:  1.1379385999616223 |a|= 27\n",
      "alphabar:  2.092864595758258 alpha:  1.1379618657314725 |a|= 27\n",
      "alphabar:  1.8826561237461712 alpha:  1.1379827943774299 |a|= 27\n",
      "alphabar:  1.6926209617506576 alpha:  1.1380016209386674 |a|= 27\n",
      "alphabar:  1.5216793290016424 alpha:  1.1380185471482849 |a|= 27\n",
      "alphabar:  1.3680154993397637 alpha:  1.138033763941575 |a|= 27\n",
      "alphabar:  1.2298804432403665 alpha:  1.1380474440965682 |a|= 27\n",
      "alphabar:  1.1057027004423743 alpha:  1.1380597429010006 |a|= 27\n",
      "alphabar:  0.9940702536253678 alpha:  1.138070799928005 |a|= 27\n",
      "alphabar:  0.8937142712982193 alpha:  1.1380807406305413 |a|= 27\n",
      "alphabar:  0.8034945235484083 alpha:  1.1380896777732543 |a|= 27\n",
      "alphabar:  0.7223862956201935 alpha:  1.13809771271849 |a|= 27\n",
      "alphabar:  0.6494686431224777 alpha:  1.1381049365814462 |a|= 27\n",
      "alphabar:  0.5839138494290605 alpha:  1.1381114312678773 |a|= 27\n",
      "alphabar:  0.52497796066204 alpha:  1.1381172704063713 |a|= 27\n",
      "alphabar:  0.4719922868951476 alpha:  1.1381225201859781 |a|= 27\n",
      "alphabar:  0.42435576993010593 alpha:  1.1381272401088471 |a|= 27\n",
      "alphabar:  0.3815281284437841 alpha:  1.1381314836665464 |a|= 27\n",
      "alphabar:  0.34302370071152943 alpha:  1.1381352989478306 |a|= 27\n",
      "alphabar:  0.30840591336242357 alpha:  1.138138729184838 |a|= 27\n",
      "alphabar:  0.27728231210756693 alpha:  1.1381418132439716 |a|= 27\n",
      "alphabar:  0.24930009695507588 alpha:  1.1381445860670922 |a|= 27\n",
      "alphabar:  0.22414211045666343 alpha:  1.1381470790680617 |a|= 27\n",
      "alphabar:  0.20152323278506193 alpha:  1.1381493204891664 |a|= 27\n",
      "alphabar:  0.1811871421831515 alpha:  1.1381513357214943 |a|= 27\n",
      "alphabar:  0.16290340360559086 alpha:  1.1381531475929163 |a|= 27\n",
      "alphabar:  0.14646485221266836 alpha:  1.1381547766269524 |a|= 27\n",
      "alphabar:  0.13168524171571877 alpha:  1.1381562412754747 |a|= 27\n",
      "alphabar:  0.118397130730975 alpha:  1.1381575581278918 |a|= 27\n",
      "alphabar:  0.10644998295002106 alpha:  1.1381587420991992 |a|= 27\n",
      "alphabar:  0.09570845947686343 alpha:  1.1381598065990286 |a|= 27\n",
      "alphabar:  0.08605088382207171 alpha:  1.1381607636836233 |a|= 27\n",
      "alphabar:  0.07736786210566365 alpha:  1.1381616241924613 |a|= 27\n",
      "alphabar:  0.06956104269323593 alpha:  1.1381623978710824 |a|= 27\n",
      "alphabar:  0.06254200121519311 alpha:  1.1381630934815095 |a|= 27\n",
      "alphabar:  0.05623123821805494 alpha:  1.1381637189015217 |a|= 27\n",
      "alphabar:  0.05055727809496265 alpha:  1.1381642812139041 |a|= 27\n",
      "alphabar:  0.04545585904131046 alpha:  1.1381647867866853 |a|= 27\n",
      "alphabar:  0.040869204814801934 alpha:  1.1381652413452756 |a|= 27\n",
      "alphabar:  0.03674537005381333 alpha:  1.1381656500373238 |a|= 27\n",
      "alphabar:  0.03303765170719174 alpha:  1.1381660174910246 |a|= 27\n",
      "alphabar:  0.029704059899672147 alpha:  1.1381663478675417 |a|= 27\n",
      "alphabar:  0.026706842204790828 alpha:  1.1381666449081405 |a|= 27\n",
      "alphabar:  0.024012055964609348 alpha:  1.1381669119765625 |a|= 27\n",
      "alphabar:  0.021589183790605804 alpha:  1.1381671520971222 |a|= 27\n",
      "alphabar:  0.019410787866059476 alpha:  1.1381673679889597 |a|= 27\n"
     ]
    }
   ],
   "source": [
    "np.set_printoptions(suppress=True)\n",
    "XX_a = code.growthRateGraph_a(output_matrix, input_matrix, 100, n)\n",
    "xsol_a = XX_a[0]\n",
    "alphasol_a =XX_a[1]\n",
    "step_a = XX_a[2]\n",
    "time_a=XX_a[4]\n",
    "asol=XX_a[5]\n",
    "\n",
    "isA_sp_a, isA_re_a=IsAutonomous(input_matrix, output_matrix, asol, range(m))\n",
    "isA_a=False\n",
    "if isA_sp_a and isA_re_a:\n",
    "    isA_a=True"
   ]
  },
  {
   "cell_type": "code",
   "execution_count": 26,
   "metadata": {},
   "outputs": [
    {
     "data": {
      "text/plain": [
       "(1.1381692916451138, 1.1381692916451138)"
      ]
     },
     "execution_count": 26,
     "metadata": {},
     "output_type": "execute_result"
    }
   ],
   "source": [
    "alpha_hand =  np.min([sum(output_matrix[s, r] * xsol[r] \n",
    "                         for r in range(m))\n",
    "                     /\n",
    "                     sum(input_matrix[s, r] * xsol[r] \n",
    "                         for r in range(m)) \n",
    "                     for s in range(n) ])\n",
    "alpha_hand_a =  np.min([sum(output_matrix[s, r] * xsol[r] \n",
    "                         for r in range(m))\n",
    "                     /\n",
    "                     sum(input_matrix[s, r] * xsol[r] \n",
    "                         for r in range(m)) \n",
    "                     for s in asol ])\n",
    "alpha_hand, alpha_hand_a"
   ]
  },
  {
   "cell_type": "code",
   "execution_count": 30,
   "metadata": {},
   "outputs": [
    {
     "name": "stdout",
     "output_type": "stream",
     "text": [
      "**[0] alphabar:  517.596566523605 alpha:  0.7587982832618024\n",
      "**[1] alphabar:  290.089774927342 alpha:  0.9107437359082182\n",
      "**[2] alphabar:  165.84604177864577 alpha:  1.076589777686864  AUTOCATALYTIC!\n",
      "**[3] alphabar:  44.415021044695784 alpha:  1.1210047987315597  AUTOCATALYTIC!\n",
      "**[4] alphabar:  12.37434655089358 alpha:  1.1333791452824535  AUTOCATALYTIC!\n",
      "**[5] alphabar:  3.4593456599122874 alpha:  1.1368384909419273  AUTOCATALYTIC!\n",
      "**[6] alphabar:  0.9675829196054968 alpha:  1.137806073861612  AUTOCATALYTIC!\n",
      "**[7] alphabar:  0.2706641473818081 alpha:  1.1380767380089825  AUTOCATALYTIC!\n",
      "**[8] alphabar:  0.07571565963405004 alpha:  1.1381524536695735  AUTOCATALYTIC!\n",
      "**[9] alphabar:  0.02118088366376014 alpha:  1.1381736345525189  AUTOCATALYTIC!\n",
      "**[10] alphabar:  0.005925205714902404 alpha:  1.1381795597630888  AUTOCATALYTIC!\n",
      "**[11] alphabar:  0.0016575325829926118 alpha:  1.1381812173368708  AUTOCATALYTIC!\n",
      "**[12] alphabar:  0.00046365402215542417 alpha:  1.1381816809901788  AUTOCATALYTIC!\n",
      "**[13] alphabar:  0.00012970451591094406 alpha:  1.1381818112997006  AUTOCATALYTIC!\n",
      "**[14] alphabar:  3.5848208865024634e-05 alpha:  1.1381818471479093  AUTOCATALYTIC!\n"
     ]
    },
    {
     "data": {
      "text/plain": [
       "True"
      ]
     },
     "execution_count": 30,
     "metadata": {},
     "output_type": "execute_result"
    }
   ],
   "source": [
    "XX_sn = code.growthRateinSubgraph(output_matrix, input_matrix, 1000)\n",
    "xsol_sn = XX_sn[0]\n",
    "alphasol_sn =XX_sn[1]\n",
    "step_sn = XX_sn[2]\n",
    "time_sn=XX_sn[7]\n",
    "asol_sn=XX_sn[4]\n",
    "ysol_sn=XX_sn[5]\n",
    "zsol_sn=XX_sn[6]\n",
    "\n",
    "# isA_sp, isA_re=IsAutonomous(input_matrix, output_matrix, range(n), range(m))\n",
    "isA_sp_sn, isA_re_sn=IsAutonomous(input_matrix, output_matrix, asol_sn, zsol_sn)\n",
    "# isA=False\n",
    "# if isA_sp and isA_re:\n",
    "#     isA=True\n",
    "isA_sn=False\n",
    "if isA_sp_sn and isA_re_sn:\n",
    "    isA_sn=True\n",
    "isA_sn"
   ]
  },
  {
   "cell_type": "code",
   "execution_count": 31,
   "metadata": {},
   "outputs": [
    {
     "data": {
      "text/plain": [
       "array([[-1.,  0.,  0.,  0.,  0.,  0.,  1.],\n",
       "       [ 1., -1.,  0.,  0.,  0.,  0.,  0.],\n",
       "       [ 0.,  1., -1.,  0.,  0.,  0.,  0.],\n",
       "       [ 0.,  0.,  1., -1.,  0.,  0.,  1.],\n",
       "       [ 0.,  0.,  0.,  0.,  1., -1.,  0.],\n",
       "       [ 0.,  0.,  0.,  1., -1.,  0.,  0.],\n",
       "       [ 0.,  0.,  0.,  0.,  0.,  1., -1.]])"
      ]
     },
     "execution_count": 31,
     "metadata": {},
     "output_type": "execute_result"
    }
   ],
   "source": [
    "cols=[names_cols[r] for r in zsol_sn]\n",
    "rows=[names_rows[s] for s in asol_sn]\n",
    "SM_core=SM[rows,:][:,cols]\n",
    "SM_core"
   ]
  },
  {
   "cell_type": "code",
   "execution_count": 40,
   "metadata": {},
   "outputs": [
    {
     "data": {
      "text/plain": [
       "([1, 2, 3, 4, 6, 7, 11], [0, 1, 2, 4, 5, 8, 37])"
      ]
     },
     "execution_count": 40,
     "metadata": {},
     "output_type": "execute_result"
    }
   ],
   "source": [
    "\n",
    "rows, cols"
   ]
  },
  {
   "cell_type": "code",
   "execution_count": null,
   "metadata": {},
   "outputs": [],
   "source": []
  }
 ],
 "metadata": {
  "kernelspec": {
   "display_name": "base",
   "language": "python",
   "name": "python3"
  },
  "language_info": {
   "codemirror_mode": {
    "name": "ipython",
    "version": 3
   },
   "file_extension": ".py",
   "mimetype": "text/x-python",
   "name": "python",
   "nbconvert_exporter": "python",
   "pygments_lexer": "ipython3",
   "version": "3.9.17"
  }
 },
 "nbformat": 4,
 "nbformat_minor": 2
}
