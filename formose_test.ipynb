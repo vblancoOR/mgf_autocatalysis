{
 "cells": [
  {
   "cell_type": "code",
   "execution_count": 1,
   "metadata": {},
   "outputs": [],
   "source": [
    "from main import *\n",
    "import numpy as np\n",
    "import sys\n",
    "\n",
    "import pandas as pd\n",
    "np.set_printoptions(suppress=True)\n"
   ]
  },
  {
   "cell_type": "code",
   "execution_count": 3,
   "metadata": {},
   "outputs": [
    {
     "name": "stdout",
     "output_type": "stream",
     "text": [
      "29 38\n",
      "29 38\n",
      "len_del_c:  1 len_del_r:  2\n",
      "len_c: 37 len_r:  27\n"
     ]
    }
   ],
   "source": [
    "formose_m = np.loadtxt(\"scenarios/formose_minus.txt\")\n",
    "formose_p = np.loadtxt(\"scenarios/formose_plus.txt\")\n",
    "SM=formose_p-formose_m\n",
    "input_matrix, output_matrix, names_rows, names_cols =CleanData(SM)\n",
    "n, m =input_matrix.shape\n",
    "for s in range(n):\n",
    "    if sum(input_matrix[s,r] for r in range(m))<0.01 or sum(output_matrix[s,r] for r in range(m))<0.01:\n",
    "        print(\"s: \", s, sum(input_matrix[s,r] for r in range(m)), sum(output_matrix[s,r] for r in range(m)))\n"
   ]
  },
  {
   "cell_type": "code",
   "execution_count": 4,
   "metadata": {},
   "outputs": [
    {
     "name": "stdout",
     "output_type": "stream",
     "text": [
      "Set parameter Username\n"
     ]
    },
    {
     "name": "stdout",
     "output_type": "stream",
     "text": [
      "Academic license - for non-commercial use only - expires 2025-04-19\n",
      "[0] alphabar: 398.6614, alpha: 0.5000\n",
      "[1] alphabar: 186.8365, alpha: 0.8081\n",
      "[2] alphabar: 105.9644, alpha: 0.9291\n",
      "[3] alphabar: 58.7971, alpha: 1.0000\n",
      "[4] alphabar: 32.5786, alpha: 1.0400\n",
      "[5] alphabar: 18.3950, alpha: 1.0624\n",
      "[6] alphabar: 11.4680, alpha: 1.0772\n",
      "[7] alphabar: 6.8201, alpha: 1.0886\n",
      "[8] alphabar: 4.9897, alpha: 1.0955\n",
      "[9] alphabar: 4.2796, alpha: 1.1005\n",
      "[10] alphabar: 3.6967, alpha: 1.1047\n",
      "[11] alphabar: 3.2121, alpha: 1.1084\n",
      "[12] alphabar: 2.8129, alpha: 1.1116\n",
      "[13] alphabar: 2.4820, alpha: 1.1145\n",
      "[14] alphabar: 2.1941, alpha: 1.1169\n",
      "[15] alphabar: 1.9429, alpha: 1.1191\n",
      "[16] alphabar: 1.7221, alpha: 1.1211\n",
      "[17] alphabar: 1.5281, alpha: 1.1228\n",
      "[18] alphabar: 1.3575, alpha: 1.1243\n",
      "[19] alphabar: 1.2071, alpha: 1.1257\n",
      "[20] alphabar: 1.0743, alpha: 1.1269\n",
      "[21] alphabar: 0.9568, alpha: 1.1280\n",
      "[22] alphabar: 0.8528, alpha: 1.1289\n",
      "[23] alphabar: 0.7605, alpha: 1.1298\n",
      "[24] alphabar: 0.6786, alpha: 1.1305\n",
      "[25] alphabar: 0.6058, alpha: 1.1312\n",
      "[26] alphabar: 0.5410, alpha: 1.1318\n",
      "[27] alphabar: 0.4833, alpha: 1.1324\n",
      "[28] alphabar: 0.4320, alpha: 1.1328\n",
      "[29] alphabar: 0.3862, alpha: 1.1333\n",
      "[30] alphabar: 0.3453, alpha: 1.1337\n",
      "[31] alphabar: 0.3089, alpha: 1.1340\n",
      "[32] alphabar: 0.2763, alpha: 1.1343\n",
      "[33] alphabar: 0.2473, alpha: 1.1346\n",
      "[34] alphabar: 0.2213, alpha: 1.1348\n",
      "[35] alphabar: 0.1981, alpha: 1.1351\n",
      "[36] alphabar: 0.1773, alpha: 1.1353\n",
      "[37] alphabar: 0.1588, alpha: 1.1354\n",
      "[38] alphabar: 0.1422, alpha: 1.1356\n",
      "[39] alphabar: 0.1273, alpha: 1.1357\n",
      "[40] alphabar: 0.1140, alpha: 1.1359\n",
      "[41] alphabar: 0.1021, alpha: 1.1360\n",
      "[42] alphabar: 0.0915, alpha: 1.1361\n",
      "[43] alphabar: 0.0819, alpha: 1.1362\n",
      "[44] alphabar: 0.0734, alpha: 1.1362\n",
      "[45] alphabar: 0.0658, alpha: 1.1363\n",
      "[46] alphabar: 0.0589, alpha: 1.1364\n",
      "[47] alphabar: 0.0528, alpha: 1.1364\n",
      "[48] alphabar: 0.0473, alpha: 1.1365\n",
      "[49] alphabar: 0.0424, alpha: 1.1365\n",
      "[50] alphabar: 0.0380, alpha: 1.1366\n",
      "[51] alphabar: 0.0340, alpha: 1.1366\n",
      "[52] alphabar: 0.0305, alpha: 1.1367\n",
      "[53] alphabar: 0.0273, alpha: 1.1367\n",
      "[54] alphabar: 0.0245, alpha: 1.1367\n",
      "[55] alphabar: 0.0219, alpha: 1.1367\n",
      "[56] alphabar: 0.0197, alpha: 1.1368\n",
      "[57] alphabar: 0.0176, alpha: 1.1368\n",
      "[58] alphabar: 0.0158, alpha: 1.1368\n",
      "[59] alphabar: 0.0141, alpha: 1.1368\n",
      "[60] alphabar: 0.0127, alpha: 1.1368\n",
      "[61] alphabar: 0.0114, alpha: 1.1368\n",
      "[62] alphabar: 0.0102, alpha: 1.1369\n",
      "[63] alphabar: 0.0091, alpha: 1.1369\n",
      "[64] alphabar: 0.0082, alpha: 1.1369\n",
      "[65] alphabar: 0.0073, alpha: 1.1369\n",
      "[66] alphabar: 0.0066, alpha: 1.1369\n",
      "[67] alphabar: 0.0059, alpha: 1.1369\n",
      "[68] alphabar: 0.0053, alpha: 1.1369\n",
      "[69] alphabar: 0.0047, alpha: 1.1369\n",
      "[70] alphabar: 0.0042, alpha: 1.1369\n",
      "[71] alphabar: 0.0038, alpha: 1.1369\n",
      "[72] alphabar: 0.0034, alpha: 1.1369\n",
      "[73] alphabar: 0.0031, alpha: 1.1369\n",
      "[74] alphabar: 0.0027, alpha: 1.1369\n",
      "[75] alphabar: 0.0025, alpha: 1.1369\n",
      "[76] alphabar: 0.0022, alpha: 1.1369\n",
      "[77] alphabar: 0.0020, alpha: 1.1369\n",
      "[78] alphabar: 0.0018, alpha: 1.1369\n",
      "[79] alphabar: 0.0016, alpha: 1.1369\n",
      "[80] alphabar: 0.0014, alpha: 1.1369\n",
      "[81] alphabar: 0.0013, alpha: 1.1369\n",
      "[82] alphabar: 0.0011, alpha: 1.1369\n",
      "[83] alphabar: 0.0010, alpha: 1.1369\n",
      "[84] alphabar: 0.0009, alpha: 1.1369\n",
      "[85] alphabar: 0.0008, alpha: 1.1369\n",
      "[86] alphabar: 0.0007, alpha: 1.1369\n",
      "[87] alphabar: 0.0007, alpha: 1.1369\n",
      "[88] alphabar: 0.0006, alpha: 1.1369\n",
      "[89] alphabar: 0.0005, alpha: 1.1370\n",
      "[90] alphabar: 0.0005, alpha: 1.1370\n",
      "[91] alphabar: 0.0004, alpha: 1.1370\n",
      "[92] alphabar: 0.0004, alpha: 1.1370\n",
      "[93] alphabar: 0.0003, alpha: 1.1370\n",
      "[94] alphabar: 0.0003, alpha: 1.1370\n",
      "[95] alphabar: 0.0003, alpha: 1.1370\n",
      "[96] alphabar: 0.0002, alpha: 1.1370\n",
      "[97] alphabar: 0.0002, alpha: 1.1370\n",
      "[98] alphabar: 0.0002, alpha: 1.1370\n",
      "[99] alphabar: 0.0002, alpha: 1.1370\n",
      "[100] alphabar: 0.0002, alpha: 1.1370\n",
      "[101] alphabar: 0.0001, alpha: 1.1370\n",
      "[102] alphabar: 0.0001, alpha: 1.1370\n",
      "[103] alphabar: 0.0001, alpha: 1.1370\n",
      "[104] alphabar: 0.0001, alpha: 1.1370\n",
      "[105] alphabar: 0.0001, alpha: 1.1370\n",
      "False False True\n"
     ]
    },
    {
     "data": {
      "text/plain": [
       "True"
      ]
     },
     "execution_count": 4,
     "metadata": {},
     "output_type": "execute_result"
    }
   ],
   "source": [
    "XX = code.growthRateGraph(output_matrix, input_matrix, 1000)\n",
    "xsol = XX[0]\n",
    "alphasol =XX[1]\n",
    "step = XX[2]\n",
    "time=XX[4]\n",
    "\n",
    "isA_sp, isA_re=IsAutonomous(input_matrix, output_matrix, range(n), range(m))\n",
    "#isA_sp_a, isA_re_a=IsAutonomous(input_matrix, output_matrix, asol, range(m))\n",
    "isA=False\n",
    "if isA_sp and isA_re:\n",
    "    isA=True\n",
    "isA"
   ]
  },
  {
   "cell_type": "code",
   "execution_count": 38,
   "metadata": {},
   "outputs": [
    {
     "data": {
      "text/plain": [
       "array([ 8232.82754688,  7233.3945463 ,  6355.28879531, 13816.92916451,\n",
       "           0.36418902, 10665.99918232, 12139.85090323,     0.4855851 ,\n",
       "           1.34253365,     1.25169199,  9369.93698933,     0.54803305,\n",
       "           0.48150399,     0.95988225,     0.72196022,     0.50455497,\n",
       "           0.56470006,     0.13817017,     0.13817017,     0.49614768,\n",
       "           0.31452122,     0.49614768,     0.31452122,     0.13817017,\n",
       "           0.13817017,     0.13817017,     0.13817017])"
      ]
     },
     "execution_count": 38,
     "metadata": {},
     "output_type": "execute_result"
    }
   ],
   "source": [
    "(output_matrix).dot(xsol)- (input_matrix).dot(xsol)"
   ]
  },
  {
   "cell_type": "code",
   "execution_count": 23,
   "metadata": {},
   "outputs": [
    {
     "data": {
      "text/plain": [
       "(True, True)"
      ]
     },
     "execution_count": 23,
     "metadata": {},
     "output_type": "execute_result"
    }
   ],
   "source": [
    "isA_re, isA_sp"
   ]
  },
  {
   "cell_type": "code",
   "execution_count": 5,
   "metadata": {},
   "outputs": [
    {
     "data": {
      "text/plain": [
       "1.1369544236048428"
      ]
     },
     "execution_count": 5,
     "metadata": {},
     "output_type": "execute_result"
    }
   ],
   "source": [
    "np.set_printoptions(threshold=sys.maxsize)\n",
    "alpha_hand =  np.min([sum(output_matrix[s, r] * xsol[r] \n",
    "                         for r in range(m))\n",
    "                     /\n",
    "                     sum(input_matrix[s, r] * xsol[r] \n",
    "                         for r in range(m)) \n",
    "                     for s in range(n) if sum(input_matrix[s, r] * xsol[r] \n",
    "                         for r in range(m))>0.0001])\n",
    "alpha_hand"
   ]
  },
  {
   "cell_type": "code",
   "execution_count": 6,
   "metadata": {},
   "outputs": [
    {
     "name": "stdout",
     "output_type": "stream",
     "text": [
      "[4.0, 1.0, 1.0, 6.0, 3.0, 0.5, 1.5, 4.0, 1.5, 1.0, 1.0, 2.0, 0.5, 0.5, 0.5, 2.0, 2.0, 1.0, 1.0, 0.5, 0.5, 0.5, 0.5, 1.0, 1.0, 1.0, 1.0]\n",
      "alpha_0:  0.5\n",
      "alphabar:  39882.924010791365 alpha:  0.5 |a|= 27\n",
      "alphabar:  18717.543412545023 alpha:  0.807776059383058 |a|= 27\n",
      "alphabar:  10614.887295127666 alpha:  0.929003936412581 |a|= 27\n",
      "alphabar:  5891.202561789171 alpha:  0.999866303360722 |a|= 27\n",
      "alphabar:  3264.467270834381 alpha:  1.0399255847409727 |a|= 27\n",
      "alphabar:  1843.548448465017 alpha:  1.0623896931999322 |a|= 27\n",
      "alphabar:  1150.224928249565 alpha:  1.0771741317148444 |a|= 27\n",
      "alphabar:  683.5057092422032 alpha:  1.0886762659759974 |a|= 27\n",
      "alphabar:  501.6225060738608 alpha:  1.095511254718532 |a|= 27\n",
      "alphabar:  431.03651752986815 alpha:  1.1005274797792703 |a|= 27\n",
      "alphabar:  373.0403593660926 alpha:  1.104837844954569 |a|= 27\n",
      "alphabar:  324.77424199940066 alpha:  1.10856824854823 |a|= 27\n",
      "alphabar:  285.1511448649685 alpha:  1.1118159909682241 |a|= 27\n",
      "alphabar:  252.23601012012193 alpha:  1.114667502416874 |a|= 27\n",
      "alphabar:  223.54829764970873 alpha:  1.1171898625180752 |a|= 27\n",
      "alphabar:  198.4560536758154 alpha:  1.1194253454945722 |a|= 27\n",
      "alphabar:  176.4400947957051 alpha:  1.1214099060313305 |a|= 27\n",
      "alphabar:  157.07017268928684 alpha:  1.1231743069792874 |a|= 27\n",
      "alphabar:  139.98694274438856 alpha:  1.1247450087061803 |a|= 27\n",
      "alphabar:  124.8881529821125 alpha:  1.1261448781336243 |a|= 27\n",
      "alphabar:  111.51794416341255 alpha:  1.1273937596634456 |a|= 27\n",
      "alphabar:  99.65847250865916 alpha:  1.1285089391050795 |a|= 27\n",
      "alphabar:  89.12328658155592 alpha:  1.1295055238301661 |a|= 27\n",
      "alphabar:  79.75204332884488 alpha:  1.1303967566959816 |a|= 27\n",
      "alphabar:  71.40625671519344 alpha:  1.1311942771292702 |a|= 27\n",
      "alphabar:  63.965850026449615 alpha:  1.1319083396964218 |a|= 27\n",
      "alphabar:  57.32633915076441 alpha:  1.1325479981966862 |a|= 27\n",
      "alphabar:  51.39651533404377 alpha:  1.1331212615881943 |a|= 27\n",
      "alphabar:  46.09652638120594 alpha:  1.1336352267415348 |a|= 27\n",
      "alphabar:  41.35627804064253 alpha:  1.1340961920053472 |a|= 27\n",
      "alphabar:  37.11409446902736 alpha:  1.1345097547857537 |a|= 27\n",
      "alphabar:  33.315589716637916 alpha:  1.1348808957304437 |a|= 27\n",
      "alphabar:  29.91271216607531 alpha:  1.1352140516276101 |a|= 27\n",
      "alphabar:  26.86293157034813 alpha:  1.135513178749271 |a|= 27\n",
      "alphabar:  24.12854433160715 alpha:  1.1357818080649744 |a|= 27\n",
      "alphabar:  21.676077353642714 alpha:  1.1360230935082907 |a|= 27\n",
      "alphabar:  19.475774496114397 alpha:  1.1362398542818273 |a|= 27\n",
      "alphabar:  17.501152586018566 alpha:  1.1364346120267885 |a|= 27\n",
      "alphabar:  15.728616275178952 alpha:  1.1366096235526486 |a|= 27\n",
      "alphabar:  14.137122902386333 alpha:  1.1367669097154003 |a|= 27\n",
      "alphabar:  12.707890025539069 alpha:  1.1369082809444242 |a|= 27\n",
      "alphabar:  11.424139509473354 alpha:  1.1370353598446796 |a|= 27\n",
      "alphabar:  10.270873048650733 alpha:  1.1371496012397742 |a|= 27\n",
      "alphabar:  9.23467481657348 alpha:  1.1372523099702607 |a|= 27\n",
      "alphabar:  8.303537601820588 alpha:  1.1373446567184262 |a|= 27\n",
      "alphabar:  7.466709342149377 alpha:  1.1374276920944446 |a|= 27\n",
      "alphabar:  6.714557425817617 alpha:  1.137502359187866 |a|= 27\n",
      "alphabar:  6.038448510323624 alpha:  1.1375695047621244 |a|= 27\n",
      "alphabar:  5.430641928000932 alpha:  1.1376298892472279 |a|= 27\n",
      "alphabar:  4.884195015671125 alpha:  1.1376841956665078 |a|= 27\n",
      "alphabar:  4.392878931889182 alpha:  1.1377330376166646 |a|= 27\n",
      "alphabar:  3.9511037167455254 alpha:  1.1377769664059836 |a|= 27\n",
      "alphabar:  3.5538515119919327 alpha:  1.137816477443151 |a|= 27\n",
      "alphabar:  3.1966169982619235 alpha:  1.137852015958271 |a|= 27\n",
      "alphabar:  2.8753542251042274 alpha:  1.1378839821282538 |a|= 27\n",
      "alphabar:  2.586429111799149 alpha:  1.1379127356705045 |a|= 27\n",
      "alphabar:  2.326576985026447 alpha:  1.1379385999616223 |a|= 27\n",
      "alphabar:  2.092864595758258 alpha:  1.1379618657314725 |a|= 27\n",
      "alphabar:  1.8826561237461712 alpha:  1.1379827943774299 |a|= 27\n",
      "alphabar:  1.6926209617506576 alpha:  1.1380016209386674 |a|= 27\n",
      "alphabar:  1.5216793290016424 alpha:  1.1380185471482849 |a|= 27\n",
      "alphabar:  1.3680154993397637 alpha:  1.138033763941575 |a|= 27\n",
      "alphabar:  1.2298804432403665 alpha:  1.1380474440965682 |a|= 27\n",
      "alphabar:  1.1057027004423743 alpha:  1.1380597429010006 |a|= 27\n",
      "alphabar:  0.9940702536253678 alpha:  1.138070799928005 |a|= 27\n",
      "alphabar:  0.8937142712982193 alpha:  1.1380807406305413 |a|= 27\n",
      "alphabar:  0.8034945235484083 alpha:  1.1380896777732543 |a|= 27\n",
      "alphabar:  0.7223862956201935 alpha:  1.13809771271849 |a|= 27\n",
      "alphabar:  0.6494686431224777 alpha:  1.1381049365814462 |a|= 27\n",
      "alphabar:  0.5839138494290605 alpha:  1.1381114312678773 |a|= 27\n",
      "alphabar:  0.52497796066204 alpha:  1.1381172704063713 |a|= 27\n",
      "alphabar:  0.4719922868951476 alpha:  1.1381225201859781 |a|= 27\n",
      "alphabar:  0.42435576993010593 alpha:  1.1381272401088471 |a|= 27\n",
      "alphabar:  0.3815281284437841 alpha:  1.1381314836665464 |a|= 27\n",
      "alphabar:  0.34302370071152943 alpha:  1.1381352989478306 |a|= 27\n",
      "alphabar:  0.30840591336242357 alpha:  1.138138729184838 |a|= 27\n",
      "alphabar:  0.27728231210756693 alpha:  1.1381418132439716 |a|= 27\n",
      "alphabar:  0.24930009695507588 alpha:  1.1381445860670922 |a|= 27\n",
      "alphabar:  0.22414211045666343 alpha:  1.1381470790680617 |a|= 27\n",
      "alphabar:  0.20152323278506193 alpha:  1.1381493204891664 |a|= 27\n",
      "alphabar:  0.1811871421831515 alpha:  1.1381513357214943 |a|= 27\n",
      "alphabar:  0.16290340360559086 alpha:  1.1381531475929163 |a|= 27\n",
      "alphabar:  0.14646485221266836 alpha:  1.1381547766269524 |a|= 27\n",
      "alphabar:  0.13168524171571877 alpha:  1.1381562412754747 |a|= 27\n",
      "alphabar:  0.118397130730975 alpha:  1.1381575581278918 |a|= 27\n",
      "alphabar:  0.10644998295002106 alpha:  1.1381587420991992 |a|= 27\n",
      "alphabar:  0.09570845947686343 alpha:  1.1381598065990286 |a|= 27\n"
     ]
    }
   ],
   "source": [
    "np.set_printoptions(suppress=True)\n",
    "XX_a = code.growthRateGraph_a(output_matrix, input_matrix, 100, n)\n",
    "xsol_a = XX_a[0]\n",
    "alphasol_a =XX_a[1]\n",
    "step_a = XX_a[2]\n",
    "time_a=XX_a[4]\n",
    "asol=XX_a[5]\n",
    "\n",
    "isA_sp_a, isA_re_a=IsAutonomous(input_matrix, output_matrix, asol, range(m))\n",
    "isA_a=False\n",
    "if isA_sp_a and isA_re_a:\n",
    "    isA_a=True"
   ]
  },
  {
   "cell_type": "code",
   "execution_count": 7,
   "metadata": {},
   "outputs": [
    {
     "data": {
      "text/plain": [
       "(1.1369544236048428, 1.1369544236048428)"
      ]
     },
     "execution_count": 7,
     "metadata": {},
     "output_type": "execute_result"
    }
   ],
   "source": [
    "alpha_hand =  np.min([sum(output_matrix[s, r] * xsol[r] \n",
    "                         for r in range(m))\n",
    "                     /\n",
    "                     sum(input_matrix[s, r] * xsol[r] \n",
    "                         for r in range(m)) \n",
    "                     for s in range(n) ])\n",
    "alpha_hand_a =  np.min([sum(output_matrix[s, r] * xsol[r] \n",
    "                         for r in range(m))\n",
    "                     /\n",
    "                     sum(input_matrix[s, r] * xsol[r] \n",
    "                         for r in range(m)) \n",
    "                     for s in asol ])\n",
    "alpha_hand, alpha_hand_a"
   ]
  },
  {
   "cell_type": "code",
   "execution_count": 8,
   "metadata": {},
   "outputs": [
    {
     "name": "stdout",
     "output_type": "stream",
     "text": [
      "nR:  37\n",
      "**[0] alphabar:  517.596566523605 alpha:  0.7587982832618024 |a|= 18 |z|= 22\n",
      "nR:  37\n",
      "**[1] alphabar:  290.089774927342 alpha:  0.9107437359082182 |a|= 17 |z|= 20\n",
      "nR:  37\n",
      "**[2] alphabar:  165.84604177864577 alpha:  1.076589777686864 |a|= 7 |z|= 7  AUTOCATALYTIC!\n",
      "nR:  37\n",
      "**[3] alphabar:  44.415021044695784 alpha:  1.1210047987315597 |a|= 7 |z|= 7  AUTOCATALYTIC!\n",
      "nR:  37\n",
      "**[4] alphabar:  12.37434655089358 alpha:  1.1333791452824535 |a|= 7 |z|= 7  AUTOCATALYTIC!\n",
      "nR:  37\n",
      "**[5] alphabar:  3.4593456599122874 alpha:  1.1368384909419273 |a|= 7 |z|= 7  AUTOCATALYTIC!\n",
      "nR:  37\n",
      "**[6] alphabar:  0.9675829196054968 alpha:  1.137806073861612 |a|= 7 |z|= 7  AUTOCATALYTIC!\n",
      "nR:  37\n",
      "**[7] alphabar:  0.2706641473818081 alpha:  1.1380767380089825 |a|= 7 |z|= 7  AUTOCATALYTIC!\n",
      "nR:  37\n",
      "**[8] alphabar:  0.07571565963405004 alpha:  1.1381524536695735 |a|= 7 |z|= 7  AUTOCATALYTIC!\n",
      "nR:  37\n",
      "**[9] alphabar:  0.02118088366376014 alpha:  1.1381736345525189 |a|= 7 |z|= 7  AUTOCATALYTIC!\n",
      "nR:  37\n",
      "**[10] alphabar:  0.005925205714902404 alpha:  1.1381795597630888 |a|= 7 |z|= 7  AUTOCATALYTIC!\n"
     ]
    },
    {
     "data": {
      "text/plain": [
       "True"
      ]
     },
     "execution_count": 8,
     "metadata": {},
     "output_type": "execute_result"
    }
   ],
   "source": [
    "XX_sn = code.growthRateinSubgraph(output_matrix, input_matrix, 1000)\n",
    "xsol_sn = XX_sn[0]\n",
    "alphasol_sn =XX_sn[1]\n",
    "step_sn = XX_sn[2]\n",
    "time_sn=XX_sn[7]\n",
    "asol_sn=XX_sn[4]\n",
    "ysol_sn=XX_sn[5]\n",
    "zsol_sn=XX_sn[6]\n",
    "\n",
    "# isA_sp, isA_re=IsAutonomous(input_matrix, output_matrix, range(n), range(m))\n",
    "isA_sp_sn, isA_re_sn=IsAutonomous(input_matrix, output_matrix, asol_sn, zsol_sn)\n",
    "# isA=False\n",
    "# if isA_sp and isA_re:\n",
    "#     isA=True\n",
    "isA_sn=False\n",
    "if isA_sp_sn and isA_re_sn:\n",
    "    isA_sn=True\n",
    "isA_sn"
   ]
  },
  {
   "cell_type": "code",
   "execution_count": 9,
   "metadata": {},
   "outputs": [
    {
     "data": {
      "text/plain": [
       "array([[-1.,  0.,  0.,  0.,  0.,  0.,  1.],\n",
       "       [ 1., -1.,  0.,  0.,  0.,  0.,  0.],\n",
       "       [ 0.,  1., -1.,  0.,  0.,  0.,  0.],\n",
       "       [ 0.,  0.,  1., -1.,  0.,  0.,  1.],\n",
       "       [ 0.,  0.,  0.,  0.,  1., -1.,  0.],\n",
       "       [ 0.,  0.,  0.,  1., -1.,  0.,  0.],\n",
       "       [ 0.,  0.,  0.,  0.,  0.,  1., -1.]])"
      ]
     },
     "execution_count": 9,
     "metadata": {},
     "output_type": "execute_result"
    }
   ],
   "source": [
    "cols=[names_cols[r] for r in zsol_sn]\n",
    "rows=[names_rows[s] for s in asol_sn]\n",
    "SM_core=SM[rows,:][:,cols]\n",
    "SM_core"
   ]
  },
  {
   "cell_type": "code",
   "execution_count": 40,
   "metadata": {},
   "outputs": [
    {
     "data": {
      "text/plain": [
       "([1, 2, 3, 4, 6, 7, 11], [0, 1, 2, 4, 5, 8, 37])"
      ]
     },
     "execution_count": 40,
     "metadata": {},
     "output_type": "execute_result"
    }
   ],
   "source": [
    "\n"
   ]
  },
  {
   "cell_type": "code",
   "execution_count": null,
   "metadata": {},
   "outputs": [],
   "source": []
  }
 ],
 "metadata": {
  "kernelspec": {
   "display_name": "base",
   "language": "python",
   "name": "python3"
  },
  "language_info": {
   "codemirror_mode": {
    "name": "ipython",
    "version": 3
   },
   "file_extension": ".py",
   "mimetype": "text/x-python",
   "name": "python",
   "nbconvert_exporter": "python",
   "pygments_lexer": "ipython3",
   "version": "3.9.17"
  }
 },
 "nbformat": 4,
 "nbformat_minor": 2
}
